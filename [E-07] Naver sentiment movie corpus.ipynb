{
 "cells": [
  {
   "cell_type": "markdown",
   "id": "subtle-xerox",
   "metadata": {},
   "source": [
    "# 7. 네이버 영화리뷰 감성분석 도전하기"
   ]
  },
  {
   "cell_type": "markdown",
   "id": "centered-settle",
   "metadata": {},
   "source": [
    "### 0. 사전학습\n",
    "- 사전학습 : <a href=\"https://github.com/e9t/nsmc\">  lms 노드 정리 </a> "
   ]
  },
  {
   "cell_type": "markdown",
   "id": "ignored-davis",
   "metadata": {},
   "source": [
    "<mark><b>[진행 순서]</b>\n",
    "    \n",
    "[준비] 심볼릭 링크 연결\n",
    "- ln -s ~/data/*.txt ~/aiffel/sentiment_classification/data\n",
    "- 영화리뷰 데이터 링크 : <a href=\"https://github.com/e9t/nsmc\"> 바로가기 </a>\n",
    "    \n",
    "1. 데이터 준비와 확인\n",
    "2. 데이터로더 구성\n",
    "- 데이터의 중복 제거\n",
    "- NaN 결측치 제거\n",
    "- 한국어 토크나이저로 토큰화\n",
    "- 불용어(Stopwords) 제거\n",
    "- 사전word_to_index 구성\n",
    "- 텍스트 스트링을 사전 인덱스 스트링으로 변환\n",
    "- X_train, y_train, X_test, y_test, word_to_index 리턴\n",
    "\n",
    "3. 모델구성을 위한 데이터 분석 및 가공\n",
    "- 데이터셋 내 문장 길이 분포\n",
    "- 적절한 최대 문장 길이 지정\n",
    "- keras.preprocessing.sequence.pad_sequences 을 활용한 패딩 추가\n",
    "    \n",
    "4. 모델구성 및 validation set 구성   \n",
    "    \n",
    "5. 모델 훈련 개시\n",
    "\n",
    "6. Loss, Accuracy 그래프 시각화\n",
    "\n",
    "7. 학습된 Embedding 레이어 분석\n",
    "\n",
    "8. 한국어 Word2Vec 임베딩 활용하여 성능개선    "
   ]
  },
  {
   "cell_type": "markdown",
   "id": "hungry-richmond",
   "metadata": {},
   "source": [
    "### 1. 데이터 준비와 확인"
   ]
  },
  {
   "cell_type": "code",
   "execution_count": 1,
   "id": "continental-footwear",
   "metadata": {},
   "outputs": [
    {
     "data": {
      "text/html": [
       "<div>\n",
       "<style scoped>\n",
       "    .dataframe tbody tr th:only-of-type {\n",
       "        vertical-align: middle;\n",
       "    }\n",
       "\n",
       "    .dataframe tbody tr th {\n",
       "        vertical-align: top;\n",
       "    }\n",
       "\n",
       "    .dataframe thead th {\n",
       "        text-align: right;\n",
       "    }\n",
       "</style>\n",
       "<table border=\"1\" class=\"dataframe\">\n",
       "  <thead>\n",
       "    <tr style=\"text-align: right;\">\n",
       "      <th></th>\n",
       "      <th>id</th>\n",
       "      <th>document</th>\n",
       "      <th>label</th>\n",
       "    </tr>\n",
       "  </thead>\n",
       "  <tbody>\n",
       "    <tr>\n",
       "      <th>0</th>\n",
       "      <td>9976970</td>\n",
       "      <td>아 더빙.. 진짜 짜증나네요 목소리</td>\n",
       "      <td>0</td>\n",
       "    </tr>\n",
       "    <tr>\n",
       "      <th>1</th>\n",
       "      <td>3819312</td>\n",
       "      <td>흠...포스터보고 초딩영화줄....오버연기조차 가볍지 않구나</td>\n",
       "      <td>1</td>\n",
       "    </tr>\n",
       "    <tr>\n",
       "      <th>2</th>\n",
       "      <td>10265843</td>\n",
       "      <td>너무재밓었다그래서보는것을추천한다</td>\n",
       "      <td>0</td>\n",
       "    </tr>\n",
       "    <tr>\n",
       "      <th>3</th>\n",
       "      <td>9045019</td>\n",
       "      <td>교도소 이야기구먼 ..솔직히 재미는 없다..평점 조정</td>\n",
       "      <td>0</td>\n",
       "    </tr>\n",
       "    <tr>\n",
       "      <th>4</th>\n",
       "      <td>6483659</td>\n",
       "      <td>사이몬페그의 익살스런 연기가 돋보였던 영화!스파이더맨에서 늙어보이기만 했던 커스틴 ...</td>\n",
       "      <td>1</td>\n",
       "    </tr>\n",
       "  </tbody>\n",
       "</table>\n",
       "</div>"
      ],
      "text/plain": [
       "         id                                           document  label\n",
       "0   9976970                                아 더빙.. 진짜 짜증나네요 목소리      0\n",
       "1   3819312                  흠...포스터보고 초딩영화줄....오버연기조차 가볍지 않구나      1\n",
       "2  10265843                                  너무재밓었다그래서보는것을추천한다      0\n",
       "3   9045019                      교도소 이야기구먼 ..솔직히 재미는 없다..평점 조정      0\n",
       "4   6483659  사이몬페그의 익살스런 연기가 돋보였던 영화!스파이더맨에서 늙어보이기만 했던 커스틴 ...      1"
      ]
     },
     "execution_count": 1,
     "metadata": {},
     "output_type": "execute_result"
    }
   ],
   "source": [
    "# 1. 데이터 준비와 확인\n",
    "\n",
    "import pandas as pd\n",
    "import urllib.request\n",
    "%matplotlib inline\n",
    "import matplotlib.pyplot as plt\n",
    "import re\n",
    "from konlpy.tag import Okt\n",
    "from tensorflow import keras\n",
    "from tensorflow.keras.preprocessing.text import Tokenizer\n",
    "import numpy as np\n",
    "from tensorflow.keras.preprocessing.sequence import pad_sequences\n",
    "from collections import Counter\n",
    "import gensim\n",
    "\n",
    "# 데이터를 읽어봅시다. \n",
    "train_data = pd.read_table('~/aiffel/sentiment_classification/data/ratings_train.txt')\n",
    "test_data = pd.read_table('~/aiffel/sentiment_classification/data/ratings_test.txt')\n",
    "\n",
    "train_data.head()"
   ]
  },
  {
   "cell_type": "markdown",
   "id": "nasty-inspector",
   "metadata": {},
   "source": [
    "### 2. 데이터로더 구성\n",
    "\n",
    "- 데이터의 중복 제거\n",
    "- NaN 결측치 제거\n",
    "- 한국어 토크나이저로 토큰화\n",
    "- 불용어(Stopwords) 제거\n",
    "- 사전word_to_index 구성\n",
    "- 텍스트 스트링을 사전 인덱스 스트링으로 변환\n",
    "- X_train, y_train, X_test, y_test, word_to_index 리턴"
   ]
  },
  {
   "cell_type": "code",
   "execution_count": 2,
   "id": "attached-memorial",
   "metadata": {},
   "outputs": [],
   "source": [
    "from konlpy.tag import Mecab  #konlpy 한국어 자연어 처리를 위한 파이썬 라이브러리\n",
    "\n",
    "tokenizer = Mecab() # mecab() 은전한잎 형태소분석기\n",
    "stopwords = ['의','가','이','은','들','는','좀','잘','걍','과','도','를','으로','자','에','와','한','하다']\n",
    "\n",
    "def load_data(train_data, test_data, num_words=10000):\n",
    "    train_data.drop_duplicates(subset=['document'], inplace=True)\n",
    "    train_data = train_data.dropna(how = 'any') \n",
    "    \n",
    "    test_data.drop_duplicates(subset=['document'], inplace=True)\n",
    "    test_data = test_data.dropna(how = 'any') \n",
    "    \n",
    "    X_train = []  # lms 노드의 x_trin 대소문자 구분\n",
    "    for sentence in train_data['document']:\n",
    "        temp_X = tokenizer.morphs(sentence) # 토큰화\n",
    "        temp_X = [word for word in temp_X if not word in stopwords] # 불용어 제거\n",
    "        X_train.append(temp_X)\n",
    "\n",
    "    X_test = []\n",
    "    for sentence in test_data['document']:\n",
    "        temp_X = tokenizer.morphs(sentence) # 토큰화\n",
    "        temp_X = [word for word in temp_X if not word in stopwords] # 불용어 제거\n",
    "        X_test.append(temp_X)\n",
    "    \n",
    "    words = np.concatenate(X_train).tolist()\n",
    "    counter = Counter(words)\n",
    "    counter = counter.most_common(10000-4) #-4는 인덱스 정의 PAD,BOS,UNK, UNUSE 4개인가?\n",
    "    vocab = ['<PAD>', '<BOS>', '<UNK>', '<UNUSED>'] + [key for key, _ in counter]\n",
    "    word_to_index = {word:index for index, word in enumerate(vocab)} # 텍스트를 숫자로 변경시 {텍스트:인덱스} 구조여야 한다.\n",
    "        \n",
    "    def wordlist_to_indexlist(wordlist):\n",
    "        return [word_to_index[word] if word in word_to_index else word_to_index['<PAD>'] for word in wordlist]\n",
    "        \n",
    "    X_train = list(map(wordlist_to_indexlist, X_train))\n",
    "    X_test = list(map(wordlist_to_indexlist, X_test))\n",
    "        \n",
    "    return X_train, np.array(list(train_data['label'])), X_test, np.array(list(test_data['label'])), word_to_index "
   ]
  },
  {
   "cell_type": "code",
   "execution_count": 3,
   "id": "natural-accreditation",
   "metadata": {},
   "outputs": [],
   "source": [
    "X_train, y_train, X_test, y_test, word_to_index = load_data(train_data, test_data)"
   ]
  },
  {
   "cell_type": "code",
   "execution_count": 4,
   "id": "unexpected-values",
   "metadata": {},
   "outputs": [
    {
     "name": "stdout",
     "output_type": "stream",
     "text": [
      "훈련 샘플 개수: 146182, 테스트 개수: 49157\n"
     ]
    }
   ],
   "source": [
    "print(\"훈련 샘플 개수: {}, 테스트 개수: {}\".format(len(X_train), len(X_test)))"
   ]
  },
  {
   "cell_type": "code",
   "execution_count": 5,
   "id": "executive-affiliate",
   "metadata": {},
   "outputs": [],
   "source": [
    "index_to_word = {index:word for word, index in word_to_index.items()} # 텍스트를 숫자로 변경시 {텍스트:인덱스} 구조여야 한다."
   ]
  },
  {
   "cell_type": "code",
   "execution_count": 6,
   "id": "athletic-tours",
   "metadata": {},
   "outputs": [],
   "source": [
    "# 문장 1개를 활용할 딕셔너리와 함께 주면, 단어 인덱스 리스트 벡터로 변환해 주는 함수. \n",
    "# 단, 모든 문장은 <BOS>로 시작하는 것으로 합니다. \n",
    "def get_encoded_sentence(sentence, word_to_index):\n",
    "    return [word_to_index['<BOS>']]+[word_to_index[word] if word in word_to_index else word_to_index['<UNK>'] for word in sentence.split()]\n",
    "\n",
    "# 여러 개의 문장 리스트를 한꺼번에 단어 인덱스 리스트 벡터로 encode해 주는 함수\n",
    "def get_encoded_sentences(sentences, word_to_index):\n",
    "    return [get_encoded_sentence(sentence, word_to_index) for sentence in sentences]\n",
    "\n",
    "# 숫자 벡터로 encode된 문장을 원래대로 decode하는 함수 \n",
    "def get_decoded_sentence(encoded_sentence, index_to_word):\n",
    "    return ' '.join(index_to_word[index] if index in index_to_word else '<UNK>' for index in encoded_sentence[1:])  #[1:]를 통해 <BOS>를 제외\n",
    "\n",
    "# 여러 개의 숫자 벡터로 encode된 문장을 한꺼번에 원래대로 decode하는 함수\n",
    "def get_decoded_sentences(encoded_sentences, index_to_word):\n",
    "    return [get_decoded_sentence(encoded_sentence, index_to_word) for encoded_sentence in encoded_sentences]"
   ]
  },
  {
   "cell_type": "markdown",
   "id": "classical-scott",
   "metadata": {},
   "source": [
    "### 3. 모델구성을 위한 데이터 분석 및 가공\n",
    "- 데이터셋 내 문장 길이 분포\n",
    "- 적절한 최대 문장 길이 지정\n",
    "- keras.preprocessing.sequence.pad_sequences 을 활용한 패딩 추가"
   ]
  },
  {
   "cell_type": "code",
   "execution_count": 7,
   "id": "powerful-business",
   "metadata": {},
   "outputs": [
    {
     "name": "stdout",
     "output_type": "stream",
     "text": [
      "[32, 74, 919, 4, 4, 39, 228, 20, 33, 748]\n",
      "라벨:  0\n",
      "1번째 리뷰 문장 길이:  10\n",
      "2번째 리뷰 문장 길이:  17\n"
     ]
    }
   ],
   "source": [
    "# 데이터셋 내 문장 길이 확인\n",
    "\n",
    "print(X_train[0])  # 1번째 리뷰데이터\n",
    "print('라벨: ', y_train[0])  # 1번째 리뷰데이터의 라벨\n",
    "print('1번째 리뷰 문장 길이: ', len(X_train[0]))\n",
    "print('2번째 리뷰 문장 길이: ', len(X_train[1]))"
   ]
  },
  {
   "cell_type": "code",
   "execution_count": 8,
   "id": "valuable-pregnancy",
   "metadata": {},
   "outputs": [
    {
     "name": "stdout",
     "output_type": "stream",
     "text": [
      "문장길이 평균 :  15.96940191154864\n",
      "문장길이 최대 :  116\n",
      "문장길이 표준편차 :  12.843571191092\n",
      "pad_sequences maxlen :  41\n",
      "전체 문장의 0.9342988343341575%가 maxlen 설정값 이내에 포함됩니다. \n"
     ]
    }
   ],
   "source": [
    "# IMDB 리뷰 데이터셋과 달리 네이버는 별도의 규칙이 없어 word_to_index, index_to_word 보정(+3을 해야 실제 맵핑 작업) 생략\n",
    "# 케라스 패딩을 위한 도구  pad_sequences() 로 활용(pad_sequences : 앞에 0을 채운다.)\n",
    "\n",
    "total_data_text = list(X_train) + list(X_test)\n",
    "\n",
    "# 텍스트데이터 문장길이의 리스트를 생성한 후\n",
    "num_tokens = [len(tokens) for tokens in total_data_text]\n",
    "num_tokens = np.array(num_tokens)\n",
    "\n",
    "# 문장길이의 평균값, 최대값, 표준편차를 계산해 본다. \n",
    "print('문장길이 평균 : ', np.mean(num_tokens))\n",
    "print('문장길이 최대 : ', np.max(num_tokens))\n",
    "print('문장길이 표준편차 : ', np.std(num_tokens))\n",
    "\n",
    "# 예를들어, 최대 길이를 (평균 + 2*표준편차)로 한다면,  \n",
    "max_tokens = np.mean(num_tokens) + 2 * np.std(num_tokens)\n",
    "maxlen = int(max_tokens)\n",
    "\n",
    "#max_len의 인자로 정수를 주면, 해당 정수로 모든 문서의 길이를 동일하게 하며 값설젇이 전체 모델 성능에 영향\n",
    "print('pad_sequences maxlen : ', maxlen) \n",
    "print('전체 문장의 {}%가 maxlen 설정값 이내에 포함됩니다. '.format(np.sum(num_tokens < max_tokens) / len(num_tokens)))"
   ]
  },
  {
   "cell_type": "code",
   "execution_count": 9,
   "id": "convertible-digit",
   "metadata": {},
   "outputs": [
    {
     "name": "stdout",
     "output_type": "stream",
     "text": [
      "(146182, 41)\n",
      "(49157, 41)\n"
     ]
    }
   ],
   "source": [
    "# padding 방식 변경해 보기 -앞쪽('pre') RNN은 입력데이터가 순차적으로 처리 마지막 입력이 무의미, 'pre'가 훨씬 유리\n",
    "\n",
    "X_train = keras.preprocessing.sequence.pad_sequences(X_train,\n",
    "                                                        value=word_to_index['<PAD>'], #PAD 오류시 2. 데이터 로드 <PAD> 설정 필요\n",
    "                                                        padding='pre',\n",
    "                                                        maxlen=maxlen)\n",
    "\n",
    "X_test = keras.preprocessing.sequence.pad_sequences(X_test,\n",
    "                                                       value=word_to_index['<PAD>'],\n",
    "                                                       padding='pre',\n",
    "                                                       maxlen=maxlen)\n",
    "\n",
    "print(X_train.shape)\n",
    "print(X_test.shape)"
   ]
  },
  {
   "cell_type": "markdown",
   "id": "substantial-india",
   "metadata": {},
   "source": [
    "### 4. 모델구성 및 validation set 구성\n",
    "- 모델 구성 : RNN 모델 LSTM / CNN 모델 GlobalMaxPooling1D, Conv1D\n",
    "- validation set (검증셋) 구성"
   ]
  },
  {
   "cell_type": "code",
   "execution_count": 10,
   "id": "located-sender",
   "metadata": {},
   "outputs": [],
   "source": [
    "# 모델 설계\n",
    "vocab_size = 10000    # 어휘 사전의 크기입니다(10,000개의 단어)\n",
    "word_vector_dim = 41  # 단어 하나를 표현하는 임베딩 벡터의 차원 수입니다."
   ]
  },
  {
   "cell_type": "code",
   "execution_count": 11,
   "id": "chief-booking",
   "metadata": {},
   "outputs": [
    {
     "name": "stdout",
     "output_type": "stream",
     "text": [
      "Model: \"LSTM\"\n",
      "_________________________________________________________________\n",
      "Layer (type)                 Output Shape              Param #   \n",
      "=================================================================\n",
      "embedding (Embedding)        (None, None, 41)          410000    \n",
      "_________________________________________________________________\n",
      "lstm (LSTM)                  (None, 8)                 1600      \n",
      "_________________________________________________________________\n",
      "dense (Dense)                (None, 8)                 72        \n",
      "_________________________________________________________________\n",
      "dense_1 (Dense)              (None, 1)                 9         \n",
      "=================================================================\n",
      "Total params: 411,681\n",
      "Trainable params: 411,681\n",
      "Non-trainable params: 0\n",
      "_________________________________________________________________\n"
     ]
    }
   ],
   "source": [
    "# 1) LSTM 모델\n",
    "model = keras.Sequential(name='LSTM')\n",
    "model.add(keras.layers.Embedding(vocab_size, word_vector_dim, input_shape=(None,)))\n",
    "model.add(keras.layers.LSTM(8))   # 가장 널리 쓰이는 RNN인 LSTM 레이어를 사용하였습니다. 이때 LSTM state 벡터의 차원수는 8로 하였습니다. (변경 가능)\n",
    "model.add(keras.layers.Dense(8, activation='relu'))\n",
    "model.add(keras.layers.Dense(1, activation='sigmoid'))  # 최종 출력은 긍정/부정을 나타내는 1dim 입니다.\n",
    "\n",
    "model.summary()"
   ]
  },
  {
   "cell_type": "code",
   "execution_count": 12,
   "id": "weighted-internet",
   "metadata": {},
   "outputs": [
    {
     "name": "stdout",
     "output_type": "stream",
     "text": [
      "Model: \"GlobalMaxPooling1D\"\n",
      "_________________________________________________________________\n",
      "Layer (type)                 Output Shape              Param #   \n",
      "=================================================================\n",
      "embedding_1 (Embedding)      (None, None, 41)          410000    \n",
      "_________________________________________________________________\n",
      "global_max_pooling1d (Global (None, 41)                0         \n",
      "_________________________________________________________________\n",
      "dense_2 (Dense)              (None, 8)                 336       \n",
      "_________________________________________________________________\n",
      "dense_3 (Dense)              (None, 1)                 9         \n",
      "=================================================================\n",
      "Total params: 410,345\n",
      "Trainable params: 410,345\n",
      "Non-trainable params: 0\n",
      "_________________________________________________________________\n"
     ]
    }
   ],
   "source": [
    "# 2) CNN 계열의 GlobalMaxPooling1D() 활용하기 (정해진 필터 크기에서 최댓값 추출)\n",
    "\n",
    "model = keras.Sequential(name='GlobalMaxPooling1D')\n",
    "model.add(keras.layers.Embedding(vocab_size, word_vector_dim, input_shape=(None,)))\n",
    "model.add(keras.layers.GlobalMaxPooling1D())\n",
    "model.add(keras.layers.Dense(8, activation='relu'))\n",
    "model.add(keras.layers.Dense(1, activation='sigmoid'))  # 최종 출력은 긍정/부정을 나타내는 1dim 입니다.\n",
    "\n",
    "model.summary() "
   ]
  },
  {
   "cell_type": "code",
   "execution_count": 13,
   "id": "welcome-newport",
   "metadata": {},
   "outputs": [
    {
     "name": "stdout",
     "output_type": "stream",
     "text": [
      "Model: \"Conv1D\"\n",
      "_________________________________________________________________\n",
      "Layer (type)                 Output Shape              Param #   \n",
      "=================================================================\n",
      "embedding_2 (Embedding)      (None, None, 41)          410000    \n",
      "_________________________________________________________________\n",
      "conv1d (Conv1D)              (None, None, 16)          4608      \n",
      "_________________________________________________________________\n",
      "max_pooling1d (MaxPooling1D) (None, None, 16)          0         \n",
      "_________________________________________________________________\n",
      "conv1d_1 (Conv1D)            (None, None, 16)          1808      \n",
      "_________________________________________________________________\n",
      "global_max_pooling1d_1 (Glob (None, 16)                0         \n",
      "_________________________________________________________________\n",
      "dense_4 (Dense)              (None, 8)                 136       \n",
      "_________________________________________________________________\n",
      "dense_5 (Dense)              (None, 1)                 9         \n",
      "=================================================================\n",
      "Total params: 416,561\n",
      "Trainable params: 416,561\n",
      "Non-trainable params: 0\n",
      "_________________________________________________________________\n"
     ]
    }
   ],
   "source": [
    "# 3) CNN 계열의 Conv1D 활용하기 (장점 : 병렬처리로 학습속도가 빠름)\n",
    "\n",
    "\n",
    "model = keras.Sequential(name='Conv1D')\n",
    "model.add(keras.layers.Embedding(vocab_size, word_vector_dim, input_shape=(None,)))\n",
    "model.add(keras.layers.Conv1D(16, 7, activation='relu'))\n",
    "model.add(keras.layers.MaxPooling1D(5))\n",
    "model.add(keras.layers.Conv1D(16, 7, activation='relu'))\n",
    "model.add(keras.layers.GlobalMaxPooling1D())\n",
    "model.add(keras.layers.Dense(8, activation='relu'))\n",
    "model.add(keras.layers.Dense(1, activation='sigmoid'))  # 최종 출력은 긍정/부정을 나타내는 1dim 입니다.\n",
    "\n",
    "model.summary()"
   ]
  },
  {
   "cell_type": "code",
   "execution_count": 14,
   "id": "proved-category",
   "metadata": {},
   "outputs": [
    {
     "name": "stdout",
     "output_type": "stream",
     "text": [
      "(66182, 41)\n",
      "(66182,)\n"
     ]
    }
   ],
   "source": [
    "# 훈련용 데이터셋 80000건을 분리하여 검증셋(validation set)으로 사용\n",
    "\n",
    "# 총 146182건 훈련용 데이터중에 80000건 validation set  분리\n",
    "x_val = X_train[:80000]   \n",
    "y_val = y_train[:80000]\n",
    "\n",
    "\n",
    "partial_x_train = X_train[80000:]  \n",
    "partial_y_train = y_train[80000:]\n",
    "\n",
    "print(partial_x_train.shape)\n",
    "print(partial_y_train.shape)"
   ]
  },
  {
   "cell_type": "markdown",
   "id": "graphic-coating",
   "metadata": {},
   "source": [
    "### 5. 모델 훈련 개시"
   ]
  },
  {
   "cell_type": "code",
   "execution_count": 15,
   "id": "appointed-patrol",
   "metadata": {},
   "outputs": [
    {
     "name": "stdout",
     "output_type": "stream",
     "text": [
      "Epoch 1/20\n",
      "130/130 [==============================] - 9s 39ms/step - loss: 0.6392 - accuracy: 0.6314 - val_loss: 0.3769 - val_accuracy: 0.8346\n",
      "Epoch 2/20\n",
      "130/130 [==============================] - 2s 14ms/step - loss: 0.3356 - accuracy: 0.8587 - val_loss: 0.3546 - val_accuracy: 0.8456\n",
      "Epoch 3/20\n",
      "130/130 [==============================] - 2s 14ms/step - loss: 0.2807 - accuracy: 0.8874 - val_loss: 0.3598 - val_accuracy: 0.8460\n",
      "Epoch 4/20\n",
      "130/130 [==============================] - 2s 14ms/step - loss: 0.2394 - accuracy: 0.9077 - val_loss: 0.3738 - val_accuracy: 0.8430\n",
      "Epoch 5/20\n",
      "130/130 [==============================] - 2s 13ms/step - loss: 0.1913 - accuracy: 0.9310 - val_loss: 0.3968 - val_accuracy: 0.8407\n",
      "Epoch 6/20\n",
      "130/130 [==============================] - 2s 13ms/step - loss: 0.1430 - accuracy: 0.9530 - val_loss: 0.4369 - val_accuracy: 0.8389\n",
      "Epoch 7/20\n",
      "130/130 [==============================] - 2s 14ms/step - loss: 0.1015 - accuracy: 0.9691 - val_loss: 0.4903 - val_accuracy: 0.8350\n",
      "Epoch 8/20\n",
      "130/130 [==============================] - 2s 13ms/step - loss: 0.0709 - accuracy: 0.9799 - val_loss: 0.5483 - val_accuracy: 0.8312\n",
      "Epoch 9/20\n",
      "130/130 [==============================] - 2s 14ms/step - loss: 0.0516 - accuracy: 0.9861 - val_loss: 0.5938 - val_accuracy: 0.8306\n",
      "Epoch 10/20\n",
      "130/130 [==============================] - 2s 14ms/step - loss: 0.0406 - accuracy: 0.9897 - val_loss: 0.6510 - val_accuracy: 0.8271\n",
      "Epoch 11/20\n",
      "130/130 [==============================] - 2s 14ms/step - loss: 0.0307 - accuracy: 0.9921 - val_loss: 0.6885 - val_accuracy: 0.8234\n",
      "Epoch 12/20\n",
      "130/130 [==============================] - 2s 14ms/step - loss: 0.0243 - accuracy: 0.9937 - val_loss: 0.7457 - val_accuracy: 0.8237\n",
      "Epoch 13/20\n",
      "130/130 [==============================] - 2s 13ms/step - loss: 0.0192 - accuracy: 0.9948 - val_loss: 0.7732 - val_accuracy: 0.8225\n",
      "Epoch 14/20\n",
      "130/130 [==============================] - 2s 13ms/step - loss: 0.0163 - accuracy: 0.9952 - val_loss: 0.8404 - val_accuracy: 0.8207\n",
      "Epoch 15/20\n",
      "130/130 [==============================] - 2s 14ms/step - loss: 0.0128 - accuracy: 0.9963 - val_loss: 0.8714 - val_accuracy: 0.8198\n",
      "Epoch 16/20\n",
      "130/130 [==============================] - 2s 14ms/step - loss: 0.0110 - accuracy: 0.9969 - val_loss: 0.9243 - val_accuracy: 0.8191\n",
      "Epoch 17/20\n",
      "130/130 [==============================] - 2s 14ms/step - loss: 0.0102 - accuracy: 0.9968 - val_loss: 0.9755 - val_accuracy: 0.8195\n",
      "Epoch 18/20\n",
      "130/130 [==============================] - 2s 14ms/step - loss: 0.0088 - accuracy: 0.9970 - val_loss: 1.0007 - val_accuracy: 0.8191\n",
      "Epoch 19/20\n",
      "130/130 [==============================] - 2s 14ms/step - loss: 0.0070 - accuracy: 0.9973 - val_loss: 1.0320 - val_accuracy: 0.8173\n",
      "Epoch 20/20\n",
      "130/130 [==============================] - 2s 14ms/step - loss: 0.0077 - accuracy: 0.9973 - val_loss: 1.0781 - val_accuracy: 0.8185\n"
     ]
    }
   ],
   "source": [
    "# 모델 학습\n",
    "\n",
    "model.compile(optimizer='adam',\n",
    "              loss='binary_crossentropy',\n",
    "              metrics=['accuracy'])\n",
    "              \n",
    "epochs=20 # 몇 epoch를 훈련하면 좋을지 결과를 보면서 바꾸어 봅시다. \n",
    "\n",
    "history = model.fit(partial_x_train,\n",
    "                    partial_y_train,\n",
    "                    epochs=epochs,\n",
    "                    batch_size=512,\n",
    "                    validation_data=(x_val, y_val),\n",
    "                    verbose=1)"
   ]
  },
  {
   "cell_type": "code",
   "execution_count": 16,
   "id": "identified-compiler",
   "metadata": {},
   "outputs": [
    {
     "name": "stdout",
     "output_type": "stream",
     "text": [
      "1537/1537 - 4s - loss: 1.0969 - accuracy: 0.8156\n",
      "[1.0968801975250244, 0.8155501484870911]\n"
     ]
    }
   ],
   "source": [
    "# 모델 테스트셋으로 평가  \n",
    "results = model.evaluate(X_test,  y_test, verbose=2)\n",
    "\n",
    "print(results)"
   ]
  },
  {
   "cell_type": "markdown",
   "id": "compatible-flight",
   "metadata": {},
   "source": [
    "### 6. Loss, Accuracy 그래프 시각화"
   ]
  },
  {
   "cell_type": "markdown",
   "id": "narrow-editor",
   "metadata": {},
   "source": [
    "<mark><b>[진행 순서]</b>\n",
    "\n",
    "- 그래프 Training and validation loss로 트레이닝 최적점 추정\n",
    "- 그래프 Training and validation accuracy 로 트레이닝 최적점 추정"
   ]
  },
  {
   "cell_type": "code",
   "execution_count": 17,
   "id": "vocational-static",
   "metadata": {},
   "outputs": [
    {
     "data": {
      "image/png": "[encoded data removed]",
      "text/plain": [
       "<Figure size 432x288 with 1 Axes>"
      ]
     },
     "metadata": {
      "needs_background": "light"
     },
     "output_type": "display_data"
    },
    {
     "data": {
      "image/png": "[encoded data removed]",
      "text/plain": [
       "<Figure size 432x288 with 1 Axes>"
      ]
     },
     "metadata": {
      "needs_background": "light"
     },
     "output_type": "display_data"
    }
   ],
   "source": [
    "#그래프 Training and validation loss로 트레이닝 최적점 추정\n",
    "\n",
    "history_dict = history.history\n",
    "\n",
    "acc = history_dict['accuracy']\n",
    "val_acc = history_dict['val_accuracy']\n",
    "loss = history_dict['loss']\n",
    "val_loss = history_dict['val_loss']\n",
    "\n",
    "epochs = range(1, len(acc) + 1)\n",
    "\n",
    "# \"bo\"는 \"파란색 점\"입니다\n",
    "plt.plot(epochs, loss, 'bo', label='Training loss')\n",
    "\n",
    "# b는 \"파란 실선\"입니다\n",
    "plt.plot(epochs, val_loss, 'b', label='Validation loss')\n",
    "plt.title('validation loss')\n",
    "plt.xlabel('Epochs')  \n",
    "plt.ylabel('Loss')\n",
    "plt.legend()\n",
    "\n",
    "plt.show()\n",
    "\n",
    "#그래프 Training and validation accuracy 로 트레이닝 최적점 추정\n",
    "\n",
    "plt.clf()   # 그림을 초기화합니다\n",
    "\n",
    "plt.plot(epochs, acc, 'bo', label='Training acc')\n",
    "plt.plot(epochs, val_acc, 'b', label='Validation acc')\n",
    "plt.title('validation accuracy')\n",
    "plt.xlabel('Epochs')  \n",
    "plt.ylabel('Accuracy')\n",
    "plt.legend()\n",
    "\n",
    "plt.show()"
   ]
  },
  {
   "cell_type": "markdown",
   "id": "arranged-treat",
   "metadata": {},
   "source": [
    "- validation의 loss 그래프에서 epochs 값이 증가할수록 training의 loss 감소\n",
    "- validation의 loss 그래프에서 epochs 값이 증가할수록 validation의 loss 증가\n",
    "- validation의 accuracy 그래프에서 epochs 값이 증가할수록 training acc의  accuracy 증가하다가 유지\n",
    "- validation의 accuracy 그래프에서 epochs 값이 증가할수록  validation acc의 accuracy 일시 증가후 감소 유지"
   ]
  },
  {
   "cell_type": "markdown",
   "id": "tired-garbage",
   "metadata": {},
   "source": [
    "### 7. 학습된 Embedding 레이어 분석"
   ]
  },
  {
   "cell_type": "code",
   "execution_count": 18,
   "id": "protecting-latex",
   "metadata": {},
   "outputs": [
    {
     "name": "stdout",
     "output_type": "stream",
     "text": [
      "(10000, 41)\n"
     ]
    }
   ],
   "source": [
    "# 한국어 Word2Vec 임베딩 활용하여 성능개선\n",
    "\n",
    "embedding_layer = model.layers[0]\n",
    "weights = embedding_layer.get_weights()[0]\n",
    "print(weights.shape)    # shape: (vocab_size, embedding_dim)"
   ]
  },
  {
   "cell_type": "code",
   "execution_count": 19,
   "id": "white-train",
   "metadata": {},
   "outputs": [],
   "source": [
    "import os\n",
    "\n",
    "# 학습한 Embedding 파라미터를 파일에 써서 저장합니다. \n",
    "word2vec_file_path = os.getenv('HOME')+'/aiffel/sentiment_classification/data/word2vec.txt'\n",
    "f = open(word2vec_file_path, 'w')\n",
    "f.write('{} {}\\n'.format(vocab_size-4, word_vector_dim))  # 몇개의 벡터를 얼마 사이즈로 기재할지 타이틀을 씁니다.\n",
    "\n",
    "# 단어 개수(에서 특수문자 4개는 제외하고)만큼의 워드 벡터를 파일에 기록 \n",
    "vectors = model.get_weights()[0]\n",
    "for i in range(4,vocab_size):\n",
    "    f.write('{} {}\\n'.format(index_to_word[i], ' '.join(map(str, list(vectors[i, :])))))\n",
    "f.close()"
   ]
  },
  {
   "cell_type": "code",
   "execution_count": 20,
   "id": "ignored-development",
   "metadata": {},
   "outputs": [
    {
     "data": {
      "text/plain": [
       "array([ 0.05663612, -0.08699958,  0.05780187,  0.07864043, -0.04940485,\n",
       "        0.20793457,  0.01926316,  0.08891852, -0.04394628,  0.07271011,\n",
       "       -0.06528407,  0.02669313,  0.12130702,  0.00312114,  0.01767844,\n",
       "        0.04066906, -0.03913803,  0.01345666,  0.05978143, -0.02426713,\n",
       "       -0.03113683,  0.09544107, -0.09680764,  0.07145077, -0.02347419,\n",
       "        0.05153616,  0.06839513, -0.03140923, -0.05378296,  0.01341095,\n",
       "       -0.07600945, -0.04708351,  0.03415855,  0.02281346,  0.08404466,\n",
       "       -0.05248936,  0.0237732 ,  0.11948896,  0.09571345, -0.05268247,\n",
       "        0.08005922], dtype=float32)"
      ]
     },
     "execution_count": 20,
     "metadata": {},
     "output_type": "execute_result"
    }
   ],
   "source": [
    "from gensim.models.keyedvectors import Word2VecKeyedVectors\n",
    "\n",
    "word_vectors = Word2VecKeyedVectors.load_word2vec_format(word2vec_file_path, binary=False)\n",
    "vector = word_vectors['재미']\n",
    "vector"
   ]
  },
  {
   "cell_type": "code",
   "execution_count": 21,
   "id": "creative-constraint",
   "metadata": {},
   "outputs": [
    {
     "data": {
      "text/plain": [
       "[('특별', 0.5941540598869324),\n",
       " ('걱정', 0.5788195729255676),\n",
       " ('스파이', 0.5645768046379089),\n",
       " ('송강호', 0.5641075968742371),\n",
       " ('때리', 0.5491730570793152),\n",
       " ('경', 0.5460623502731323),\n",
       " ('새롭', 0.5387253165245056),\n",
       " ('해운대', 0.5370370149612427),\n",
       " ('동화책', 0.5369858741760254),\n",
       " ('당', 0.5348315238952637)]"
      ]
     },
     "execution_count": 21,
     "metadata": {},
     "output_type": "execute_result"
    }
   ],
   "source": [
    "word_vectors.similar_by_word(\"재미\")"
   ]
  },
  {
   "cell_type": "code",
   "execution_count": 22,
   "id": "located-andrew",
   "metadata": {},
   "outputs": [
    {
     "data": {
      "text/plain": [
       "[('거늘', 0.7884586453437805),\n",
       " ('연쇄', 0.7711998820304871),\n",
       " ('전용', 0.7695522308349609),\n",
       " ('괴상', 0.7682079076766968),\n",
       " ('별개', 0.7625026702880859),\n",
       " ('김고은', 0.7608113288879395),\n",
       " ('퇴', 0.7604967355728149),\n",
       " ('잔치', 0.7596117854118347),\n",
       " ('졸작', 0.7570698261260986),\n",
       " ('드만', 0.7570661902427673)]"
      ]
     },
     "execution_count": 22,
     "metadata": {},
     "output_type": "execute_result"
    }
   ],
   "source": [
    "word_vectors.similar_by_word(\"짜증\")"
   ]
  },
  {
   "cell_type": "markdown",
   "id": "possible-north",
   "metadata": {},
   "source": [
    "### 8. 한국어 Word2Vec 임베딩 활용하여 성능개선"
   ]
  },
  {
   "cell_type": "code",
   "execution_count": 23,
   "id": "indirect-wales",
   "metadata": {
    "scrolled": true
   },
   "outputs": [
    {
     "name": "stderr",
     "output_type": "stream",
     "text": [
      "/opt/conda/lib/python3.7/site-packages/ipykernel_launcher.py:5: DeprecationWarning: Call to deprecated `__getitem__` (Method will be removed in 4.0.0, use self.wv.__getitem__() instead).\n",
      "  \"\"\"\n"
     ]
    },
    {
     "data": {
      "text/plain": [
       "(200,)"
      ]
     },
     "execution_count": 23,
     "metadata": {},
     "output_type": "execute_result"
    }
   ],
   "source": [
    "from gensim.models import KeyedVectors\n",
    "\n",
    "word2vec_path = os.getenv('HOME')+'/aiffel/sentiment_classification/data/ko.bin'\n",
    "word2vec = gensim.models.Word2Vec.load(word2vec_path)\n",
    "vector = word2vec['재미']\n",
    "vector.shape"
   ]
  },
  {
   "cell_type": "code",
   "execution_count": 24,
   "id": "rolled-carroll",
   "metadata": {
    "scrolled": true
   },
   "outputs": [
    {
     "name": "stderr",
     "output_type": "stream",
     "text": [
      "/opt/conda/lib/python3.7/site-packages/ipykernel_launcher.py:2: DeprecationWarning: Call to deprecated `similar_by_word` (Method will be removed in 4.0.0, use self.wv.similar_by_word() instead).\n",
      "  \n"
     ]
    },
    {
     "data": {
      "text/plain": [
       "[('취미', 0.5857348442077637),\n",
       " ('유머', 0.5140613913536072),\n",
       " ('매력', 0.5105490684509277),\n",
       " ('흥미', 0.4988338351249695),\n",
       " ('공짜', 0.4960595667362213),\n",
       " ('일자리', 0.49294644594192505),\n",
       " ('즐거움', 0.48700767755508423),\n",
       " ('비애', 0.4836210310459137),\n",
       " ('관객', 0.48286449909210205),\n",
       " ('향수', 0.4823310971260071)]"
      ]
     },
     "execution_count": 24,
     "metadata": {},
     "output_type": "execute_result"
    }
   ],
   "source": [
    "# 메모리를 다소 많이 소비하는 작업이니 유의해 주세요.\n",
    "word2vec.similar_by_word(\"재미\")"
   ]
  },
  {
   "cell_type": "code",
   "execution_count": 25,
   "id": "automotive-welcome",
   "metadata": {},
   "outputs": [
    {
     "name": "stderr",
     "output_type": "stream",
     "text": [
      "/opt/conda/lib/python3.7/site-packages/ipykernel_launcher.py:8: DeprecationWarning: Call to deprecated `__contains__` (Method will be removed in 4.0.0, use self.wv.__contains__() instead).\n",
      "  \n",
      "/opt/conda/lib/python3.7/site-packages/ipykernel_launcher.py:9: DeprecationWarning: Call to deprecated `__getitem__` (Method will be removed in 4.0.0, use self.wv.__getitem__() instead).\n",
      "  if __name__ == '__main__':\n"
     ]
    }
   ],
   "source": [
    "vocab_size = 10000    # 어휘 사전의 크기입니다(10,000개의 단어)\n",
    "word_vector_dim = 200  # 워드 벡터의 차원수 (변경가능한 하이퍼파라미터)\n",
    "\n",
    "embedding_matrix = np.random.rand(vocab_size, word_vector_dim)\n",
    "\n",
    "# embedding_matrix에 Word2Vec 워드 벡터를 단어 하나씩마다 차례차례 카피한다.\n",
    "for i in range(4,vocab_size):\n",
    "    if index_to_word[i] in word2vec:\n",
    "        embedding_matrix[i] = word2vec[index_to_word[i]]"
   ]
  },
  {
   "cell_type": "code",
   "execution_count": 26,
   "id": "qualified-alfred",
   "metadata": {},
   "outputs": [
    {
     "name": "stdout",
     "output_type": "stream",
     "text": [
      "Model: \"sequential\"\n",
      "_________________________________________________________________\n",
      "Layer (type)                 Output Shape              Param #   \n",
      "=================================================================\n",
      "embedding_3 (Embedding)      (None, 41, 200)           2000000   \n",
      "_________________________________________________________________\n",
      "conv1d_2 (Conv1D)            (None, 35, 16)            22416     \n",
      "_________________________________________________________________\n",
      "max_pooling1d_1 (MaxPooling1 (None, 7, 16)             0         \n",
      "_________________________________________________________________\n",
      "conv1d_3 (Conv1D)            (None, 1, 16)             1808      \n",
      "_________________________________________________________________\n",
      "global_max_pooling1d_2 (Glob (None, 16)                0         \n",
      "_________________________________________________________________\n",
      "dense_6 (Dense)              (None, 8)                 136       \n",
      "_________________________________________________________________\n",
      "dense_7 (Dense)              (None, 1)                 9         \n",
      "=================================================================\n",
      "Total params: 2,024,369\n",
      "Trainable params: 2,024,369\n",
      "Non-trainable params: 0\n",
      "_________________________________________________________________\n"
     ]
    }
   ],
   "source": [
    "from tensorflow.keras.initializers import Constant\n",
    "\n",
    "vocab_size = 10000    # 어휘 사전의 크기입니다(10,000개의 단어)\n",
    "word_vector_dim = 200  # 워드 벡터의 차원 수 (변경가능한 하이퍼파라미터)\n",
    "\n",
    "# 모델 구성\n",
    "model = keras.Sequential()\n",
    "model.add(keras.layers.Embedding(vocab_size, \n",
    "                                 word_vector_dim, \n",
    "                                 embeddings_initializer=Constant(embedding_matrix),  # 카피한 임베딩을 여기서 활용\n",
    "                                 input_length=maxlen, \n",
    "                                 trainable=True))   # trainable을 True로 주면 Fine-tuning\n",
    "model.add(keras.layers.Conv1D(16, 7, activation='relu'))\n",
    "model.add(keras.layers.MaxPooling1D(5))\n",
    "model.add(keras.layers.Conv1D(16, 7, activation='relu'))\n",
    "model.add(keras.layers.GlobalMaxPooling1D())\n",
    "model.add(keras.layers.Dense(8, activation='relu'))\n",
    "model.add(keras.layers.Dense(1, activation='sigmoid')) \n",
    "\n",
    "model.summary()"
   ]
  },
  {
   "cell_type": "code",
   "execution_count": 27,
   "id": "lined-ethnic",
   "metadata": {},
   "outputs": [
    {
     "name": "stdout",
     "output_type": "stream",
     "text": [
      "Epoch 1/20\n",
      "130/130 [==============================] - 8s 49ms/step - loss: 0.6753 - accuracy: 0.5607 - val_loss: 0.5447 - val_accuracy: 0.7256\n",
      "Epoch 2/20\n",
      "130/130 [==============================] - 4s 32ms/step - loss: 0.4923 - accuracy: 0.7636 - val_loss: 0.4375 - val_accuracy: 0.7990\n",
      "Epoch 3/20\n",
      "130/130 [==============================] - 4s 32ms/step - loss: 0.3897 - accuracy: 0.8302 - val_loss: 0.4012 - val_accuracy: 0.8213\n",
      "Epoch 4/20\n",
      "130/130 [==============================] - 4s 32ms/step - loss: 0.3276 - accuracy: 0.8627 - val_loss: 0.3804 - val_accuracy: 0.8338\n",
      "Epoch 5/20\n",
      "130/130 [==============================] - 4s 32ms/step - loss: 0.2884 - accuracy: 0.8821 - val_loss: 0.3774 - val_accuracy: 0.8372\n",
      "Epoch 6/20\n",
      "130/130 [==============================] - 4s 32ms/step - loss: 0.2567 - accuracy: 0.8984 - val_loss: 0.3845 - val_accuracy: 0.8376\n",
      "Epoch 7/20\n",
      "130/130 [==============================] - 4s 32ms/step - loss: 0.2295 - accuracy: 0.9107 - val_loss: 0.4023 - val_accuracy: 0.8349\n",
      "Epoch 8/20\n",
      "130/130 [==============================] - 4s 32ms/step - loss: 0.2020 - accuracy: 0.9253 - val_loss: 0.4168 - val_accuracy: 0.8351\n",
      "Epoch 9/20\n",
      "130/130 [==============================] - 4s 32ms/step - loss: 0.1781 - accuracy: 0.9345 - val_loss: 0.4568 - val_accuracy: 0.8242\n",
      "Epoch 10/20\n",
      "130/130 [==============================] - 4s 32ms/step - loss: 0.1620 - accuracy: 0.9427 - val_loss: 0.4711 - val_accuracy: 0.8306\n",
      "Epoch 11/20\n",
      "130/130 [==============================] - 4s 32ms/step - loss: 0.1332 - accuracy: 0.9553 - val_loss: 0.5076 - val_accuracy: 0.8250\n",
      "Epoch 12/20\n",
      "130/130 [==============================] - 4s 32ms/step - loss: 0.1198 - accuracy: 0.9616 - val_loss: 0.5330 - val_accuracy: 0.8280\n",
      "Epoch 13/20\n",
      "130/130 [==============================] - 4s 32ms/step - loss: 0.1000 - accuracy: 0.9706 - val_loss: 0.5710 - val_accuracy: 0.8249\n",
      "Epoch 14/20\n",
      "130/130 [==============================] - 4s 32ms/step - loss: 0.0896 - accuracy: 0.9746 - val_loss: 0.5966 - val_accuracy: 0.8236\n",
      "Epoch 15/20\n",
      "130/130 [==============================] - 4s 32ms/step - loss: 0.0761 - accuracy: 0.9793 - val_loss: 0.6534 - val_accuracy: 0.8223\n",
      "Epoch 16/20\n",
      "130/130 [==============================] - 4s 32ms/step - loss: 0.0725 - accuracy: 0.9811 - val_loss: 0.6680 - val_accuracy: 0.8219\n",
      "Epoch 17/20\n",
      "130/130 [==============================] - 4s 32ms/step - loss: 0.0585 - accuracy: 0.9845 - val_loss: 0.7004 - val_accuracy: 0.8218\n",
      "Epoch 18/20\n",
      "130/130 [==============================] - 4s 32ms/step - loss: 0.0559 - accuracy: 0.9853 - val_loss: 0.7612 - val_accuracy: 0.8207\n",
      "Epoch 19/20\n",
      "130/130 [==============================] - 4s 32ms/step - loss: 0.0473 - accuracy: 0.9883 - val_loss: 0.7900 - val_accuracy: 0.8182\n",
      "Epoch 20/20\n",
      "130/130 [==============================] - 4s 32ms/step - loss: 0.0435 - accuracy: 0.9897 - val_loss: 0.8557 - val_accuracy: 0.8180\n"
     ]
    }
   ],
   "source": [
    "# 학습의 진행\n",
    "model.compile(optimizer='adam',\n",
    "              loss='binary_crossentropy',\n",
    "              metrics=['accuracy'])\n",
    "              \n",
    "epochs=20  # 몇 epoch를 훈련하면 좋을지 결과를 보면서 바꾸어 봅시다. \n",
    "\n",
    "history = model.fit(partial_x_train,\n",
    "                    partial_y_train,\n",
    "                    epochs=epochs,\n",
    "                    batch_size=512,\n",
    "                    validation_data=(x_val, y_val),\n",
    "                    verbose=1)"
   ]
  },
  {
   "cell_type": "code",
   "execution_count": 28,
   "id": "hidden-minnesota",
   "metadata": {},
   "outputs": [
    {
     "data": {
      "image/png": "[encoded data removed]",
      "text/plain": [
       "<Figure size 432x288 with 1 Axes>"
      ]
     },
     "metadata": {
      "needs_background": "light"
     },
     "output_type": "display_data"
    },
    {
     "data": {
      "image/png": "[encoded data removed]",
      "text/plain": [
       "<Figure size 432x288 with 1 Axes>"
      ]
     },
     "metadata": {
      "needs_background": "light"
     },
     "output_type": "display_data"
    }
   ],
   "source": [
    "#그래프 Training and validation loss로 트레이닝 최적점 추정\n",
    "\n",
    "history_dict = history.history\n",
    "\n",
    "acc = history_dict['accuracy']\n",
    "val_acc = history_dict['val_accuracy']\n",
    "loss = history_dict['loss']\n",
    "val_loss = history_dict['val_loss']\n",
    "\n",
    "epochs = range(1, len(acc) + 1)\n",
    "\n",
    "# \"bo\"는 \"파란색 점\"입니다\n",
    "plt.plot(epochs, loss, 'bo', label='Training loss')\n",
    "\n",
    "# b는 \"파란 실선\"입니다\n",
    "plt.plot(epochs, val_loss, 'b', label='Validation loss')\n",
    "plt.title('validation loss')\n",
    "plt.xlabel('Epochs')  \n",
    "plt.ylabel('Loss')\n",
    "plt.legend()\n",
    "\n",
    "plt.show()\n",
    "\n",
    "#그래프 Training and validation accuracy 로 트레이닝 최적점 추정\n",
    "\n",
    "plt.clf()   # 그림을 초기화합니다\n",
    "\n",
    "plt.plot(epochs, acc, 'bo', label='Training acc')\n",
    "plt.plot(epochs, val_acc, 'b', label='Validation acc')\n",
    "plt.title('validation accuracy')\n",
    "plt.xlabel('Epochs')  \n",
    "plt.ylabel('Accuracy')\n",
    "plt.legend()\n",
    "\n",
    "plt.show()"
   ]
  },
  {
   "cell_type": "code",
   "execution_count": 30,
   "id": "environmental-translator",
   "metadata": {},
   "outputs": [
    {
     "name": "stdout",
     "output_type": "stream",
     "text": [
      "1537/1537 - 4s - loss: 0.9029 - accuracy: 0.8125\n",
      "[0.9028906226158142, 0.8124987483024597]\n"
     ]
    }
   ],
   "source": [
    "# 테스트셋을 통한 모델 평가\n",
    "results = model.evaluate(X_test,  y_test, verbose=2)\n",
    "\n",
    "print(results)"
   ]
  },
  {
   "cell_type": "markdown",
   "id": "brutal-allen",
   "metadata": {},
   "source": [
    "## 회고\n",
    "1. gensim name 에러로 문제 발생 -> 버전 업데이트 pip install -U gensim==3.8.3 -> import gensim 으로 처리\n",
    "2. 5. 모델 훈련 개시에서 데이터셋의 val_loss 값이 거의 1.0867 나와서 test 진행\n",
    "- 데이터셋 1만 단위인 경우 accuracy 0.8221로 노출\n",
    "  val_loss 값이 거의 1.0867로 거의 나와서, 빈 데이터가 많이 있지 않을까 해서 데이터셋을 8만으로 변경 시도\n",
    "- 데이터셋 8만 단위인 경우 0.8087로 노출로 정확도는 떨어졌지만 val_loss 는 Epoch가 낮을수록 loss가 감소된것을 확인 할수 있었음.\n",
    "3. Word2Vec 반영후 validation의 loss 그래프에서 y축의 loss가 최대 1.0 에서 0.8로 줄었다. 성능 향상!!\n",
    "4. Word2Vec 반영후 그래프에서 training loss의 파란색 점들이  균일하게 보정된것 같이 보인다."
   ]
  }
 ],
 "metadata": {
  "kernelspec": {
   "display_name": "Python 3",
   "language": "python",
   "name": "python3"
  },
  "language_info": {
   "codemirror_mode": {
    "name": "ipython",
    "version": 3
   },
   "file_extension": ".py",
   "mimetype": "text/x-python",
   "name": "python",
   "nbconvert_exporter": "python",
   "pygments_lexer": "ipython3",
   "version": "3.7.9"
  }
 },
 "nbformat": 4,
 "nbformat_minor": 5
}
