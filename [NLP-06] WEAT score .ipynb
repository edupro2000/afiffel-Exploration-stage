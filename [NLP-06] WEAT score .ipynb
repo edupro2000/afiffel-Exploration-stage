{
 "cells": [
  {
   "cell_type": "markdown",
   "id": "distant-certificate",
   "metadata": {},
   "source": [
    "# 프로젝트 : 모든 장르 간 편향성 측정해 보기"
   ]
  },
  {
   "cell_type": "markdown",
   "id": "featured-tobago",
   "metadata": {},
   "source": [
    "- 지금까지 우리는 영화 시놉시스 코퍼스를 가지고 영화 구분과 영화 장르 간에 내재된 편향성을 측정하는 작업을 진행해 보았습니다. \n",
    "- 어느 정도는 우리의 상식과 일치하는 편향성이 측정되었을 것입니다.\n",
    "- 이번에는 모든 장르에 대해 영화 구분과의 편향성 정도를 측정해 보겠습니다. \n",
    "- 대부분의 과정은 이전 스텝에서 이미 진행한 내용을 참고해서 동일하게 진행 가능할 것입니다."
   ]
  },
  {
   "cell_type": "markdown",
   "id": "interstate-flashing",
   "metadata": {},
   "source": [
    "### 순서\n",
    "- STEP 1. 형태소 분석기를 이용하여 품사가 명사인 경우 해당 단어를 추출하기\n",
    "- STEP 2. 추출된 결과로 embedding model 만들기\n",
    "- STEP 3. target, attribute 단어 셋 만들기\n",
    "    - TF-IDF를 적용했을 때의 문제점이 무엇인지 지적 가능하다면 그 문제점을 지적하고 스스로 방법을 개선하여 대표 단어 셋을 구축\n",
    "- STEP 4. WEAT score 계산과 시각화"
   ]
  },
  {
   "cell_type": "markdown",
   "id": "average-improvement",
   "metadata": {},
   "source": [
    "### STEP 1. 형태소 분석기를 이용하여 품사가 명사인 경우 해당 단어를 추출하기"
   ]
  },
  {
   "cell_type": "code",
   "execution_count": 1,
   "id": "bronze-clinic",
   "metadata": {},
   "outputs": [
    {
     "name": "stdout",
     "output_type": "stream",
     "text": [
      "사운드 엔지니어 상우(유지태 분)는 치매에 걸린 할머니(백성희 분)와\n",
      " 젊은 시절 상처한 한 아버지(박인환 분), 고모(신신애 분)와 함께 살고 있다.\n",
      " 어느 겨울 그는 지방 방송국 라디오 PD 은수(이영애 분)를 만난다.\n",
      " 자연의 소리를 채집해 틀어주는 라디오 프로그램을 준비하는 은수는 상우와 녹음 여행을 떠난다.\n",
      " 자연스레 가까워지는 두 사람은 어느 날, 은수의 아파트에서 밤을 보낸다.\n"
     ]
    }
   ],
   "source": [
    "#  synopsis.txt의 일부를 읽어보기\n",
    "\n",
    "import os\n",
    "\n",
    "with open(os.getenv('HOME')+'/aiffel/weat/synopsis.txt', 'r') as file:\n",
    "    for i in range(5):\n",
    "        print(file.readline(), end='')"
   ]
  },
  {
   "cell_type": "code",
   "execution_count": 2,
   "id": "worse-edinburgh",
   "metadata": {},
   "outputs": [
    {
     "name": "stdout",
     "output_type": "stream",
     "text": [
      "슝~\n"
     ]
    }
   ],
   "source": [
    "# synopsis.txt 파일을 읽어 품사가 명사인 경우만 남겨 tokenized라는 변수명으로 저장\n",
    "\n",
    "from konlpy.tag import Okt\n",
    "okt = Okt()\n",
    "tokenized = []  #품사가 명사인 경우만 변수에 저장\n",
    "with open(os.getenv('HOME')+'/aiffel/weat/synopsis.txt', 'r') as file:\n",
    "    while True:\n",
    "        line = file.readline()\n",
    "        if not line: break\n",
    "        words = okt.pos(line, stem=True, norm=True)\n",
    "        res = []  # 응답객체\n",
    "        for w in words:\n",
    "            if w[1] in [\"Noun\"]:      # \"Adjective\", \"Verb\" 등을 포함할 수도 있습니다.\n",
    "                res.append(w[0])    # 명사일 때만 tokenized 에 저장하게 됩니다. \n",
    "        tokenized.append(res)\n",
    "\n",
    "print(\"슝~\")"
   ]
  },
  {
   "cell_type": "code",
   "execution_count": 3,
   "id": "naval-threat",
   "metadata": {},
   "outputs": [
    {
     "name": "stdout",
     "output_type": "stream",
     "text": [
      "71156\n"
     ]
    }
   ],
   "source": [
    "print(len(tokenized))"
   ]
  },
  {
   "cell_type": "markdown",
   "id": "controversial-yugoslavia",
   "metadata": {},
   "source": [
    "### STEP 2. 추출된 결과로 embedding model 만들기"
   ]
  },
  {
   "cell_type": "code",
   "execution_count": 4,
   "id": "floating-momentum",
   "metadata": {},
   "outputs": [
    {
     "name": "stderr",
     "output_type": "stream",
     "text": [
      "/opt/conda/lib/python3.7/site-packages/gensim/similarities/__init__.py:15: UserWarning: The gensim.similarities.levenshtein submodule is disabled, because the optional Levenshtein package <https://pypi.org/project/python-Levenshtein/> is unavailable. Install Levenhstein (e.g. `pip install python-Levenshtein`) to suppress this warning.\n",
      "  warnings.warn(msg)\n"
     ]
    },
    {
     "data": {
      "text/plain": [
       "[('작품', 0.8827558755874634),\n",
       " ('다큐멘터리', 0.8424476981163025),\n",
       " ('드라마', 0.8220523595809937),\n",
       " ('영화로', 0.8014294505119324),\n",
       " ('코미디', 0.7963934540748596),\n",
       " ('형식', 0.7823663949966431),\n",
       " ('주제', 0.7719240784645081),\n",
       " ('소재', 0.7681858539581299),\n",
       " ('스토리', 0.7654461860656738),\n",
       " ('감동', 0.7644698619842529)]"
      ]
     },
     "execution_count": 4,
     "metadata": {},
     "output_type": "execute_result"
    }
   ],
   "source": [
    "from gensim.models import Word2Vec\n",
    "\n",
    "# tokenized에 담긴 데이터를 가지고 나만의 Word2Vec을 생성합니다. (Gensim 4.0 기준)\n",
    "model = Word2Vec(tokenized, vector_size=100, window=5, min_count=3, sg=0)  \n",
    "model.wv.most_similar(positive=['영화'])"
   ]
  },
  {
   "cell_type": "code",
   "execution_count": 5,
   "id": "advised-limit",
   "metadata": {},
   "outputs": [
    {
     "data": {
      "text/plain": [
       "[('시빌라', 0.735916018486023),\n",
       " ('행복', 0.7099601626396179),\n",
       " ('첫사랑', 0.7000086307525635),\n",
       " ('애정', 0.6973126530647278),\n",
       " ('연애', 0.6898577213287354),\n",
       " ('진심', 0.6893284916877747),\n",
       " ('이별', 0.6888149380683899),\n",
       " ('토마슈', 0.6774667501449585),\n",
       " ('우정', 0.6749960780143738),\n",
       " ('운명', 0.6711017489433289)]"
      ]
     },
     "execution_count": 5,
     "metadata": {},
     "output_type": "execute_result"
    }
   ],
   "source": [
    "model.wv.most_similar(positive=['사랑']) #positive 함수는 리스트를 입력값으로 받아 각각의 요소를 판별해서 양수 값만 돌려주는 함수"
   ]
  },
  {
   "cell_type": "code",
   "execution_count": 6,
   "id": "stunning-proposition",
   "metadata": {},
   "outputs": [
    {
     "data": {
      "text/plain": [
       "[('영화감독', 0.8787387609481812),\n",
       " ('시나리오', 0.8721884489059448),\n",
       " ('연기자', 0.8707054853439331),\n",
       " ('캐스팅', 0.8655997514724731),\n",
       " ('대본', 0.8593947291374207),\n",
       " ('영감', 0.8578363060951233),\n",
       " ('배우', 0.8576148152351379),\n",
       " ('연기', 0.8573223948478699),\n",
       " ('무용', 0.8491141200065613),\n",
       " ('행위예술', 0.8487892150878906)]"
      ]
     },
     "execution_count": 6,
     "metadata": {},
     "output_type": "execute_result"
    }
   ],
   "source": [
    "model.wv.most_similar(positive=['연극']) #positive 함수는 리스트를 입력값으로 받아 각각의 요소를 판별해서 양수 값만 돌려주는 함수"
   ]
  },
  {
   "cell_type": "markdown",
   "id": "arctic-locator",
   "metadata": {},
   "source": [
    "### STEP 3. target, attribute 단어 셋 만들기\n",
    "이전 스텝에서는 TF-IDF를 사용해서 단어 셋을 만들었습니다. 이 방법으로도 어느 정도는 대표 단어를 잘 선정할 수 있습니다. 그러나 TF-IDF가 높은 단어를 골랐음에도 불구하고 중복되는 단어가 발생하는 문제가 있었습니다. 개념축을 표현하는 단어가 제대로 선정되지 않은 것은 WEAT 계산 결과에 악영향을 미칩니다.\n",
    "\n",
    "TF-IDF를 적용했을 때의 문제점이 무엇인지 지적 가능하다면 그 문제점을 지적하고 스스로 방법을 개선하여 대표 단어 셋을 구축해 보기 바랍니다. TF-IDF 방식을 쓰더라도 중복된 단어를 잘 제거하면 여전히 유용한 방식이 될 수 있습니다."
   ]
  },
  {
   "cell_type": "markdown",
   "id": "tamil-african",
   "metadata": {},
   "source": [
    "#### TF/IDF로 해당 데이터를 가장 잘 표현하는 단어 셋 만들기"
   ]
  },
  {
   "cell_type": "code",
   "execution_count": 7,
   "id": "confident-quantum",
   "metadata": {},
   "outputs": [
    {
     "name": "stdout",
     "output_type": "stream",
     "text": [
      "슝~\n"
     ]
    }
   ],
   "source": [
    "# 'synopsis_art.txt', 'synopsis_gen.txt' 두 파일을 읽고 명사 추출\n",
    "\n",
    "import os\n",
    "from sklearn.feature_extraction.text import TfidfVectorizer\n",
    "import numpy as np\n",
    "from konlpy.tag import Okt\n",
    "\n",
    "art_txt = 'synopsis_art.txt'\n",
    "gen_txt = 'synopsis_gen.txt'\n",
    "\n",
    "def read_token(file_name):\n",
    "    okt = Okt()\n",
    "    result = []\n",
    "    with open(os.getenv('HOME')+'/aiffel/weat/'+file_name, 'r') as fread: #fread 큰 용량의 외부 데이터도 빠르게 불러올 수 있다.\n",
    "        print(file_name, '파일을 읽고 있습니다.')\n",
    "        while True:\n",
    "            line = fread.readline() \n",
    "            if not line: break \n",
    "            tokenlist = okt.pos(line, stem=True, norm=True) \n",
    "            for word in tokenlist:\n",
    "                if word[1] in [\"Noun\"]:#, Adjective(형용사)\", \"Verb(동사)\"]:\n",
    "                    result.append((word[0])) \n",
    "    return ' '.join(result)\n",
    "\n",
    "print(\"슝~\")"
   ]
  },
  {
   "cell_type": "markdown",
   "id": "faced-summit",
   "metadata": {},
   "source": [
    "- 참고 :  <a href=\"https://datascienceschool.net/03%20machine%20learning/03.01.02%20KoNLPy%20%ED%95%9C%EA%B5%AD%EC%96%B4%20%EC%B2%98%EB%A6%AC%20%ED%8C%A8%ED%82%A4%EC%A7%80.html\" target=\"_blank\"> KoNLPy 한국어 처리 패키지 품사 태그의 기호와 의미 tagset속성 </a>"
   ]
  },
  {
   "cell_type": "code",
   "execution_count": 8,
   "id": "drawn-motion",
   "metadata": {},
   "outputs": [
    {
     "name": "stdout",
     "output_type": "stream",
     "text": [
      "synopsis_art.txt 파일을 읽고 있습니다.\n",
      "synopsis_gen.txt 파일을 읽고 있습니다.\n"
     ]
    }
   ],
   "source": [
    "# 2개의 파일을 처리하는데 10분 가량 걸립니다. \n",
    "art = read_token(art_txt)\n",
    "gen = read_token(gen_txt)"
   ]
  },
  {
   "cell_type": "code",
   "execution_count": 9,
   "id": "paperback-acrobat",
   "metadata": {},
   "outputs": [
    {
     "name": "stdout",
     "output_type": "stream",
     "text": [
      "(2, 41082)\n"
     ]
    }
   ],
   "source": [
    "vectorizer = TfidfVectorizer()\n",
    "X = vectorizer.fit_transform([art, gen])\n",
    "\n",
    "print(X.shape)"
   ]
  },
  {
   "cell_type": "code",
   "execution_count": 10,
   "id": "spare-effect",
   "metadata": {},
   "outputs": [
    {
     "name": "stdout",
     "output_type": "stream",
     "text": [
      "23976\n",
      "영화\n"
     ]
    }
   ],
   "source": [
    "print(vectorizer.vocabulary_['영화'])\n",
    "print(vectorizer.get_feature_names()[23976])"
   ]
  },
  {
   "cell_type": "code",
   "execution_count": 11,
   "id": "anticipated-fence",
   "metadata": {},
   "outputs": [
    {
     "name": "stdout",
     "output_type": "stream",
     "text": [
      "예술영화를 대표하는 단어들:\n",
      "그녀, 자신, 시작, 위해, 사랑, 사람, 영화, 친구, 남자, 가족, 이야기, 마을, 사건, 마음, 세상, 아버지, 아이, 엄마, 모든, 여자, 대한, 서로, 과연, 다시, 시간, 아들, 소녀, 아내, 다른, 사이, 영화제, 세계, 사실, 하나, 점점, 남편, 감독, 여행, 인생, 발견, 모두, 순간, 우리, 가장, 마지막, 생활, 아빠, 모습, 통해, 죽음, 기억, 비밀, 학교, 음악, 한편, 소년, 생각, 도시, 명의, 사고, 결혼, 전쟁, 때문, 위기, 이제, 최고, 이자, 과거, 일상, 경찰, 상황, 간다, 미국, 결심, 운명, 현실, 관계, 지금, 단편, 여인, 하루, 이름, 이후, 준비, 인간, 감정, 만난, 국제, 처음, 충격, 살인, 누구, 동안, 존재, 그린, 어머니, 연인, 계속, 동생, 작품, \n",
      "\n",
      "일반영화를 대표하는 단어들:\n",
      "자신, 그녀, 영화제, 위해, 사람, 시작, 국제, 영화, 친구, 사랑, 남자, 이야기, 대한, 서울, 여자, 사건, 남편, 아이, 가족, 아버지, 다른, 마을, 시간, 엄마, 아들, 모든, 단편, 마음, 사실, 다시, 세계, 모습, 작품, 통해, 생각, 서로, 세상, 발견, 감독, 아내, 관계, 소녀, 사이, 하나, 우리, 애니메이션, 때문, 여성, 죽음, 과연, 점점, 인간, 생활, 한편, 결혼, 상황, 모두, 기억, 명의, 소년, 여행, 가장, 간다, 순간, 이제, 도시, 비밀, 학교, 과거, 가지, 이자, 경찰, 마지막, 미국, 동안, 전쟁, 주인공, 대해, 존재, 현실, 연출, 사고, 살인, 일상, 어머니, 계속, 사회, 인생, 다큐멘터리, 부문, 섹스, 최고, 바로, 동생, 의도, 하루, 위기, 계획, 정체, 한국, "
     ]
    }
   ],
   "source": [
    "m1 = X[0].tocoo()   # art를 TF-IDF로 표현한 sparse matrix를 가져옵니다. \n",
    "m2 = X[1].tocoo()   # gen을 TF-IDF로 표현한 sparse matrix를 가져옵니다. \n",
    "\n",
    "w1 = [[i, j] for i, j in zip(m1.col, m1.data)]\n",
    "w2 = [[i, j] for i, j in zip(m2.col, m2.data)]\n",
    "\n",
    "w1.sort(key=lambda x: x[1], reverse=True)   #art를 구성하는 단어들을 TF-IDF가 높은 순으로 정렬합니다. \n",
    "w2.sort(key=lambda x: x[1], reverse=True)   #gen을 구성하는 단어들을 TF-IDF가 높은 순으로 정렬합니다. \n",
    "\n",
    "print('예술영화를 대표하는 단어들:')\n",
    "for i in range(100):\n",
    "    print(vectorizer.get_feature_names()[w1[i][0]], end=', ')\n",
    "\n",
    "print('\\n')\n",
    "    \n",
    "print('일반영화를 대표하는 단어들:')\n",
    "for i in range(100):\n",
    "    print(vectorizer.get_feature_names()[w2[i][0]], end=', ')"
   ]
  },
  {
   "cell_type": "code",
   "execution_count": 12,
   "id": "civil-insight",
   "metadata": {},
   "outputs": [],
   "source": [
    "#  우선 상위 100개의 단어들 중 중복되는 단어를 제외하고 상위 n(=15)개의 단어를 추출\n",
    "n = 15\n",
    "w1_, w2_ = [], []\n",
    "for i in range(100):\n",
    "    w1_.append(vectorizer.get_feature_names()[w1[i][0]])\n",
    "    w2_.append(vectorizer.get_feature_names()[w2[i][0]])\n",
    "\n",
    "# w1에만 있고 w2에는 없는, 예술영화를 잘 대표하는 단어를 15개 추출한다.\n",
    "target_art, target_gen = [], []\n",
    "for i in range(100):\n",
    "    if (w1_[i] not in w2_) and (w1_[i] in model.wv): target_art.append(w1_[i])\n",
    "    if len(target_art) == n: break \n",
    "\n",
    "# w2에만 있고 w1에는 없는, 일반영화를 잘 대표하는 단어를 15개 추출한다.\n",
    "for i in range(100):\n",
    "    if (w2_[i] not in w1_) and (w2_[i] in model.wv): target_gen.append(w2_[i])\n",
    "    if len(target_gen) == n: break"
   ]
  },
  {
   "cell_type": "code",
   "execution_count": 13,
   "id": "traditional-value",
   "metadata": {},
   "outputs": [
    {
     "name": "stdout",
     "output_type": "stream",
     "text": [
      "['아빠', '음악', '결심', '운명', '지금', '여인', '이름', '이후', '준비', '감정', '만난', '처음', '충격', '누구', '그린']\n"
     ]
    }
   ],
   "source": [
    "print(target_art)"
   ]
  },
  {
   "cell_type": "code",
   "execution_count": 14,
   "id": "surgical-portrait",
   "metadata": {},
   "outputs": [
    {
     "name": "stdout",
     "output_type": "stream",
     "text": [
      "['서울', '애니메이션', '여성', '가지', '주인공', '대해', '연출', '사회', '다큐멘터리', '부문', '섹스', '바로', '의도', '계획', '정체']\n"
     ]
    }
   ],
   "source": [
    "print(target_gen)"
   ]
  },
  {
   "cell_type": "code",
   "execution_count": 15,
   "id": "instant-royal",
   "metadata": {},
   "outputs": [],
   "source": [
    "genre_txt = ['synopsis_SF.txt', 'synopsis_family.txt', 'synopsis_show.txt', 'synopsis_horror.txt', 'synopsis_etc.txt', \n",
    "             'synopsis_documentary.txt', 'synopsis_drama.txt', 'synopsis_romance.txt', 'synopsis_musical.txt', \n",
    "             'synopsis_mystery.txt', 'synopsis_crime.txt', 'synopsis_historical.txt', 'synopsis_western.txt', \n",
    "             'synopsis_adult.txt', 'synopsis_thriller.txt', 'synopsis_animation.txt', 'synopsis_action.txt', \n",
    "             'synopsis_adventure.txt', 'synopsis_war.txt', 'synopsis_comedy.txt', 'synopsis_fantasy.txt']\n",
    "genre_name = ['SF', '가족', '공연', '공포(호러)', '기타', '다큐멘터리', '드라마', '멜로로맨스', '뮤지컬', '미스터리', '범죄', '사극', '서부극(웨스턴)',\n",
    "         '성인물(에로)', '스릴러', '애니메이션', '액션', '어드벤처', '전쟁', '코미디', '판타지']"
   ]
  },
  {
   "cell_type": "code",
   "execution_count": 16,
   "id": "verbal-certificate",
   "metadata": {},
   "outputs": [
    {
     "name": "stdout",
     "output_type": "stream",
     "text": [
      "synopsis_SF.txt 파일을 읽고 있습니다.\n",
      "synopsis_family.txt 파일을 읽고 있습니다.\n",
      "synopsis_show.txt 파일을 읽고 있습니다.\n",
      "synopsis_horror.txt 파일을 읽고 있습니다.\n",
      "synopsis_etc.txt 파일을 읽고 있습니다.\n",
      "synopsis_documentary.txt 파일을 읽고 있습니다.\n",
      "synopsis_drama.txt 파일을 읽고 있습니다.\n",
      "synopsis_romance.txt 파일을 읽고 있습니다.\n",
      "synopsis_musical.txt 파일을 읽고 있습니다.\n",
      "synopsis_mystery.txt 파일을 읽고 있습니다.\n",
      "synopsis_crime.txt 파일을 읽고 있습니다.\n",
      "synopsis_historical.txt 파일을 읽고 있습니다.\n",
      "synopsis_western.txt 파일을 읽고 있습니다.\n",
      "synopsis_adult.txt 파일을 읽고 있습니다.\n",
      "synopsis_thriller.txt 파일을 읽고 있습니다.\n",
      "synopsis_animation.txt 파일을 읽고 있습니다.\n",
      "synopsis_action.txt 파일을 읽고 있습니다.\n",
      "synopsis_adventure.txt 파일을 읽고 있습니다.\n",
      "synopsis_war.txt 파일을 읽고 있습니다.\n",
      "synopsis_comedy.txt 파일을 읽고 있습니다.\n",
      "synopsis_fantasy.txt 파일을 읽고 있습니다.\n"
     ]
    }
   ],
   "source": [
    "# 약 10분정도 걸립니다.\n",
    "genre = []\n",
    "for file_name in genre_txt:\n",
    "    genre.append(read_token(file_name))"
   ]
  },
  {
   "cell_type": "code",
   "execution_count": 17,
   "id": "frequent-klein",
   "metadata": {},
   "outputs": [
    {
     "name": "stdout",
     "output_type": "stream",
     "text": [
      "(21, 42191)\n"
     ]
    }
   ],
   "source": [
    "vectorizer = TfidfVectorizer()\n",
    "X = vectorizer.fit_transform(genre)\n",
    "\n",
    "print(X.shape)"
   ]
  },
  {
   "cell_type": "code",
   "execution_count": 18,
   "id": "lightweight-accommodation",
   "metadata": {},
   "outputs": [
    {
     "name": "stdout",
     "output_type": "stream",
     "text": [
      "SF: 위해, 자신, 지구, 시작, 사람, 인류, 인간, 미래, 우주, 그녀, 로봇, 세계, 모든, 박사, 우주선, \n",
      "가족: 엄마, 아빠, 가족, 영화제, 자신, 위해, 친구, 아주르, 아버지, 시작, 그녀, 아들, 마을, 국제, 낙타, \n",
      "공연: 오페라, 사랑, 토스카, 실황, 올레, 자신, 카바, 그녀, 공연, 오텔로, 리골레토, 백작, 프레, 베르디, 위해, \n",
      "공포(호러): 시작, 위해, 사람, 자신, 친구, 그녀, 사건, 공포, 발견, 죽음, 마을, 가족, 악령, 남자, 좀비, \n",
      "기타: 영화제, 국제, 서울, 단편, 영화, 자신, 사람, 이야기, 그녀, 남자, 위해, 시작, 사랑, 뉴미디어, 페스티벌, \n",
      "다큐멘터리: 영화제, 영화, 다큐, 국제, 다큐멘터리, 사람, 이야기, 대한, 자신, 감독, 위해, 서울, 우리, 시작, 세계, \n",
      "드라마: 자신, 영화제, 그녀, 사람, 사랑, 영화, 위해, 시작, 국제, 남자, 친구, 이야기, 엄마, 여자, 아버지, \n",
      "멜로로맨스: 그녀, 사랑, 자신, 시작, 남편, 남자, 여자, 사람, 친구, 섹스, 위해, 마음, 결혼, 서로, 아내, \n",
      "뮤지컬: 뮤지컬, 사랑, 에스메랄다, 그녀, 음악, 충무로, 모차르트, 영화, 토스카, 자신, 니웨, 카바, 영화제, 바흐, 페뷔스, \n",
      "미스터리: 사건, 그녀, 시작, 자신, 위해, 사람, 발견, 사고, 진실, 죽음, 기억, 살인, 친구, 아내, 남자, \n",
      "범죄: 사건, 위해, 자신, 경찰, 시작, 그녀, 범죄, 조직, 살인, 사람, 마약, 형사, 남자, 모든, 살해, \n",
      "사극: 조선, 위해, 시작, 신기전, 사랑, 자신, 아가멤논, 황제, 그녀, 루안, 최고, 운명, 사람, 하선, 전쟁, \n",
      "서부극(웨스턴): 서부, 보안관, 위해, 벌린, 카우보이, 그레이프바인, 헨리, 마을, 자신, 개릿, 아이, 시작, 무법자, 프린트, 마적, \n",
      "성인물(에로): 그녀, 남편, 마사지, 자신, 섹스, 관계, 영화, 정사, 남자, 위해, 시작, 여자, 유부녀, 마음, 사랑, \n",
      "스릴러: 자신, 그녀, 사건, 시작, 위해, 사람, 살인, 남자, 발견, 아내, 경찰, 친구, 모든, 사실, 살해, \n",
      "애니메이션: 애니메이션, 국제, 영화제, 친구, 인디애니페스트, 위해, 자신, 시작, 사람, 페스티벌, 서울, 이야기, 아이, 마을, 소녀, \n",
      "액션: 위해, 자신, 시작, 조직, 사건, 사람, 그녀, 경찰, 전쟁, 모든, 목숨, 사실, 친구, 가족, 요원, \n",
      "어드벤처: 위해, 자신, 시작, 친구, 마을, 아버지, 영화, 아이, 사람, 여행, 세계, 앤트, 세상, 가족, 모험, \n",
      "전쟁: 전쟁, 독일군, 전투, 위해, 작전, 시작, 부대, 윈터스, 독일, 연합군, 미군, 임무, 자신, 사람, 나치, \n",
      "코미디: 그녀, 자신, 시작, 위해, 사랑, 사람, 친구, 영화, 남자, 여자, 영화제, 가족, 과연, 마을, 사건, \n",
      "판타지: 자신, 그녀, 시작, 위해, 사람, 사랑, 요괴, 영화제, 이야기, 영화, 소녀, 남자, 인간, 세상, 마을, \n"
     ]
    }
   ],
   "source": [
    "m = [X[i].tocoo() for i in range(X.shape[0])]\n",
    "\n",
    "w = [[[i, j] for i, j in zip(mm.col, mm.data)] for mm in m]\n",
    "\n",
    "for i in range(len(w)):\n",
    "    w[i].sort(key=lambda x: x[1], reverse=True)\n",
    "attributes = []\n",
    "for i in range(len(w)):\n",
    "    print(genre_name[i], end=': ')\n",
    "    attr = []\n",
    "    j = 0\n",
    "    while (len(attr) < 15):\n",
    "        if vectorizer.get_feature_names()[w[i][j][0]] in model.wv:\n",
    "            attr.append(vectorizer.get_feature_names()[w[i][j][0]])\n",
    "            print(vectorizer.get_feature_names()[w[i][j][0]], end=', ')\n",
    "        j += 1\n",
    "    attributes.append(attr)\n",
    "    print()"
   ]
  },
  {
   "cell_type": "markdown",
   "id": "silver-contribution",
   "metadata": {},
   "source": [
    "### STEP 4. WEAT score 계산과 시각화"
   ]
  },
  {
   "cell_type": "markdown",
   "id": "opponent-massachusetts",
   "metadata": {},
   "source": [
    "영화 구분, 영화 장르에 따른 편향성을 측정하여 WEAT score로 계산해 보고 이를 Heatmap 형태로 시각화해 봅시다. 편향성이 두드러지는 영화장르 attribute 구성에는 어떤 케이스가 있는지 시각적으로 두드러지게 구성되면 좋습니다."
   ]
  },
  {
   "cell_type": "code",
   "execution_count": 23,
   "id": "noted-roman",
   "metadata": {},
   "outputs": [],
   "source": [
    "def cos_sim(i, j): #cos_sim 코사인 유사도\n",
    "    return dot(i, j.T)/(norm(i)*norm(j))\n",
    "\n",
    "def s(w, A, B):\n",
    "    c_a = cos_sim(w, A)  # 단어 w에 대해 A 데이터셋의 단어들과 코사인유사도를 구한다.\n",
    "    c_b = cos_sim(w, B)  # 단어 w에 대해 B 데이터셋의 단어들과 코사인유사도를 구한다.\n",
    "    mean_A = np.mean(c_a, axis=-1)    #axis 축  attribute_A\n",
    "    mean_B = np.mean(c_b, axis=-1)    #axis 축  attribute_B\n",
    "    return mean_A - mean_B#, c_a, c_b\n",
    "\n",
    "def weat_score(X, Y, A, B): #target X,Y,  attribute_A,B\n",
    "    \n",
    "    s_X = s(X, A, B)  #target X, attribute_A,B\n",
    "    s_Y = s(Y, A, B)  #target Y, attribute_A,B\n",
    "\n",
    "    mean_X = np.mean(s_X)\n",
    "    mean_Y = np.mean(s_Y)\n",
    "    \n",
    "    std_dev = np.std(np.concatenate([s_X, s_Y], axis=0)) #concatenate 지정된 축에서 여러 배열을 연결\n",
    "    \n",
    "    return  (mean_X-mean_Y)/std_dev # (mean_X-mean_Y)/ std_dev 표준편차"
   ]
  },
  {
   "cell_type": "code",
   "execution_count": 24,
   "id": "mental-mountain",
   "metadata": {},
   "outputs": [
    {
     "name": "stdout",
     "output_type": "stream",
     "text": [
      "슝~\n"
     ]
    }
   ],
   "source": [
    "matrix = [[0 for _ in range(len(genre_name))] for _ in range(len(genre_name))]\n",
    "print(\"슝~\")"
   ]
  },
  {
   "cell_type": "code",
   "execution_count": 25,
   "id": "nuclear-payday",
   "metadata": {},
   "outputs": [
    {
     "name": "stdout",
     "output_type": "stream",
     "text": [
      "슝~\n"
     ]
    }
   ],
   "source": [
    "X = np.array([model.wv[word] for word in target_art])\n",
    "Y = np.array([model.wv[word] for word in target_gen])\n",
    "\n",
    "for i in range(len(genre_name)-1):\n",
    "    for j in range(i+1, len(genre_name)):\n",
    "        A = np.array([model.wv[word] for word in attributes[i]])\n",
    "        B = np.array([model.wv[word] for word in attributes[j]])\n",
    "        matrix[i][j] = weat_score(X, Y, A, B)\n",
    "\n",
    "print(\"슝~\")"
   ]
  },
  {
   "cell_type": "code",
   "execution_count": 26,
   "id": "emotional-subdivision",
   "metadata": {},
   "outputs": [
    {
     "name": "stdout",
     "output_type": "stream",
     "text": [
      "SF 가족 -0.5274163\n",
      "SF 공연 -0.36098123\n",
      "SF 공포(호러) -0.7014163\n",
      "SF 기타 0.33562523\n",
      "SF 다큐멘터리 0.60054183\n",
      "SF 드라마 -0.3969465\n",
      "SF 멜로로맨스 -0.8181302\n",
      "SF 뮤지컬 0.32986102\n",
      "SF 미스터리 -0.7044037\n",
      "SF 범죄 -0.24783637\n",
      "SF 사극 -0.8325307\n",
      "SF 서부극(웨스턴) -0.40699613\n",
      "SF 성인물(에로) -0.5845843\n",
      "SF 스릴러 -0.5440561\n",
      "SF 애니메이션 0.3521109\n",
      "SF 액션 -0.45732436\n",
      "SF 어드벤처 -0.7729824\n",
      "SF 전쟁 0.24780746\n",
      "SF 코미디 -0.4637294\n",
      "SF 판타지 -0.18635456\n",
      "가족 공연 0.24437188\n",
      "가족 공포(호러) -0.13709043\n",
      "가족 기타 0.74842685\n",
      "가족 다큐멘터리 0.852551\n",
      "가족 드라마 0.21610352\n",
      "가족 멜로로맨스 -0.6208249\n",
      "가족 뮤지컬 0.70571166\n",
      "가족 미스터리 -0.28830597\n",
      "가족 범죄 0.21986437\n",
      "가족 사극 -0.0411063\n",
      "가족 서부극(웨스턴) 0.50246793\n",
      "가족 성인물(에로) -0.3057915\n",
      "가족 스릴러 -0.12693135\n",
      "가족 애니메이션 0.8587709\n",
      "가족 액션 0.13731924\n",
      "가족 어드벤처 0.02847328\n",
      "가족 전쟁 0.6873275\n",
      "가족 코미디 0.21005209\n",
      "가족 판타지 0.44130406\n",
      "공연 공포(호러) -0.2607531\n",
      "공연 기타 0.880871\n",
      "공연 다큐멘터리 0.919027\n",
      "공연 드라마 -0.061011814\n",
      "공연 멜로로맨스 -0.7352625\n",
      "공연 뮤지컬 0.85068816\n",
      "공연 미스터리 -0.36776474\n",
      "공연 범죄 0.061224226\n",
      "공연 사극 -0.36990634\n",
      "공연 서부극(웨스턴) 0.041832846\n",
      "공연 성인물(에로) -0.50603265\n",
      "공연 스릴러 -0.23590615\n",
      "공연 애니메이션 0.87732035\n",
      "공연 액션 -0.036684517\n",
      "공연 어드벤처 -0.2153204\n",
      "공연 전쟁 0.5989545\n",
      "공연 코미디 -0.040939312\n",
      "공연 판타지 0.30613333\n",
      "공포(호러) 기타 0.63567036\n",
      "공포(호러) 다큐멘터리 0.75973415\n",
      "공포(호러) 드라마 0.28992692\n",
      "공포(호러) 멜로로맨스 -0.64615774\n",
      "공포(호러) 뮤지컬 0.6131287\n",
      "공포(호러) 미스터리 -0.56171054\n",
      "공포(호러) 범죄 0.6447127\n",
      "공포(호러) 사극 0.12751213\n",
      "공포(호러) 서부극(웨스턴) 0.4140864\n",
      "공포(호러) 성인물(에로) -0.22675006\n",
      "공포(호러) 스릴러 -0.031969275\n",
      "공포(호러) 애니메이션 0.6571508\n",
      "공포(호러) 액션 0.5501581\n",
      "공포(호러) 어드벤처 0.19418314\n",
      "공포(호러) 전쟁 0.67497534\n",
      "공포(호러) 코미디 0.4119177\n",
      "공포(호러) 판타지 0.5238382\n",
      "기타 다큐멘터리 0.61972535\n",
      "기타 드라마 -0.88649994\n",
      "기타 멜로로맨스 -0.8958961\n",
      "기타 뮤지컬 -0.028305916\n",
      "기타 미스터리 -0.65237975\n",
      "기타 범죄 -0.38292792\n",
      "기타 사극 -0.8045933\n",
      "기타 서부극(웨스턴) -0.6119837\n",
      "기타 성인물(에로) -0.82299554\n",
      "기타 스릴러 -0.56209105\n",
      "기타 애니메이션 -0.043823894\n",
      "기타 액션 -0.46610573\n",
      "기타 어드벤처 -0.7755495\n",
      "기타 전쟁 -0.20739353\n",
      "기타 코미디 -0.7416845\n",
      "기타 판타지 -0.6850493\n",
      "다큐멘터리 드라마 -0.9410882\n",
      "다큐멘터리 멜로로맨스 -0.9164923\n",
      "다큐멘터리 뮤지컬 -0.76716655\n",
      "다큐멘터리 미스터리 -0.7601286\n",
      "다큐멘터리 범죄 -0.5208973\n",
      "다큐멘터리 사극 -0.9155631\n",
      "다큐멘터리 서부극(웨스턴) -0.74575233\n",
      "다큐멘터리 성인물(에로) -0.8533443\n",
      "다큐멘터리 스릴러 -0.66780204\n",
      "다큐멘터리 애니메이션 -0.5635341\n",
      "다큐멘터리 액션 -0.6131151\n",
      "다큐멘터리 어드벤처 -0.95126176\n",
      "다큐멘터리 전쟁 -0.44745263\n",
      "다큐멘터리 코미디 -0.8529452\n",
      "다큐멘터리 판타지 -0.9198362\n",
      "드라마 멜로로맨스 -0.8448902\n",
      "드라마 뮤지컬 0.83182216\n",
      "드라마 미스터리 -0.40592894\n",
      "드라마 범죄 0.08916138\n",
      "드라마 사극 -0.30317578\n",
      "드라마 서부극(웨스턴) 0.08512408\n",
      "드라마 성인물(에로) -0.5853136\n",
      "드라마 스릴러 -0.2412556\n",
      "드라마 애니메이션 0.8844062\n",
      "드라마 액션 -0.011503496\n",
      "드라마 어드벤처 -0.23007001\n",
      "드라마 전쟁 0.5032134\n",
      "드라마 코미디 0.015079822\n",
      "드라마 판타지 0.57449603\n",
      "멜로로맨스 뮤지컬 0.87050915\n",
      "멜로로맨스 미스터리 0.46340677\n",
      "멜로로맨스 범죄 0.8518167\n",
      "멜로로맨스 사극 0.68452114\n",
      "멜로로맨스 서부극(웨스턴) 0.76454467\n",
      "멜로로맨스 성인물(에로) 0.8120401\n",
      "멜로로맨스 스릴러 0.658331\n",
      "멜로로맨스 애니메이션 0.8820009\n",
      "멜로로맨스 액션 0.76116216\n",
      "멜로로맨스 어드벤처 0.6302385\n",
      "멜로로맨스 전쟁 0.8238447\n",
      "멜로로맨스 코미디 0.91151714\n",
      "멜로로맨스 판타지 0.85031503\n",
      "뮤지컬 미스터리 -0.63663346\n",
      "뮤지컬 범죄 -0.36587235\n",
      "뮤지컬 사극 -0.78465533\n",
      "뮤지컬 서부극(웨스턴) -0.57042325\n",
      "뮤지컬 성인물(에로) -0.8007271\n",
      "뮤지컬 스릴러 -0.5427473\n",
      "뮤지컬 애니메이션 -0.01569262\n",
      "뮤지컬 액션 -0.45115864\n",
      "뮤지컬 어드벤처 -0.7580808\n",
      "뮤지컬 전쟁 -0.19074059\n",
      "뮤지컬 코미디 -0.6980538\n",
      "뮤지컬 판타지 -0.6635549\n",
      "미스터리 범죄 0.99412954\n",
      "미스터리 사극 0.300337\n",
      "미스터리 서부극(웨스턴) 0.5053984\n",
      "미스터리 성인물(에로) -0.040830966\n",
      "미스터리 스릴러 0.68389267\n",
      "미스터리 애니메이션 0.66368616\n",
      "미스터리 액션 0.80792975\n",
      "미스터리 어드벤처 0.33694887\n",
      "미스터리 전쟁 0.69487554\n",
      "미스터리 코미디 0.51516265\n",
      "미스터리 판타지 0.5672911\n",
      "범죄 사극 -0.2923939\n",
      "범죄 서부극(웨스턴) -0.05606288\n",
      "범죄 성인물(에로) -0.48971072\n",
      "범죄 스릴러 -0.9843811\n",
      "범죄 애니메이션 0.38684267\n",
      "범죄 액션 -0.32642886\n",
      "범죄 어드벤처 -0.21015786\n",
      "범죄 전쟁 0.39892885\n",
      "범죄 코미디 -0.106919646\n",
      "범죄 판타지 0.10235638\n",
      "사극 서부극(웨스턴) 0.40632534\n",
      "사극 성인물(에로) -0.3389377\n",
      "사극 스릴러 -0.11090983\n",
      "사극 애니메이션 0.8114195\n",
      "사극 액션 0.20519193\n",
      "사극 어드벤처 0.09494482\n",
      "사극 전쟁 0.8714313\n",
      "사극 코미디 0.40886906\n",
      "사극 판타지 0.65324724\n",
      "서부극(웨스턴) 성인물(에로) -0.45839995\n",
      "서부극(웨스턴) 스릴러 -0.3464591\n",
      "서부극(웨스턴) 애니메이션 0.6872281\n",
      "서부극(웨스턴) 액션 -0.091743715\n",
      "서부극(웨스턴) 어드벤처 -0.36225566\n",
      "서부극(웨스턴) 전쟁 0.6871035\n",
      "서부극(웨스턴) 코미디 -0.08876126\n",
      "서부극(웨스턴) 판타지 0.23312192\n",
      "성인물(에로) 스릴러 0.21100475\n",
      "성인물(에로) 애니메이션 0.77522326\n",
      "성인물(에로) 액션 0.39153513\n",
      "성인물(에로) 어드벤처 0.32229865\n",
      "성인물(에로) 전쟁 0.62994814\n",
      "성인물(에로) 코미디 0.5953291\n",
      "성인물(에로) 판타지 0.6497457\n",
      "스릴러 애니메이션 0.5732707\n",
      "스릴러 액션 0.5605012\n",
      "스릴러 어드벤처 0.14635248\n",
      "스릴러 전쟁 0.6067017\n",
      "스릴러 코미디 0.30674264\n",
      "스릴러 판타지 0.4017139\n",
      "애니메이션 액션 -0.48318574\n",
      "애니메이션 어드벤처 -0.85500425\n",
      "애니메이션 전쟁 -0.21493386\n",
      "애니메이션 코미디 -0.7452117\n",
      "애니메이션 판타지 -0.68152404\n",
      "액션 어드벤처 -0.13062885\n",
      "액션 전쟁 0.562887\n",
      "액션 코미디 0.020080565\n",
      "액션 판타지 0.22022593\n",
      "어드벤처 전쟁 0.7025652\n",
      "어드벤처 코미디 0.2819604\n",
      "어드벤처 판타지 0.7094664\n",
      "전쟁 코미디 -0.54350835\n",
      "전쟁 판타지 -0.30213475\n",
      "코미디 판타지 0.54906166\n"
     ]
    }
   ],
   "source": [
    "for i in range(len(genre_name)-1):\n",
    "    for j in range(i+1, len(genre_name)):\n",
    "        print(genre_name[i], genre_name[j],matrix[i][j])"
   ]
  },
  {
   "cell_type": "code",
   "execution_count": 30,
   "id": "digital-philippines",
   "metadata": {},
   "outputs": [
    {
     "data": {
      "text/plain": [
       "<AxesSubplot:>"
      ]
     },
     "execution_count": 30,
     "metadata": {},
     "output_type": "execute_result"
    },
    {
     "data": {
      "image/png": "[encoded data removed]",
      "text/plain": [
       "<Figure size 1440x1440 with 2 Axes>"
      ]
     },
     "metadata": {},
     "output_type": "display_data"
    }
   ],
   "source": [
    "import matplotlib.pyplot as plt\n",
    "\n",
    "np.random.seed(0)\n",
    "\n",
    "# 한글 지원 폰트\n",
    "sns.set(font='NanumGothic')\n",
    "\n",
    "# 마이너스 부호 \n",
    "\n",
    "plt.rcParams['axes.unicode_minus'] = False\n",
    "plt.figure(figsize=(20,20))\n",
    "ax = sns.heatmap(matrix, xticklabels=genre_name, yticklabels=genre_name, annot=True,  cmap='RdYlGn_r')\n",
    "ax"
   ]
  },
  {
   "cell_type": "markdown",
   "id": "enormous-waste",
   "metadata": {},
   "source": [
    "### 루브릭\n",
    "\n",
    "- 워드임베딩의 most_similar() 메소드 결과가 의미상 바르게 나왔다.\n",
    "- 타당한 방법론을 통해 중복이 잘 제거되고 개념축을 의미적으로 잘 대표하는 단어 셋이 만들어졌다\n",
    "- 전체 영화 장르별로 예술/일반 영화에 대한 편향성 WEAT score가 상식에 부합하는 수치로 얻어졌으며 이를 잘 시각화하였다."
   ]
  },
  {
   "cell_type": "markdown",
   "id": "toxic-smoke",
   "metadata": {},
   "source": [
    "## 회고\n",
    "\n",
    "- 1.  WEAT score과 관련한 삼각함수 관련 자료를 다시 찾아보았다.\n",
    "\n",
    "    [WEAT score]\n",
    "![weat](https://user-images.githubusercontent.com/70866993/136812373-7e6fd617-0d83-422f-844d-3548dd28425b.JPG)\n",
    "\n",
    "    - target X, Y에 속하는 각 단어 x, y들이 개념축 A-B에 대해 가지는 편향성을 r각각 평균 내서 뺀 차이\n",
    "    - 즉, X에 속하는 단어들과 Y에 속하는 단어들이 A-B 개념축에 대해 가지는 편향성의 정도가 뚜렷이 차이 날수록 이 WEAT score 식의 분자값의 절댓값은 커지게 됩니다. \n",
    "    - 이 값을 X, Y에 속하는 모든 단어들이 가지는 편향성 값의 표준편차(std)로 normalize한 값이 최종 WEAT score가 됩니다.\n",
    "\n",
    "    [코사인유사도]\n",
    "\n",
    "![코사인유사도](https://user-images.githubusercontent.com/70866993/136813940-096c5361-f4b6-4be8-97ad-c83c006f856f.png)\n",
    "    - norm 벡터의 길이, dot 점곱\n",
    "    - 코사인 유사도는 두 벡터 간의 코사인 각도를 이용하여 구할 수 있는 두 벡터의 유사도를 의미합니다.\n",
    "    - 두 벡터의 방향이 완전히 동일한 경우에는 1의 값을 가지며, 90°의 각을 이루면 0, 180°로 반대의 방향을 가지면 -1의 값을 갖게 됩니다. \n",
    "    - 즉, 결국 코사인 유사도는 -1 이상 1 이하의 값을 가지며 값이 1에 가까울수록 유사도가 높다고 판단할 수 있습니다. \n",
    "    - 이를 직관적으로 이해하면 두 벡터가 가리키는 방향이 얼마나 유사한가를 의미합니다.\n",
    "\n",
    "\n",
    "- 2. TF-IDF를 적용했을 때의 문제점\n",
    "    - <단점>\n",
    "        1) 문장의 순서가 중요한 문제에는 쓰기 힘들다.\n",
    "        2) 단어간의 연관성을 표현하지 못한다.\n",
    "\n",
    "    <개선>\n",
    "    - LSA (Latent Semantic Analysis) : American restaurant menu, hamburger pizza 를 SVD로 서로간의 유사도 측정 -> 의미론적으로 같은 것들을 묶어준다.\n",
    "    - Word Embedding (Word2Vec, Glove)\n",
    "    - ConceptNet -> Knowledge graph를 이용, 여러가지의 단어간의 relationship을 사용 ex) Mcdonald, BurgerKing은 같은 햄버거를 다루는 레스토랑이며, 프랜차이즈이다. 이런 관계의 유사도를 측정."
   ]
  },
  {
   "cell_type": "markdown",
   "id": "resistant-bones",
   "metadata": {},
   "source": [
    "###  TF-IDF를 적용했을 때의 문제점을 Word2Vec 보완\n",
    "-  Word2Vec을 별도로 구현할 필요없이 파이썬의 gensim 패키지를 통해 이미 구현된 Word2Vec 모델을 사용"
   ]
  },
  {
   "cell_type": "code",
   "execution_count": 31,
   "id": "damaged-diving",
   "metadata": {},
   "outputs": [
    {
     "name": "stderr",
     "output_type": "stream",
     "text": [
      "[nltk_data] Downloading package abc to /aiffel/nltk_data...\n",
      "[nltk_data]   Unzipping corpora/abc.zip.\n",
      "[nltk_data] Downloading package punkt to /aiffel/nltk_data...\n",
      "[nltk_data]   Package punkt is already up-to-date!\n"
     ]
    },
    {
     "data": {
      "text/plain": [
       "True"
      ]
     },
     "execution_count": 31,
     "metadata": {},
     "output_type": "execute_result"
    }
   ],
   "source": [
    "import nltk\n",
    "nltk.download('abc')\n",
    "nltk.download('punkt')"
   ]
  },
  {
   "cell_type": "code",
   "execution_count": 32,
   "id": "painful-rebate",
   "metadata": {},
   "outputs": [
    {
     "name": "stdout",
     "output_type": "stream",
     "text": [
      "슝~\n"
     ]
    }
   ],
   "source": [
    "from nltk.corpus import abc\n",
    "corpus = abc.sents()\n",
    "print(\"슝~\")"
   ]
  },
  {
   "cell_type": "code",
   "execution_count": 33,
   "id": "worth-thursday",
   "metadata": {},
   "outputs": [
    {
     "name": "stdout",
     "output_type": "stream",
     "text": [
      "슝~\n"
     ]
    }
   ],
   "source": [
    "from nltk.corpus import abc\n",
    "corpus = abc.sents()\n",
    "print(\"슝~\")"
   ]
  },
  {
   "cell_type": "code",
   "execution_count": 34,
   "id": "equivalent-scheduling",
   "metadata": {},
   "outputs": [
    {
     "name": "stdout",
     "output_type": "stream",
     "text": [
      "코퍼스의 크기 : 29059\n"
     ]
    }
   ],
   "source": [
    "print('코퍼스의 크기 :',len(corpus))"
   ]
  },
  {
   "cell_type": "code",
   "execution_count": 35,
   "id": "cheap-mission",
   "metadata": {},
   "outputs": [
    {
     "name": "stdout",
     "output_type": "stream",
     "text": [
      "모델 학습 완료!\n"
     ]
    }
   ],
   "source": [
    "from gensim.models import Word2Vec\n",
    "\n",
    "model = Word2Vec(sentences = corpus, vector_size = 100, window = 5, min_count = 5, workers = 4, sg = 0)\n",
    "print(\"모델 학습 완료!\")"
   ]
  },
  {
   "cell_type": "code",
   "execution_count": 38,
   "id": "elegant-operation",
   "metadata": {},
   "outputs": [
    {
     "name": "stdout",
     "output_type": "stream",
     "text": [
      "[('he', 0.9178735017776489), ('Bradstock', 0.7990259528160095), ('Buley', 0.795392632484436), ('Brownlee', 0.7680463790893555), ('Svenson', 0.7495509386062622), ('Brady', 0.7492104172706604), ('Zeil', 0.7344887256622314), ('Arcini', 0.7338216304779053), ('Fischer', 0.7320232391357422), ('systemic', 0.7274735569953918)]\n"
     ]
    }
   ],
   "source": [
    "model_result = model.wv.most_similar(\"she\")\n",
    "print(model_result)"
   ]
  },
  {
   "cell_type": "code",
   "execution_count": 39,
   "id": "organic-butler",
   "metadata": {},
   "outputs": [
    {
     "name": "stdout",
     "output_type": "stream",
     "text": [
      "모델  load 완료!\n"
     ]
    }
   ],
   "source": [
    "from gensim.models import KeyedVectors\n",
    "\n",
    "model.wv.save_word2vec_format('~/aiffel/word_embedding/w2v') \n",
    "loaded_model = KeyedVectors.load_word2vec_format(\"~/aiffel/word_embedding/w2v\")\n",
    "print(\"모델  load 완료!\")"
   ]
  },
  {
   "cell_type": "code",
   "execution_count": 41,
   "id": "applicable-parish",
   "metadata": {},
   "outputs": [
    {
     "name": "stdout",
     "output_type": "stream",
     "text": [
      "[('he', 0.9178735017776489), ('Bradstock', 0.7990259528160095), ('Buley', 0.795392632484436), ('Brownlee', 0.7680463790893555), ('Svenson', 0.7495509386062622), ('Brady', 0.7492104172706604), ('Zeil', 0.7344887256622314), ('Arcini', 0.7338216304779053), ('Fischer', 0.7320232391357422), ('systemic', 0.7274735569953918)]\n"
     ]
    }
   ],
   "source": [
    "model_result = loaded_model.most_similar(\"she\")\n",
    "print(model_result)"
   ]
  }
 ],
 "metadata": {
  "kernelspec": {
   "display_name": "Python 3",
   "language": "python",
   "name": "python3"
  },
  "language_info": {
   "codemirror_mode": {
    "name": "ipython",
    "version": 3
   },
   "file_extension": ".py",
   "mimetype": "text/x-python",
   "name": "python",
   "nbconvert_exporter": "python",
   "pygments_lexer": "ipython3",
   "version": "3.7.9"
  }
 },
 "nbformat": 4,
 "nbformat_minor": 5
}
