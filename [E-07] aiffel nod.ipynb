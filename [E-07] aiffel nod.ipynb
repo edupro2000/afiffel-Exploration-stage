{
 "cells": [
  {
   "cell_type": "markdown",
   "id": "sensitive-benchmark",
   "metadata": {},
   "source": [
    "### 네이버 영화리뷰 감성분석 도전하기"
   ]
  },
  {
   "cell_type": "markdown",
   "id": "illegal-dutch",
   "metadata": {},
   "source": [
    "### 감성분석 사례\n",
    " - 마케팅 감성분석 사례 : https://dbr.donga.com/article/view/1202/article_no/8891/ac/magazine\n",
    " - 마케팅 감성분석 순서 : 데이터수집>데이터 전처리 > 형태소 사전의 구축 > 속성어(품사) 사전 구축 > 감성어 사전 구축 > 감성 분석 모형의 구축(감성어 사전별 점수 추출) 및 결과 도출(결과 계산)"
   ]
  },
  {
   "cell_type": "markdown",
   "id": "facial-median",
   "metadata": {},
   "source": [
    "<mark><b>[진행 순서]</b>\n",
    "\n",
    "01. sentences 리스트 지정\n",
    "02. 파이썬 split() 메소드를 이용해 단어 단위로 문장을 쪼개기\n",
    "03. 텍스트: 인덱스 구조 만들기\n",
    "04. 텍스트 데이터 숫자로 변경하기\n",
    "05. 여러 개의 문장 리스트를 한꺼번에 숫자 텐서로 encode\n",
    "- 숫자 벡터로 encode된 문장을 원래대로 decode하기\n",
    "- 여러 개의 숫자 벡터로 encode된 문장을 한꺼번에 원래대로 decode하기\n",
    "06. 임베딩 처리 *<주의> keras.preprocessing.sequence.pad_sequences 함수로 길이 맞추기\n",
    "07. RNN 활용하기\n",
    "08. CNN 계열의 Conv1D 활용하기  (장점 : 병렬처리로 학습속도가 빠름)\n",
    "9. CNN 계열의 GlobalMaxPooling1D() 활용하기 (정해진 필터 크기에서 최댓값 추출)"
   ]
  },
  {
   "cell_type": "code",
   "execution_count": 1,
   "id": "useful-lebanon",
   "metadata": {},
   "outputs": [
    {
     "name": "stdout",
     "output_type": "stream",
     "text": [
      "['i', 'feel', 'hungry']\n"
     ]
    }
   ],
   "source": [
    "# 1. 처리해야 할 문장을 파이썬 리스트에 옮겨 담았습니다.\n",
    "\n",
    "sentences=['i feel hungry', 'i eat lunch', 'now i feel happy']\n",
    "\n",
    "# 파이썬 split() 메소드를 이용해 단어 단위로 문장을 쪼개 봅니다.\n",
    "word_list = 'i feel hungry'.split()\n",
    "print(word_list)"
   ]
  },
  {
   "cell_type": "code",
   "execution_count": 2,
   "id": "patient-lottery",
   "metadata": {},
   "outputs": [
    {
     "name": "stdout",
     "output_type": "stream",
     "text": [
      "{0: '<PAD>', 1: '<BOS>', 2: '<UNK>', 3: 'i', 4: 'feel', 5: 'hungry', 6: 'eat', 7: 'lunch', 8: 'now', 9: 'happy'}\n"
     ]
    }
   ],
   "source": [
    "# 2. 파이썬 split() 메소드를 이용해 단어 단위로 문장을 쪼개기\n",
    "index_to_word={}  # 빈 딕셔너리를 만들기\n",
    "\n",
    "# 단어들을 하나씩 채우기\n",
    "# <BOS>, <PAD>, <UNK>는 관례적으로 딕셔너리 맨 앞에 넣어줍니다. \n",
    "index_to_word[0]='<PAD>'  # 패딩용 단어\n",
    "index_to_word[1]='<BOS>'  # 문장의 시작지점\n",
    "index_to_word[2]='<UNK>'  # 사전에 없는(Unknown) 단어\n",
    "index_to_word[3]='i'\n",
    "index_to_word[4]='feel'\n",
    "index_to_word[5]='hungry'\n",
    "index_to_word[6]='eat'\n",
    "index_to_word[7]='lunch'\n",
    "index_to_word[8]='now'\n",
    "index_to_word[9]='happy'\n",
    "\n",
    "print(index_to_word)"
   ]
  },
  {
   "cell_type": "code",
   "execution_count": 3,
   "id": "false-convert",
   "metadata": {},
   "outputs": [
    {
     "name": "stdout",
     "output_type": "stream",
     "text": [
      "{'<PAD>': 0, '<BOS>': 1, '<UNK>': 2, 'i': 3, 'feel': 4, 'hungry': 5, 'eat': 6, 'lunch': 7, 'now': 8, 'happy': 9}\n"
     ]
    }
   ],
   "source": [
    "# 3. 텍스트를 숫자로 변경시 {텍스트:인덱스} 구조여야 한다.\n",
    "\n",
    "word_to_index={word:index for index, word in index_to_word.items()}\n",
    "print(word_to_index)"
   ]
  },
  {
   "cell_type": "code",
   "execution_count": 4,
   "id": "banned-democracy",
   "metadata": {},
   "outputs": [
    {
     "name": "stdout",
     "output_type": "stream",
     "text": [
      "4\n"
     ]
    }
   ],
   "source": [
    "print(word_to_index['feel'])  # 단어 'feel'은 숫자 인덱스 4로 바뀝니다."
   ]
  },
  {
   "cell_type": "code",
   "execution_count": 5,
   "id": "respiratory-detail",
   "metadata": {},
   "outputs": [
    {
     "name": "stdout",
     "output_type": "stream",
     "text": [
      "[1, 3, 6, 7]\n"
     ]
    }
   ],
   "source": [
    "# 4. 텍스트 데이터 숫자로 변경하기\n",
    "# 단, 모든 문장은 <BOS>로 시작하는 것으로 합니다. \n",
    "\n",
    "def get_encoded_sentence(sentence, word_to_index):\n",
    "    return [word_to_index['<BOS>']]+[word_to_index[word] \n",
    "                                     if word in word_to_index \n",
    "                                     else word_to_index['<UNK>'] \n",
    "                                     for word in sentence.split()]\n",
    "\n",
    "print(get_encoded_sentence('i eat lunch', word_to_index)) #문장의 시작지점인 BOS 1, i 3,  eat 6,  lunch 7 출력"
   ]
  },
  {
   "cell_type": "code",
   "execution_count": 6,
   "id": "offshore-diana",
   "metadata": {},
   "outputs": [
    {
     "name": "stdout",
     "output_type": "stream",
     "text": [
      "[[1, 3, 4, 5], [1, 3, 6, 7], [1, 8, 3, 4, 9]]\n"
     ]
    }
   ],
   "source": [
    "# 5. 여러 개의 문장 리스트를 한꺼번에 숫자 텐서로 encode\n",
    "# get_encoded_sentence 함수 사용 하기(여러 개의 문장 리스트를 한꺼번에 숫자 텐서로 encode\n",
    "\n",
    "def get_encoded_sentences(sentences, word_to_index): \n",
    "    return [get_encoded_sentence(sentence, word_to_index) for sentence in sentences]\n",
    "\n",
    "# encode 백터 변환 1. sentences 리스트 참고\n",
    "encoded_sentences = get_encoded_sentences(sentences, word_to_index) \n",
    "print(encoded_sentences)"
   ]
  },
  {
   "cell_type": "code",
   "execution_count": 7,
   "id": "interstate-digit",
   "metadata": {},
   "outputs": [
    {
     "name": "stdout",
     "output_type": "stream",
     "text": [
      "i feel hungry\n"
     ]
    }
   ],
   "source": [
    "# 기타1. 숫자 벡터로 encode된 문장을 원래대로 decode하기\n",
    " \n",
    "def get_decoded_sentence(encoded_sentence, index_to_word):\n",
    "    return ' '.join(index_to_word[index] if index in index_to_word else '<UNK>' for index in encoded_sentence[1:])  #[1:]를 통해 <BOS>를 제외\n",
    "\n",
    "print(get_decoded_sentence([1, 3, 4, 5], index_to_word))"
   ]
  },
  {
   "cell_type": "code",
   "execution_count": 8,
   "id": "australian-aluminum",
   "metadata": {},
   "outputs": [
    {
     "name": "stdout",
     "output_type": "stream",
     "text": [
      "['i feel hungry', 'i eat lunch', 'now i feel happy']\n"
     ]
    }
   ],
   "source": [
    "# 기타2.여러 개의 숫자 벡터로 encode된 문장을 한꺼번에 원래대로 decode하기\n",
    "\n",
    "def get_decoded_sentences(encoded_sentences, index_to_word):\n",
    "    return [get_decoded_sentence(encoded_sentence, index_to_word) for encoded_sentence in encoded_sentences]\n",
    "\n",
    "# 7. encoded_sentence 리스트 변환  \n",
    "print(get_decoded_sentences(encoded_sentences, index_to_word))"
   ]
  },
  {
   "cell_type": "code",
   "execution_count": 9,
   "id": "killing-street",
   "metadata": {},
   "outputs": [
    {
     "name": "stderr",
     "output_type": "stream",
     "text": [
      "/opt/conda/lib/python3.7/site-packages/ipykernel_launcher.py:12: VisibleDeprecationWarning: Creating an ndarray from ragged nested sequences (which is a list-or-tuple of lists-or-tuples-or ndarrays with different lengths or shapes) is deprecated. If you meant to do this, you must specify 'dtype=object' when creating the ndarray\n",
      "  if sys.path[0] == '':\n"
     ]
    },
    {
     "name": "stdout",
     "output_type": "stream",
     "text": [
      "tf.Tensor(\n",
      "[[[-3.62790003e-02  2.35451572e-02 -2.72021536e-02  1.12747326e-02]\n",
      "  [ 3.44746001e-02  6.08034059e-03 -2.88340803e-02  4.91940863e-02]\n",
      "  [ 1.95310600e-02  3.64458226e-02  4.89302538e-02 -1.47814676e-03]\n",
      "  [-1.62940845e-02  3.97322327e-03 -3.15822139e-02 -1.98922306e-03]\n",
      "  [-4.14770842e-02 -2.51033437e-02  1.61983855e-02  1.47389211e-02]]\n",
      "\n",
      " [[-3.62790003e-02  2.35451572e-02 -2.72021536e-02  1.12747326e-02]\n",
      "  [ 3.44746001e-02  6.08034059e-03 -2.88340803e-02  4.91940863e-02]\n",
      "  [-3.57899182e-02  1.95243023e-02 -4.72370535e-03  1.45143755e-02]\n",
      "  [ 1.59558542e-02  6.04356453e-03 -7.43754208e-05  1.31484382e-02]\n",
      "  [-4.14770842e-02 -2.51033437e-02  1.61983855e-02  1.47389211e-02]]\n",
      "\n",
      " [[-3.62790003e-02  2.35451572e-02 -2.72021536e-02  1.12747326e-02]\n",
      "  [ 2.11765282e-02  1.20259635e-02  2.34015249e-02  2.42548920e-02]\n",
      "  [ 3.44746001e-02  6.08034059e-03 -2.88340803e-02  4.91940863e-02]\n",
      "  [ 1.95310600e-02  3.64458226e-02  4.89302538e-02 -1.47814676e-03]\n",
      "  [-3.69032398e-02 -3.76222357e-02  2.58270837e-02 -4.49033491e-02]]], shape=(3, 5, 4), dtype=float32)\n"
     ]
    }
   ],
   "source": [
    "# 6. 임베딩 처리 *raw_inputs 에 keras.preprocessing.sequence.pad_sequences 함수를 사용하여 패딩처리도 같이 진행\n",
    "\n",
    "import numpy as np\n",
    "import tensorflow as tf\n",
    "from tensorflow import keras\n",
    "\n",
    "vocab_size = len(word_to_index)  # 위 예시에서 딕셔너리에 포함된 단어 개수는 10\n",
    "word_vector_dim = 4    # 그림과 같이 4차원의 워드 벡터를 가정합니다.\n",
    "\n",
    "embedding = tf.keras.layers.Embedding(input_dim=vocab_size, output_dim=word_vector_dim, mask_zero=True)\n",
    "\n",
    "raw_inputs = np.array(get_encoded_sentences(sentences, word_to_index)) # embedding 레이어의 input이 될 수 있음에 주의 \n",
    "\n",
    "\n",
    "raw_inputs = keras.preprocessing.sequence.pad_sequences(raw_inputs,\n",
    "                                                       value=word_to_index['<PAD>'],\n",
    "                                                       padding='post', #RNN은 입력데이터가 순차적으로 처리 마지막 입력이 무의미, 'pre'가 훨씬 유리\n",
    "                                                       maxlen=5)\n",
    "output = embedding(raw_inputs)\n",
    "print(output) # output의 shape의 3은 입력문장 개수, 5는 maxlen(입력문장의 최대 길이), 4는 word_vector_dim(워드 벡터의 차원 수)"
   ]
  },
  {
   "cell_type": "markdown",
   "id": "classical-rebate",
   "metadata": {},
   "source": [
    "### RNN 모델의 종류\n",
    "- 참고 : https://www.youtube.com/watch?v=-SHPG_KMUkQ&t=38s , [도서] 처음배우는 딥러닝 챗봇\n",
    "\n",
    "- many to one : 데이터를 입력 받아 정산인지 비정상인지 판단 예) 스팸인지 판단하는 모델\n",
    "\n",
    "- many to many 1 : 하나를 입력 받아 여러개를 출력 예) 이미지를 입력시 이미지를 설명하는 텍스트 출력\n",
    "\n",
    "- many to many 2 : 여러개 입력 받아 여러개 출력  예) 동영상 실시간 프레임에 대한 분석 결과를 출력, 번역기\n"
   ]
  },
  {
   "cell_type": "code",
   "execution_count": 10,
   "id": "brave-reliance",
   "metadata": {
    "scrolled": true
   },
   "outputs": [
    {
     "name": "stdout",
     "output_type": "stream",
     "text": [
      "Model: \"sequential\"\n",
      "_________________________________________________________________\n",
      "Layer (type)                 Output Shape              Param #   \n",
      "=================================================================\n",
      "embedding_1 (Embedding)      (None, None, 4)           40        \n",
      "_________________________________________________________________\n",
      "lstm (LSTM)                  (None, 8)                 416       \n",
      "_________________________________________________________________\n",
      "dense (Dense)                (None, 8)                 72        \n",
      "_________________________________________________________________\n",
      "dense_1 (Dense)              (None, 1)                 9         \n",
      "=================================================================\n",
      "Total params: 537\n",
      "Trainable params: 537\n",
      "Non-trainable params: 0\n",
      "_________________________________________________________________\n"
     ]
    }
   ],
   "source": [
    "# 7. RNN 모델 활용하기 \n",
    "\n",
    "vocab_size = 10  # 어휘 사전의 크기입니다(10개의 단어)\n",
    "word_vector_dim = 4  # 단어 하나를 표현하는 임베딩 벡터의 차원수입니다. \n",
    "\n",
    "model = keras.Sequential()\n",
    "model.add(keras.layers.Embedding(vocab_size, word_vector_dim, input_shape=(None,)))\n",
    "model.add(keras.layers.LSTM(8))   # 가장 널리 쓰이는 RNN인 LSTM 레이어를 사용하였습니다. 이때 LSTM state 벡터의 차원수는 8로 하였습니다. (변경 가능)\n",
    "model.add(keras.layers.Dense(8, activation='relu'))\n",
    "model.add(keras.layers.Dense(1, activation='sigmoid'))  # 최종 출력은 긍정/부정을 나타내는 1dim 입니다.\n",
    "\n",
    "model.summary()"
   ]
  },
  {
   "cell_type": "code",
   "execution_count": 11,
   "id": "coated-paint",
   "metadata": {},
   "outputs": [
    {
     "name": "stdout",
     "output_type": "stream",
     "text": [
      "Model: \"sequential_1\"\n",
      "_________________________________________________________________\n",
      "Layer (type)                 Output Shape              Param #   \n",
      "=================================================================\n",
      "embedding_2 (Embedding)      (None, None, 4)           40        \n",
      "_________________________________________________________________\n",
      "conv1d (Conv1D)              (None, None, 16)          464       \n",
      "_________________________________________________________________\n",
      "max_pooling1d (MaxPooling1D) (None, None, 16)          0         \n",
      "_________________________________________________________________\n",
      "conv1d_1 (Conv1D)            (None, None, 16)          1808      \n",
      "_________________________________________________________________\n",
      "global_max_pooling1d (Global (None, 16)                0         \n",
      "_________________________________________________________________\n",
      "dense_2 (Dense)              (None, 8)                 136       \n",
      "_________________________________________________________________\n",
      "dense_3 (Dense)              (None, 1)                 9         \n",
      "=================================================================\n",
      "Total params: 2,457\n",
      "Trainable params: 2,457\n",
      "Non-trainable params: 0\n",
      "_________________________________________________________________\n"
     ]
    }
   ],
   "source": [
    "# 8. CNN 계열의 Conv1D 활용하기 (장점 : 병렬처리로 학습속도가 빠름)\n",
    "\n",
    "vocab_size = 10  # 어휘 사전의 크기입니다(10개의 단어)\n",
    "word_vector_dim = 4   # 단어 하나를 표현하는 임베딩 벡터의 차원 수입니다. \n",
    "\n",
    "model = keras.Sequential()\n",
    "model.add(keras.layers.Embedding(vocab_size, word_vector_dim, input_shape=(None,)))\n",
    "model.add(keras.layers.Conv1D(16, 7, activation='relu'))\n",
    "model.add(keras.layers.MaxPooling1D(5))\n",
    "model.add(keras.layers.Conv1D(16, 7, activation='relu'))\n",
    "model.add(keras.layers.GlobalMaxPooling1D())\n",
    "model.add(keras.layers.Dense(8, activation='relu'))\n",
    "model.add(keras.layers.Dense(1, activation='sigmoid'))  # 최종 출력은 긍정/부정을 나타내는 1dim 입니다.\n",
    "\n",
    "model.summary()"
   ]
  },
  {
   "cell_type": "code",
   "execution_count": 12,
   "id": "tutorial-charleston",
   "metadata": {},
   "outputs": [
    {
     "name": "stdout",
     "output_type": "stream",
     "text": [
      "Model: \"sequential_2\"\n",
      "_________________________________________________________________\n",
      "Layer (type)                 Output Shape              Param #   \n",
      "=================================================================\n",
      "embedding_3 (Embedding)      (None, None, 4)           40        \n",
      "_________________________________________________________________\n",
      "global_max_pooling1d_1 (Glob (None, 4)                 0         \n",
      "_________________________________________________________________\n",
      "dense_4 (Dense)              (None, 8)                 40        \n",
      "_________________________________________________________________\n",
      "dense_5 (Dense)              (None, 1)                 9         \n",
      "=================================================================\n",
      "Total params: 89\n",
      "Trainable params: 89\n",
      "Non-trainable params: 0\n",
      "_________________________________________________________________\n"
     ]
    }
   ],
   "source": [
    "# 9. CNN 계열의 GlobalMaxPooling1D() 활용하기 (정해진 필터 크기에서 최댓값 추출)\n",
    "\n",
    "vocab_size = 10  # 어휘 사전의 크기입니다(10개의 단어)\n",
    "word_vector_dim = 4   # 단어 하나를 표현하는 임베딩 벡터의 차원 수입니다. \n",
    "\n",
    "model = keras.Sequential()\n",
    "model.add(keras.layers.Embedding(vocab_size, word_vector_dim, input_shape=(None,)))\n",
    "model.add(keras.layers.GlobalMaxPooling1D())\n",
    "model.add(keras.layers.Dense(8, activation='relu'))\n",
    "model.add(keras.layers.Dense(1, activation='sigmoid'))  # 최종 출력은 긍정/부정을 나타내는 1dim 입니다.\n",
    "\n",
    "model.summary()"
   ]
  },
  {
   "cell_type": "markdown",
   "id": "junior-elizabeth",
   "metadata": {},
   "source": [
    "### IMDb 영화리뷰 감성분석 태스크 도전\n",
    "- 긍정1, 부정0 라벨, 5만개 영어 리뷰 텍스트로 구성(훈련용 데이터 50%, 테스트용 데이터 50% 사용하도록 지정)"
   ]
  },
  {
   "cell_type": "markdown",
   "id": "pediatric-execution",
   "metadata": {},
   "source": [
    "<mark><b>[진행 순서]</b>\n",
    "\n",
    "1. 데이터셋 다운로드 (encode된 텍스트 데이터를 다운로드) https://wikidocs.net/24586\n",
    "2. 데이터셋 확인하기\n",
    "- word_to_index 확인하기\n",
    "3. word_to_index, index_to_word 보정\n",
    "4. decode 된 데이터셋 확인\n",
    "5. 케라스 패딩을 위한 도구  pad_sequences() 로 활용하기 https://wikidocs.net/83544\n",
    "- 넘파이 padding='post': 뒤에 0을 채운다.\n",
    "- 케라스 pad_sequences : 앞에 0을 채운다.\n",
    "- max_len의 인자로 정수를 주면, 해당 정수로 모든 문서의 길이를 동일하게 한다.\n",
    "- padding 방식 변경해 보기 -뒤쪽('post') \n",
    "- padding 방식 변경해 보기 -앞쪽('pre') *RNN은 입력데이터가 순차적으로 처리 마지막 입력이 무의미, 'pre'가 훨씬 유리"
   ]
  },
  {
   "cell_type": "code",
   "execution_count": 13,
   "id": "sweet-quantum",
   "metadata": {},
   "outputs": [
    {
     "name": "stdout",
     "output_type": "stream",
     "text": [
      "2.4.1\n"
     ]
    },
    {
     "name": "stderr",
     "output_type": "stream",
     "text": [
      "<string>:6: VisibleDeprecationWarning: Creating an ndarray from ragged nested sequences (which is a list-or-tuple of lists-or-tuples-or ndarrays with different lengths or shapes) is deprecated. If you meant to do this, you must specify 'dtype=object' when creating the ndarray\n",
      "/opt/conda/lib/python3.7/site-packages/tensorflow/python/keras/datasets/imdb.py:159: VisibleDeprecationWarning: Creating an ndarray from ragged nested sequences (which is a list-or-tuple of lists-or-tuples-or ndarrays with different lengths or shapes) is deprecated. If you meant to do this, you must specify 'dtype=object' when creating the ndarray\n",
      "  x_train, y_train = np.array(xs[:idx]), np.array(labels[:idx])\n"
     ]
    },
    {
     "name": "stdout",
     "output_type": "stream",
     "text": [
      "훈련 샘플 개수: 25000, 테스트 개수: 25000\n"
     ]
    },
    {
     "name": "stderr",
     "output_type": "stream",
     "text": [
      "/opt/conda/lib/python3.7/site-packages/tensorflow/python/keras/datasets/imdb.py:160: VisibleDeprecationWarning: Creating an ndarray from ragged nested sequences (which is a list-or-tuple of lists-or-tuples-or ndarrays with different lengths or shapes) is deprecated. If you meant to do this, you must specify 'dtype=object' when creating the ndarray\n",
      "  x_test, y_test = np.array(xs[idx:]), np.array(labels[idx:])\n"
     ]
    }
   ],
   "source": [
    "# 1. 데이터셋 다운로드 ( encode된 텍스트 데이터를 다운로드)\n",
    "\n",
    "import tensorflow as tf\n",
    "from tensorflow import keras\n",
    "import numpy as np\n",
    "\n",
    "print(tf.__version__)\n",
    "imdb = keras.datasets.imdb\n",
    "\n",
    "# IMDb 데이터셋 다운로드 \n",
    "(x_train, y_train), (x_test, y_test) = imdb.load_data(num_words=10000)\n",
    "print(\"훈련 샘플 개수: {}, 테스트 개수: {}\".format(len(x_train), len(x_test)))"
   ]
  },
  {
   "cell_type": "code",
   "execution_count": 14,
   "id": "elementary-speech",
   "metadata": {},
   "outputs": [
    {
     "name": "stdout",
     "output_type": "stream",
     "text": [
      "[1, 14, 22, 16, 43, 530, 973, 1622, 1385, 65, 458, 4468, 66, 3941, 4, 173, 36, 256, 5, 25, 100, 43, 838, 112, 50, 670, 2, 9, 35, 480, 284, 5, 150, 4, 172, 112, 167, 2, 336, 385, 39, 4, 172, 4536, 1111, 17, 546, 38, 13, 447, 4, 192, 50, 16, 6, 147, 2025, 19, 14, 22, 4, 1920, 4613, 469, 4, 22, 71, 87, 12, 16, 43, 530, 38, 76, 15, 13, 1247, 4, 22, 17, 515, 17, 12, 16, 626, 18, 2, 5, 62, 386, 12, 8, 316, 8, 106, 5, 4, 2223, 5244, 16, 480, 66, 3785, 33, 4, 130, 12, 16, 38, 619, 5, 25, 124, 51, 36, 135, 48, 25, 1415, 33, 6, 22, 12, 215, 28, 77, 52, 5, 14, 407, 16, 82, 2, 8, 4, 107, 117, 5952, 15, 256, 4, 2, 7, 3766, 5, 723, 36, 71, 43, 530, 476, 26, 400, 317, 46, 7, 4, 2, 1029, 13, 104, 88, 4, 381, 15, 297, 98, 32, 2071, 56, 26, 141, 6, 194, 7486, 18, 4, 226, 22, 21, 134, 476, 26, 480, 5, 144, 30, 5535, 18, 51, 36, 28, 224, 92, 25, 104, 4, 226, 65, 16, 38, 1334, 88, 12, 16, 283, 5, 16, 4472, 113, 103, 32, 15, 16, 5345, 19, 178, 32]\n",
      "라벨:  1\n",
      "1번째 리뷰 문장 길이:  218\n",
      "2번째 리뷰 문장 길이:  189\n"
     ]
    }
   ],
   "source": [
    "# 2. 데이터셋 확인하기\n",
    "\n",
    "print(x_train[0])  # 1번째 리뷰데이터\n",
    "print('라벨: ', y_train[0])  # 1번째 리뷰데이터의 라벨\n",
    "print('1번째 리뷰 문장 길이: ', len(x_train[0]))\n",
    "print('2번째 리뷰 문장 길이: ', len(x_train[1]))"
   ]
  },
  {
   "cell_type": "code",
   "execution_count": 15,
   "id": "modern-equilibrium",
   "metadata": {},
   "outputs": [
    {
     "name": "stdout",
     "output_type": "stream",
     "text": [
      "the\n",
      "1\n"
     ]
    }
   ],
   "source": [
    "# word_to_index 확인하기\n",
    "\n",
    "word_to_index = imdb.get_word_index() # imdb.get_word_index()에 각 단어와 맵핑되는 정수가 저장되어 있음\n",
    "index_to_word = {index:word for word, index in word_to_index.items()}\n",
    "print(index_to_word[1])     # 'the' 가 출력됩니다. \n",
    "print(word_to_index['the'])  # 1 이 출력됩니다."
   ]
  },
  {
   "cell_type": "code",
   "execution_count": 16,
   "id": "overall-large",
   "metadata": {},
   "outputs": [
    {
     "name": "stdout",
     "output_type": "stream",
     "text": [
      "<BOS>\n",
      "4\n",
      "the\n"
     ]
    }
   ],
   "source": [
    "# 3. word_to_index, index_to_word 보정\n",
    "#  <주의> IMDB 리뷰 데이터셋에서 정한 규칙 : imdb.get_word_index()에 저장된 값에 +3을 해야 실제 맵핑\n",
    "\n",
    "#실제 인코딩 인덱스는 제공된 word_to_index에서 index 기준으로 3씩 뒤로 밀려 있습니다.  \n",
    "word_to_index = {k:(v+3) for k,v in word_to_index.items()}\n",
    "\n",
    "# 처음 몇 개 인덱스는 사전에 정의되어 있습니다\n",
    "word_to_index[\"<PAD>\"] = 0\n",
    "word_to_index[\"<BOS>\"] = 1\n",
    "word_to_index[\"<UNK>\"] = 2  # unknown\n",
    "word_to_index[\"<UNUSED>\"] = 3\n",
    "\n",
    "index_to_word[0] = \"<PAD>\"\n",
    "index_to_word[1] = \"<BOS>\"\n",
    "index_to_word[2] = \"<UNK>\"\n",
    "index_to_word[3] = \"<UNUSED>\"\n",
    "\n",
    "index_to_word = {index:word for word, index in word_to_index.items()}\n",
    "\n",
    "print(index_to_word[1])     # '<BOS>' 가 출력됩니다. \n",
    "print(word_to_index['the'])  # 4 이 출력됩니다. \n",
    "print(index_to_word[4])     # 'the' 가 출력됩니다."
   ]
  },
  {
   "cell_type": "code",
   "execution_count": 17,
   "id": "medium-eagle",
   "metadata": {},
   "outputs": [
    {
     "name": "stdout",
     "output_type": "stream",
     "text": [
      "this film was just brilliant casting location scenery story direction everyone's really suited the part they played and you could just imagine being there robert <UNK> is an amazing actor and now the same being director <UNK> father came from the same scottish island as myself so i loved the fact there was a real connection with this film the witty remarks throughout the film were great it was just brilliant so much that i bought the film as soon as it was released for <UNK> and would recommend it to everyone to watch and the fly fishing was amazing really cried at the end it was so sad and you know what they say if you cry at a film it must have been good and this definitely was also <UNK> to the two little boy's that played the <UNK> of norman and paul they were just brilliant children are often left out of the <UNK> list i think because the stars that play them all grown up are such a big profile for the whole film but these children are amazing and should be praised for what they have done don't you think the whole story was so lovely because it was true and was someone's life after all that was shared with us all\n",
      "라벨:  1\n"
     ]
    }
   ],
   "source": [
    "# 4. decode 된 데이터셋 확인\n",
    "\n",
    "print(get_decoded_sentence(x_train[0], index_to_word))\n",
    "print('라벨: ', y_train[0])  # 1번째 리뷰데이터의 라벨"
   ]
  },
  {
   "cell_type": "code",
   "execution_count": 18,
   "id": "signed-quebec",
   "metadata": {},
   "outputs": [
    {
     "name": "stdout",
     "output_type": "stream",
     "text": [
      "문장길이 평균 :  234.75892\n",
      "문장길이 최대 :  2494\n",
      "문장길이 표준편차 :  172.91149458735703\n",
      "pad_sequences maxlen :  580\n",
      "전체 문장의 0.94536%가 maxlen 설정값 이내에 포함됩니다. \n"
     ]
    }
   ],
   "source": [
    "# 5. 케라스 패딩을 위한 도구  pad_sequences() 로 활용하기 \n",
    "\n",
    "total_data_text = list(x_train) + list(x_test)\n",
    "# 텍스트데이터 문장길이의 리스트를 생성한 후\n",
    "num_tokens = [len(tokens) for tokens in total_data_text]\n",
    "num_tokens = np.array(num_tokens)\n",
    "# 문장길이의 평균값, 최대값, 표준편차를 계산해 본다. \n",
    "print('문장길이 평균 : ', np.mean(num_tokens))\n",
    "print('문장길이 최대 : ', np.max(num_tokens))\n",
    "print('문장길이 표준편차 : ', np.std(num_tokens))\n",
    "\n",
    "# 예를들어, 최대 길이를 (평균 + 2*표준편차)로 한다면,  \n",
    "max_tokens = np.mean(num_tokens) + 2 * np.std(num_tokens)\n",
    "maxlen = int(max_tokens)\n",
    "#max_len의 인자로 정수를 주면, 해당 정수로 모든 문서의 길이를 동일하게 하며 값설젇이 전체 모델 성능에 영향\n",
    "print('pad_sequences maxlen : ', maxlen) \n",
    "print('전체 문장의 {}%가 maxlen 설정값 이내에 포함됩니다. '.format(np.sum(num_tokens < max_tokens) / len(num_tokens)))"
   ]
  },
  {
   "cell_type": "code",
   "execution_count": 21,
   "id": "reported-emission",
   "metadata": {},
   "outputs": [
    {
     "name": "stdout",
     "output_type": "stream",
     "text": [
      "(25000, 580)\n"
     ]
    }
   ],
   "source": [
    "# padding 방식 변경해 보기  -뒤쪽('post') \n",
    "x_train = keras.preprocessing.sequence.pad_sequences(x_train,\n",
    "                                                        value=word_to_index[\"<PAD>\"],\n",
    "                                                        padding='post', # 혹은 'pre'\n",
    "                                                        maxlen=maxlen)\n",
    "\n",
    "x_test = keras.preprocessing.sequence.pad_sequences(x_test,\n",
    "                                                       value=word_to_index[\"<PAD>\"],\n",
    "                                                       padding='post', # 혹은 'pre'\n",
    "                                                       maxlen=maxlen)\n",
    "\n",
    "print(x_train.shape)"
   ]
  },
  {
   "cell_type": "code",
   "execution_count": 22,
   "id": "committed-african",
   "metadata": {},
   "outputs": [
    {
     "name": "stdout",
     "output_type": "stream",
     "text": [
      "(25000, 580)\n"
     ]
    }
   ],
   "source": [
    "# padding 방식 변경해 보기 -앞쪽('pre')  *RNN은 입력데이터가 순차적으로 처리 마지막 입력이 무의미, 'pre'가 훨씬 유리\n",
    "x_train = keras.preprocessing.sequence.pad_sequences(x_train,\n",
    "                                                        value=word_to_index[\"<PAD>\"],\n",
    "                                                        padding='pre', # 혹은 'pre'\n",
    "                                                        maxlen=maxlen)\n",
    "\n",
    "x_test = keras.preprocessing.sequence.pad_sequences(x_test,\n",
    "                                                       value=word_to_index[\"<PAD>\"],\n",
    "                                                       padding='pre', # 혹은 'pre'\n",
    "                                                       maxlen=maxlen)\n",
    "\n",
    "print(x_train.shape)  #이번 데이터셋은 차이를 모르겠음.."
   ]
  },
  {
   "cell_type": "markdown",
   "id": "certain-sheep",
   "metadata": {},
   "source": [
    "### IMDb 영화리뷰 감성분석 딥러닝 모델 설계와 훈련"
   ]
  },
  {
   "cell_type": "markdown",
   "id": "minor-fleet",
   "metadata": {},
   "source": [
    "<mark><b>[진행 순서]</b>\n",
    "\n",
    "1. RNN 모델 설계\n",
    "2. 훈련용 데이터셋 10000건을 분리하여 검증셋(validation set)으로 사용\n",
    "3. 모델 학습\n",
    "4. 모델 테스트셋으로 평가\n",
    "5. epoch에 따른 그래프를 그려볼 수 있는 항목들\n",
    "6. 그래프 Training and validation loss로 트레이닝 최적점 추정\n",
    "7. 그래프 Training and validation accuracy 로 트레이닝 최적점 추정\n"
   ]
  },
  {
   "cell_type": "code",
   "execution_count": 23,
   "id": "solid-aggregate",
   "metadata": {},
   "outputs": [
    {
     "name": "stdout",
     "output_type": "stream",
     "text": [
      "Model: \"sequential_3\"\n",
      "_________________________________________________________________\n",
      "Layer (type)                 Output Shape              Param #   \n",
      "=================================================================\n",
      "embedding_4 (Embedding)      (None, None, 16)          160000    \n",
      "_________________________________________________________________\n",
      "lstm_1 (LSTM)                (None, 8)                 800       \n",
      "_________________________________________________________________\n",
      "dense_6 (Dense)              (None, 8)                 72        \n",
      "_________________________________________________________________\n",
      "dense_7 (Dense)              (None, 1)                 9         \n",
      "=================================================================\n",
      "Total params: 160,881\n",
      "Trainable params: 160,881\n",
      "Non-trainable params: 0\n",
      "_________________________________________________________________\n"
     ]
    }
   ],
   "source": [
    "# 1. RNN 모델 설계\n",
    "vocab_size = 10000    # 어휘 사전의 크기입니다(10,000개의 단어)\n",
    "word_vector_dim = 16  # 워드 벡터의 차원 수 (변경 가능한 하이퍼파라미터)\n",
    "\n",
    "# model 설계(직접작성)\n",
    "model = keras.Sequential()\n",
    "model.add(keras.layers.Embedding(vocab_size, word_vector_dim, input_shape=(None,)))\n",
    "model.add(keras.layers.LSTM(8))   # 가장 널리 쓰이는 RNN인 LSTM 레이어를 사용하였습니다. 이때 LSTM state 벡터의 차원수는 8로 하였습니다. (변경 가능)\n",
    "model.add(keras.layers.Dense(8, activation='relu'))\n",
    "model.add(keras.layers.Dense(1, activation='sigmoid'))  # 최종 출력은 긍정/부정을 나타내는 1dim 입니다.\n",
    "\n",
    "model.summary()"
   ]
  },
  {
   "cell_type": "code",
   "execution_count": 25,
   "id": "diagnostic-medication",
   "metadata": {},
   "outputs": [
    {
     "name": "stdout",
     "output_type": "stream",
     "text": [
      "(15000, 580)\n",
      "(15000,)\n"
     ]
    }
   ],
   "source": [
    "# 2. 훈련용 데이터셋 10000건을 분리하여 검증셋(validation set)으로 사용\n",
    "\n",
    "# validation set 10000건 분리\n",
    "x_val = x_train[:10000]   \n",
    "y_val = y_train[:10000]\n",
    "\n",
    "# validation set을 제외한 나머지 15000건\n",
    "partial_x_train = x_train[10000:]  \n",
    "partial_y_train = y_train[10000:]\n",
    "\n",
    "print(partial_x_train.shape)\n",
    "print(partial_y_train.shape)"
   ]
  },
  {
   "cell_type": "code",
   "execution_count": 28,
   "id": "conditional-orlando",
   "metadata": {},
   "outputs": [
    {
     "name": "stdout",
     "output_type": "stream",
     "text": [
      "Epoch 1/20\n",
      "30/30 [==============================] - 7s 139ms/step - loss: 0.6932 - accuracy: 0.5004 - val_loss: 0.6931 - val_accuracy: 0.5020\n",
      "Epoch 2/20\n",
      "30/30 [==============================] - 3s 107ms/step - loss: 0.6931 - accuracy: 0.5041 - val_loss: 0.6932 - val_accuracy: 0.5025\n",
      "Epoch 3/20\n",
      "30/30 [==============================] - 3s 107ms/step - loss: 0.6929 - accuracy: 0.5170 - val_loss: 0.6933 - val_accuracy: 0.5033\n",
      "Epoch 4/20\n",
      "30/30 [==============================] - 3s 107ms/step - loss: 0.6925 - accuracy: 0.5275 - val_loss: 0.6930 - val_accuracy: 0.5025\n",
      "Epoch 5/20\n",
      "30/30 [==============================] - 3s 105ms/step - loss: 0.6923 - accuracy: 0.5159 - val_loss: 0.6927 - val_accuracy: 0.5030\n",
      "Epoch 6/20\n",
      "30/30 [==============================] - 3s 106ms/step - loss: 0.6910 - accuracy: 0.5209 - val_loss: 0.6921 - val_accuracy: 0.5042\n",
      "Epoch 7/20\n",
      "30/30 [==============================] - 3s 106ms/step - loss: 0.6884 - accuracy: 0.5189 - val_loss: 0.6912 - val_accuracy: 0.5034\n",
      "Epoch 8/20\n",
      "30/30 [==============================] - 3s 104ms/step - loss: 0.6839 - accuracy: 0.5217 - val_loss: 0.6890 - val_accuracy: 0.5102\n",
      "Epoch 9/20\n",
      "30/30 [==============================] - 3s 104ms/step - loss: 0.6745 - accuracy: 0.5331 - val_loss: 0.6871 - val_accuracy: 0.5131\n",
      "Epoch 10/20\n",
      "30/30 [==============================] - 3s 104ms/step - loss: 0.6946 - accuracy: 0.5730 - val_loss: 0.6927 - val_accuracy: 0.5105\n",
      "Epoch 11/20\n",
      "30/30 [==============================] - 3s 103ms/step - loss: 0.6793 - accuracy: 0.5372 - val_loss: 0.6899 - val_accuracy: 0.5094\n",
      "Epoch 12/20\n",
      "30/30 [==============================] - 3s 103ms/step - loss: 0.6748 - accuracy: 0.5434 - val_loss: 0.6888 - val_accuracy: 0.5096\n",
      "Epoch 13/20\n",
      "30/30 [==============================] - 3s 103ms/step - loss: 0.6736 - accuracy: 0.5411 - val_loss: 0.6888 - val_accuracy: 0.5100\n",
      "Epoch 14/20\n",
      "30/30 [==============================] - 3s 103ms/step - loss: 0.6708 - accuracy: 0.5426 - val_loss: 0.6881 - val_accuracy: 0.5110\n",
      "Epoch 15/20\n",
      "30/30 [==============================] - 3s 103ms/step - loss: 0.6667 - accuracy: 0.5401 - val_loss: 0.6871 - val_accuracy: 0.5126\n",
      "Epoch 16/20\n",
      "30/30 [==============================] - 3s 103ms/step - loss: 0.6643 - accuracy: 0.5386 - val_loss: 0.6860 - val_accuracy: 0.5141\n",
      "Epoch 17/20\n",
      "30/30 [==============================] - 3s 102ms/step - loss: 0.6626 - accuracy: 0.5353 - val_loss: 0.6851 - val_accuracy: 0.5159\n",
      "Epoch 18/20\n",
      "30/30 [==============================] - 3s 102ms/step - loss: 0.6570 - accuracy: 0.5407 - val_loss: 0.6846 - val_accuracy: 0.5176\n",
      "Epoch 19/20\n",
      "30/30 [==============================] - 3s 101ms/step - loss: 0.6558 - accuracy: 0.5395 - val_loss: 0.6854 - val_accuracy: 0.5184\n",
      "Epoch 20/20\n",
      "30/30 [==============================] - 3s 100ms/step - loss: 0.6544 - accuracy: 0.5375 - val_loss: 0.6977 - val_accuracy: 0.5126\n"
     ]
    }
   ],
   "source": [
    "# 3. 모델 학습\n",
    "model.compile(optimizer='adam',\n",
    "              loss='binary_crossentropy',\n",
    "              metrics=['accuracy'])\n",
    "              \n",
    "epochs=20  # 몇 epoch를 훈련하면 좋을지 결과를 보면서 바꾸어 봅시다. \n",
    "\n",
    "history = model.fit(partial_x_train,\n",
    "                    partial_y_train,\n",
    "                    epochs=epochs,\n",
    "                    batch_size=512,\n",
    "                    validation_data=(x_val, y_val),\n",
    "                    verbose=1)"
   ]
  },
  {
   "cell_type": "code",
   "execution_count": 29,
   "id": "social-belarus",
   "metadata": {},
   "outputs": [
    {
     "name": "stdout",
     "output_type": "stream",
     "text": [
      "782/782 - 21s - loss: 0.6952 - accuracy: 0.5096\n",
      "[0.6952013969421387, 0.5095999836921692]\n"
     ]
    }
   ],
   "source": [
    "# 4. 모델 테스트셋으로 평가\n",
    "results = model.evaluate(x_test,  y_test, verbose=2)\n",
    "\n",
    "print(results)"
   ]
  },
  {
   "cell_type": "code",
   "execution_count": 30,
   "id": "usual-volunteer",
   "metadata": {},
   "outputs": [
    {
     "name": "stdout",
     "output_type": "stream",
     "text": [
      "dict_keys(['loss', 'accuracy', 'val_loss', 'val_accuracy'])\n"
     ]
    }
   ],
   "source": [
    "# 5.epoch에 따른 그래프를 그려볼 수 있는 항목들\n",
    "history_dict = history.history\n",
    "print(history_dict.keys()) "
   ]
  },
  {
   "cell_type": "code",
   "execution_count": 32,
   "id": "guilty-thanks",
   "metadata": {},
   "outputs": [
    {
     "data": {
      "image/png": "[encoded data removed]",
      "text/plain": [
       "<Figure size 432x288 with 1 Axes>"
      ]
     },
     "metadata": {
      "needs_background": "light"
     },
     "output_type": "display_data"
    }
   ],
   "source": [
    "# 6. 그래프 Training and validation loss로 트레이닝 최적점 추정\n",
    "\n",
    "import matplotlib.pyplot as plt\n",
    "\n",
    "acc = history_dict['accuracy']\n",
    "val_acc = history_dict['val_accuracy']\n",
    "loss = history_dict['loss']\n",
    "val_loss = history_dict['val_loss']\n",
    "\n",
    "epochs = range(1, len(acc) + 1)\n",
    "\n",
    "# \"bo\"는 \"파란색 점\"입니다\n",
    "plt.plot(epochs, loss, 'bo', label='Training loss')\n",
    "# b는 \"파란 실선\"입니다\n",
    "plt.plot(epochs, val_loss, 'b', label='Validation loss')\n",
    "plt.title('Training and validation loss')\n",
    "plt.xlabel('Epochs') # Epochs 19정도에 lOSS가 제일 낮다.\n",
    "plt.ylabel('Loss')\n",
    "plt.legend()\n",
    "\n",
    "plt.show()"
   ]
  },
  {
   "cell_type": "code",
   "execution_count": 33,
   "id": "involved-athletics",
   "metadata": {},
   "outputs": [
    {
     "data": {
      "image/png": "[encoded data removed]",
      "text/plain": [
       "<Figure size 432x288 with 1 Axes>"
      ]
     },
     "metadata": {
      "needs_background": "light"
     },
     "output_type": "display_data"
    }
   ],
   "source": [
    "# 7. 그래프 Training and validation accuracy 로 트레이닝 최적점 추정\n",
    "\n",
    "plt.clf()   # 그림을 초기화합니다\n",
    "\n",
    "plt.plot(epochs, acc, 'bo', label='Training acc')\n",
    "plt.plot(epochs, val_acc, 'b', label='Validation acc')\n",
    "plt.title('Training and validation accuracy')\n",
    "plt.xlabel('Epochs') # Epochs 10, 19정도에 Accuracy가 제일 높다.\n",
    "plt.ylabel('Accuracy')\n",
    "plt.legend()\n",
    "\n",
    "plt.show()"
   ]
  },
  {
   "cell_type": "markdown",
   "id": "diverse-drink",
   "metadata": {},
   "source": [
    "### IMDb 영화리뷰 감성분석 Word2Vec (연관단어 유추)\n",
    "- CBOW 모델 : 맥락이라 표현되는 주변 단어들을 이용해 타깃 단어를 예측 ( 예: 오늘(주변단어) ___ (타깃단어)는 폭염이(주변단어) 심해요.)\n",
    "- Skip-gram 모델 : 하나의 타깃 단어를 이용해 주변 단어들을 예측 ( 예: ----(주변단어) 치킨과(타깃단어)  --(주변단어)를 먹고 싶네요.)\n",
    "- 워드 벡터를 다루기 위해 pip list | grep gensim 으로 패키지 버전 확인 필요"
   ]
  },
  {
   "cell_type": "markdown",
   "id": "latter-sussex",
   "metadata": {},
   "source": [
    "<mark><b>[진행 순서]</b>\n",
    "\n",
    "1. RNN 모델 설계\n",
    "2. 훈련용 데이터셋 10000건을 분리하여 검증셋(validation set)으로 사용\n",
    "3. 모델 학습\n",
    "4. 모델 테스트셋으로 평가\n",
    "5. epoch에 따른 그래프를 그려볼 수 있는 항목들\n",
    "6. 그래프 Training and validation loss로 트레이닝 최적점 추정\n",
    "7. 그래프 Training and validation accuracy 로 트레이닝 최적점 추정\n",
    "\n",
    "    pass"
   ]
  },
  {
   "cell_type": "code",
   "execution_count": 34,
   "id": "unlikely-access",
   "metadata": {},
   "outputs": [
    {
     "name": "stdout",
     "output_type": "stream",
     "text": [
      "(10000, 16)\n"
     ]
    }
   ],
   "source": [
    "embedding_layer = model.layers[0]\n",
    "weights = embedding_layer.get_weights()[0]\n",
    "print(weights.shape)    # shape: (vocab_size, embedding_dim)"
   ]
  },
  {
   "cell_type": "code",
   "execution_count": 35,
   "id": "hungry-basics",
   "metadata": {},
   "outputs": [],
   "source": [
    "import os\n",
    "\n",
    "# 학습한 Embedding 파라미터를 파일에 써서 저장합니다. \n",
    "word2vec_file_path = os.getenv('HOME')+'/aiffel/sentiment_classification/data/word2vec.txt'\n",
    "f = open(word2vec_file_path, 'w')\n",
    "f.write('{} {}\\n'.format(vocab_size-4, word_vector_dim))  # 몇개의 벡터를 얼마 사이즈로 기재할지 타이틀을 씁니다.\n",
    "\n",
    "# 단어 개수(에서 특수문자 4개는 제외하고)만큼의 워드 벡터를 파일에 기록합니다. \n",
    "vectors = model.get_weights()[0]\n",
    "for i in range(4,vocab_size):\n",
    "    f.write('{} {}\\n'.format(index_to_word[i], ' '.join(map(str, list(vectors[i, :])))))\n",
    "f.close()"
   ]
  },
  {
   "cell_type": "code",
   "execution_count": 36,
   "id": "ideal-fabric",
   "metadata": {},
   "outputs": [
    {
     "name": "stderr",
     "output_type": "stream",
     "text": [
      "/opt/conda/lib/python3.7/site-packages/gensim/similarities/__init__.py:15: UserWarning: The gensim.similarities.levenshtein submodule is disabled, because the optional Levenshtein package <https://pypi.org/project/python-Levenshtein/> is unavailable. Install Levenhstein (e.g. `pip install python-Levenshtein`) to suppress this warning.\n",
      "  warnings.warn(msg)\n"
     ]
    },
    {
     "data": {
      "text/plain": [
       "array([ 0.02726495, -0.0307985 , -0.04846679,  0.00099088,  0.09673243,\n",
       "        0.10022417,  0.06375012,  0.03707759, -0.08080702, -0.09777314,\n",
       "       -0.03772826,  0.06291641, -0.03981373,  0.08056346,  0.06454742,\n",
       "       -0.10869022], dtype=float32)"
      ]
     },
     "execution_count": 36,
     "metadata": {},
     "output_type": "execute_result"
    }
   ],
   "source": [
    "from gensim.models.keyedvectors import Word2VecKeyedVectors\n",
    "\n",
    "word_vectors = Word2VecKeyedVectors.load_word2vec_format(word2vec_file_path, binary=False)\n",
    "vector = word_vectors['computer']\n",
    "vector"
   ]
  },
  {
   "cell_type": "code",
   "execution_count": 37,
   "id": "celtic-quarterly",
   "metadata": {},
   "outputs": [
    {
     "data": {
      "text/plain": [
       "[('forgiven', 0.8262287378311157),\n",
       " ('situations', 0.7804450392723083),\n",
       " ('nostalgic', 0.7531030774116516),\n",
       " ('shoe', 0.7499609589576721),\n",
       " ('of', 0.7454351186752319),\n",
       " ('wild', 0.7394944429397583),\n",
       " ('fi', 0.7391157150268555),\n",
       " ('everyone', 0.7352408766746521),\n",
       " ('does', 0.7328805327415466),\n",
       " ('outrageous', 0.7312945127487183)]"
      ]
     },
     "execution_count": 37,
     "metadata": {},
     "output_type": "execute_result"
    }
   ],
   "source": [
    "word_vectors.similar_by_word(\"love\")"
   ]
  },
  {
   "cell_type": "code",
   "execution_count": 39,
   "id": "wooden-committee",
   "metadata": {},
   "outputs": [
    {
     "data": {
      "text/plain": [
       "array([ 1.07421875e-01, -2.01171875e-01,  1.23046875e-01,  2.11914062e-01,\n",
       "       -9.13085938e-02,  2.16796875e-01, -1.31835938e-01,  8.30078125e-02,\n",
       "        2.02148438e-01,  4.78515625e-02,  3.66210938e-02, -2.45361328e-02,\n",
       "        2.39257812e-02, -1.60156250e-01, -2.61230469e-02,  9.71679688e-02,\n",
       "       -6.34765625e-02,  1.84570312e-01,  1.70898438e-01, -1.63085938e-01,\n",
       "       -1.09375000e-01,  1.49414062e-01, -4.65393066e-04,  9.61914062e-02,\n",
       "        1.68945312e-01,  2.60925293e-03,  8.93554688e-02,  6.49414062e-02,\n",
       "        3.56445312e-02, -6.93359375e-02, -1.46484375e-01, -1.21093750e-01,\n",
       "       -2.27539062e-01,  2.45361328e-02, -1.24511719e-01, -3.18359375e-01,\n",
       "       -2.20703125e-01,  1.30859375e-01,  3.66210938e-02, -3.63769531e-02,\n",
       "       -1.13281250e-01,  1.95312500e-01,  9.76562500e-02,  1.26953125e-01,\n",
       "        6.59179688e-02,  6.93359375e-02,  1.02539062e-02,  1.75781250e-01,\n",
       "       -1.68945312e-01,  1.21307373e-03, -2.98828125e-01, -1.15234375e-01,\n",
       "        5.66406250e-02, -1.77734375e-01, -2.08984375e-01,  1.76757812e-01,\n",
       "        2.38037109e-02, -2.57812500e-01, -4.46777344e-02,  1.88476562e-01,\n",
       "        5.51757812e-02,  5.02929688e-02, -1.06933594e-01,  1.89453125e-01,\n",
       "       -1.16210938e-01,  8.49609375e-02, -1.71875000e-01,  2.45117188e-01,\n",
       "       -1.73828125e-01, -8.30078125e-03,  4.56542969e-02, -1.61132812e-02,\n",
       "        1.86523438e-01, -6.05468750e-02, -4.17480469e-02,  1.82617188e-01,\n",
       "        2.20703125e-01, -1.22558594e-01, -2.55126953e-02, -3.08593750e-01,\n",
       "        9.13085938e-02,  1.60156250e-01,  1.70898438e-01,  1.19628906e-01,\n",
       "        7.08007812e-02, -2.64892578e-02, -3.08837891e-02,  4.06250000e-01,\n",
       "       -1.01562500e-01,  5.71289062e-02, -7.26318359e-03, -9.17968750e-02,\n",
       "       -1.50390625e-01, -2.55859375e-01,  2.16796875e-01, -3.63769531e-02,\n",
       "        2.24609375e-01,  8.00781250e-02,  1.56250000e-01,  5.27343750e-02,\n",
       "        1.50390625e-01, -1.14746094e-01, -8.64257812e-02,  1.19140625e-01,\n",
       "       -7.17773438e-02,  2.73437500e-01, -1.64062500e-01,  7.29370117e-03,\n",
       "        4.21875000e-01, -1.12792969e-01, -1.35742188e-01, -1.31835938e-01,\n",
       "       -1.37695312e-01, -7.66601562e-02,  6.25000000e-02,  4.98046875e-02,\n",
       "       -1.91406250e-01, -6.03027344e-02,  2.27539062e-01,  5.88378906e-02,\n",
       "       -3.24218750e-01,  5.41992188e-02, -1.35742188e-01,  8.17871094e-03,\n",
       "       -5.24902344e-02, -1.74713135e-03, -9.81445312e-02, -2.86865234e-02,\n",
       "        3.61328125e-02,  2.15820312e-01,  5.98144531e-02, -3.08593750e-01,\n",
       "       -2.27539062e-01,  2.61718750e-01,  9.86328125e-02, -5.07812500e-02,\n",
       "        1.78222656e-02,  1.31835938e-01, -5.35156250e-01, -1.81640625e-01,\n",
       "        1.38671875e-01, -3.10546875e-01, -9.71679688e-02,  1.31835938e-01,\n",
       "       -1.16210938e-01,  7.03125000e-02,  2.85156250e-01,  3.51562500e-02,\n",
       "       -1.01562500e-01, -3.75976562e-02,  1.41601562e-01,  1.42578125e-01,\n",
       "       -5.68847656e-02,  2.65625000e-01, -2.09960938e-01,  9.64355469e-03,\n",
       "       -6.68945312e-02, -4.83398438e-02, -6.10351562e-02,  2.45117188e-01,\n",
       "       -9.66796875e-02,  1.78222656e-02, -1.27929688e-01, -4.78515625e-02,\n",
       "       -7.26318359e-03,  1.79687500e-01,  2.78320312e-02, -2.10937500e-01,\n",
       "       -1.43554688e-01, -1.27929688e-01,  1.73339844e-02, -3.60107422e-03,\n",
       "       -2.04101562e-01,  3.63159180e-03, -1.19628906e-01, -6.15234375e-02,\n",
       "        5.93261719e-02, -3.23486328e-03, -1.70898438e-01, -3.14941406e-02,\n",
       "       -8.88671875e-02, -2.89062500e-01,  3.44238281e-02, -1.87500000e-01,\n",
       "        2.94921875e-01,  1.58203125e-01, -1.19628906e-01,  7.61718750e-02,\n",
       "        6.39648438e-02, -4.68750000e-02, -6.83593750e-02,  1.21459961e-02,\n",
       "       -1.44531250e-01,  4.54101562e-02,  3.68652344e-02,  3.88671875e-01,\n",
       "        1.45507812e-01, -2.55859375e-01, -4.46777344e-02, -1.33789062e-01,\n",
       "       -1.38671875e-01,  6.59179688e-02,  1.37695312e-01,  1.14746094e-01,\n",
       "        2.03125000e-01, -4.78515625e-02,  1.80664062e-02, -8.54492188e-02,\n",
       "       -2.48046875e-01, -3.39843750e-01, -2.83203125e-02,  1.05468750e-01,\n",
       "       -2.14843750e-01, -8.74023438e-02,  7.12890625e-02,  1.87500000e-01,\n",
       "       -1.12304688e-01,  2.73437500e-01, -3.26171875e-01, -1.77734375e-01,\n",
       "       -4.24804688e-02, -2.69531250e-01,  6.64062500e-02, -6.88476562e-02,\n",
       "       -1.99218750e-01, -7.03125000e-02, -2.43164062e-01, -3.66210938e-02,\n",
       "       -7.37304688e-02, -1.77734375e-01,  9.17968750e-02, -1.25000000e-01,\n",
       "       -1.65039062e-01, -3.57421875e-01, -2.85156250e-01, -1.66992188e-01,\n",
       "        1.97265625e-01, -1.53320312e-01,  2.31933594e-02,  2.06054688e-01,\n",
       "        1.80664062e-01, -2.74658203e-02, -1.92382812e-01, -9.61914062e-02,\n",
       "       -1.06811523e-02, -4.73632812e-02,  6.54296875e-02, -1.25732422e-02,\n",
       "        1.78222656e-02, -8.00781250e-02, -2.59765625e-01,  9.37500000e-02,\n",
       "       -7.81250000e-02,  4.68750000e-02, -2.22167969e-02,  1.86767578e-02,\n",
       "        3.11279297e-02,  1.04980469e-02, -1.69921875e-01,  2.58789062e-02,\n",
       "       -3.41796875e-02, -1.44042969e-02, -5.46875000e-02, -8.78906250e-02,\n",
       "        1.96838379e-03,  2.23632812e-01, -1.36718750e-01,  1.75781250e-01,\n",
       "       -1.63085938e-01,  1.87500000e-01,  3.44238281e-02, -5.63964844e-02,\n",
       "       -2.27689743e-05,  4.27246094e-02,  5.81054688e-02, -1.07910156e-01,\n",
       "       -3.88183594e-02, -2.69531250e-01,  3.34472656e-02,  9.81445312e-02,\n",
       "        5.63964844e-02,  2.23632812e-01, -5.49316406e-02,  1.46484375e-01,\n",
       "        5.93261719e-02, -2.19726562e-01,  6.39648438e-02,  1.66015625e-02,\n",
       "        4.56542969e-02,  3.26171875e-01, -3.80859375e-01,  1.70898438e-01,\n",
       "        5.66406250e-02, -1.04492188e-01,  1.38671875e-01, -1.57226562e-01,\n",
       "        3.23486328e-03, -4.80957031e-02, -2.48046875e-01, -6.20117188e-02],\n",
       "      dtype=float32)"
      ]
     },
     "execution_count": 39,
     "metadata": {},
     "output_type": "execute_result"
    }
   ],
   "source": [
    "# Google의 Word2Vec 모델을 가져와 적용\n",
    "# <준비> 클라우드 쉘에서 심볼링 링크를 연결하여 원본 파일을 직접 사용하는 것과 같은 효과를 내도록함\n",
    "# 심볼링 링크  : ln -s ~/data/GoogleNews-vectors-negative300.bin.gz ~/aiffel 주소~\n",
    "\n",
    "from gensim.models import KeyedVectors\n",
    "word2vec_path = os.getenv('HOME')+'/aiffel/sentiment_classification/data/GoogleNews-vectors-negative300.bin.gz'\n",
    "word2vec = KeyedVectors.load_word2vec_format(word2vec_path, binary=True, limit=1000000)\n",
    "vector = word2vec['computer']\n",
    "vector     # 무려 300dim의 워드 벡터입니다."
   ]
  },
  {
   "cell_type": "code",
   "execution_count": 40,
   "id": "mature-sucking",
   "metadata": {
    "scrolled": true
   },
   "outputs": [
    {
     "data": {
      "text/plain": [
       "[('loved', 0.6907791495323181),\n",
       " ('adore', 0.6816873550415039),\n",
       " ('loves', 0.661863386631012),\n",
       " ('passion', 0.6100708842277527),\n",
       " ('hate', 0.600395679473877),\n",
       " ('loving', 0.5886635780334473),\n",
       " ('affection', 0.5664337873458862),\n",
       " ('undying_love', 0.5547304749488831),\n",
       " ('absolutely_adore', 0.5536840558052063),\n",
       " ('adores', 0.5440906882286072)]"
      ]
     },
     "execution_count": 40,
     "metadata": {},
     "output_type": "execute_result"
    }
   ],
   "source": [
    "# 메모리를 다소 많이 소비하는 작업이니 유의해 주세요.\n",
    "word2vec.similar_by_word(\"love\")"
   ]
  },
  {
   "cell_type": "code",
   "execution_count": 41,
   "id": "political-incentive",
   "metadata": {},
   "outputs": [],
   "source": [
    "vocab_size = 10000    # 어휘 사전의 크기입니다(10,000개의 단어)\n",
    "word_vector_dim = 300  # 워드 벡터의 차원수 (변경가능한 하이퍼파라미터)\n",
    "\n",
    "embedding_matrix = np.random.rand(vocab_size, word_vector_dim)\n",
    "\n",
    "# embedding_matrix에 Word2Vec 워드 벡터를 단어 하나씩마다 차례차례 카피한다.\n",
    "for i in range(4,vocab_size):\n",
    "    if index_to_word[i] in word2vec:\n",
    "        embedding_matrix[i] = word2vec[index_to_word[i]]"
   ]
  },
  {
   "cell_type": "code",
   "execution_count": 42,
   "id": "sound-handling",
   "metadata": {},
   "outputs": [
    {
     "name": "stdout",
     "output_type": "stream",
     "text": [
      "Model: \"sequential_4\"\n",
      "_________________________________________________________________\n",
      "Layer (type)                 Output Shape              Param #   \n",
      "=================================================================\n",
      "embedding_5 (Embedding)      (None, 580, 300)          3000000   \n",
      "_________________________________________________________________\n",
      "conv1d_2 (Conv1D)            (None, 574, 16)           33616     \n",
      "_________________________________________________________________\n",
      "max_pooling1d_1 (MaxPooling1 (None, 114, 16)           0         \n",
      "_________________________________________________________________\n",
      "conv1d_3 (Conv1D)            (None, 108, 16)           1808      \n",
      "_________________________________________________________________\n",
      "global_max_pooling1d_2 (Glob (None, 16)                0         \n",
      "_________________________________________________________________\n",
      "dense_8 (Dense)              (None, 8)                 136       \n",
      "_________________________________________________________________\n",
      "dense_9 (Dense)              (None, 1)                 9         \n",
      "=================================================================\n",
      "Total params: 3,035,569\n",
      "Trainable params: 3,035,569\n",
      "Non-trainable params: 0\n",
      "_________________________________________________________________\n"
     ]
    }
   ],
   "source": [
    "from tensorflow.keras.initializers import Constant\n",
    "\n",
    "vocab_size = 10000    # 어휘 사전의 크기입니다(10,000개의 단어)\n",
    "word_vector_dim = 300  # 워드 벡터의 차원 수 (변경가능한 하이퍼파라미터)\n",
    "\n",
    "# 모델 구성\n",
    "model = keras.Sequential()\n",
    "model.add(keras.layers.Embedding(vocab_size, \n",
    "                                 word_vector_dim, \n",
    "                                 embeddings_initializer=Constant(embedding_matrix),  # 카피한 임베딩을 여기서 활용\n",
    "                                 input_length=maxlen, \n",
    "                                 trainable=True))   # trainable을 True로 주면 Fine-tuning\n",
    "model.add(keras.layers.Conv1D(16, 7, activation='relu'))\n",
    "model.add(keras.layers.MaxPooling1D(5))\n",
    "model.add(keras.layers.Conv1D(16, 7, activation='relu'))\n",
    "model.add(keras.layers.GlobalMaxPooling1D())\n",
    "model.add(keras.layers.Dense(8, activation='relu'))\n",
    "model.add(keras.layers.Dense(1, activation='sigmoid')) \n",
    "\n",
    "model.summary()"
   ]
  },
  {
   "cell_type": "code",
   "execution_count": 43,
   "id": "premium-process",
   "metadata": {},
   "outputs": [
    {
     "name": "stdout",
     "output_type": "stream",
     "text": [
      "Epoch 1/20\n",
      "30/30 [==============================] - 17s 456ms/step - loss: 0.7317 - accuracy: 0.5066 - val_loss: 0.6830 - val_accuracy: 0.5630\n",
      "Epoch 2/20\n",
      "30/30 [==============================] - 11s 360ms/step - loss: 0.6587 - accuracy: 0.6260 - val_loss: 0.6461 - val_accuracy: 0.6353\n",
      "Epoch 3/20\n",
      "30/30 [==============================] - 11s 358ms/step - loss: 0.5801 - accuracy: 0.7351 - val_loss: 0.5387 - val_accuracy: 0.7226\n",
      "Epoch 4/20\n",
      "30/30 [==============================] - 11s 356ms/step - loss: 0.4250 - accuracy: 0.8299 - val_loss: 0.3847 - val_accuracy: 0.8366\n",
      "Epoch 5/20\n",
      "30/30 [==============================] - 11s 356ms/step - loss: 0.2768 - accuracy: 0.9041 - val_loss: 0.3460 - val_accuracy: 0.8500\n",
      "Epoch 6/20\n",
      "30/30 [==============================] - 11s 356ms/step - loss: 0.2006 - accuracy: 0.9326 - val_loss: 0.3151 - val_accuracy: 0.8685\n",
      "Epoch 7/20\n",
      "30/30 [==============================] - 11s 355ms/step - loss: 0.1393 - accuracy: 0.9623 - val_loss: 0.3117 - val_accuracy: 0.8730\n",
      "Epoch 8/20\n",
      "30/30 [==============================] - 11s 357ms/step - loss: 0.0936 - accuracy: 0.9805 - val_loss: 0.3217 - val_accuracy: 0.8727\n",
      "Epoch 9/20\n",
      "30/30 [==============================] - 11s 357ms/step - loss: 0.0623 - accuracy: 0.9917 - val_loss: 0.3305 - val_accuracy: 0.8717\n",
      "Epoch 10/20\n",
      "30/30 [==============================] - 11s 357ms/step - loss: 0.0425 - accuracy: 0.9965 - val_loss: 0.3419 - val_accuracy: 0.8714\n",
      "Epoch 11/20\n",
      "30/30 [==============================] - 11s 356ms/step - loss: 0.0270 - accuracy: 0.9990 - val_loss: 0.3538 - val_accuracy: 0.8736\n",
      "Epoch 12/20\n",
      "30/30 [==============================] - 11s 355ms/step - loss: 0.0181 - accuracy: 0.9993 - val_loss: 0.3740 - val_accuracy: 0.8738\n",
      "Epoch 13/20\n",
      "30/30 [==============================] - 11s 357ms/step - loss: 0.0131 - accuracy: 0.9996 - val_loss: 0.3872 - val_accuracy: 0.8733\n",
      "Epoch 14/20\n",
      "30/30 [==============================] - 11s 357ms/step - loss: 0.0092 - accuracy: 0.9999 - val_loss: 0.4072 - val_accuracy: 0.8738\n",
      "Epoch 15/20\n",
      "30/30 [==============================] - 11s 357ms/step - loss: 0.0070 - accuracy: 0.9998 - val_loss: 0.4199 - val_accuracy: 0.8745\n",
      "Epoch 16/20\n",
      "30/30 [==============================] - 11s 357ms/step - loss: 0.0053 - accuracy: 0.9999 - val_loss: 0.4339 - val_accuracy: 0.8739\n",
      "Epoch 17/20\n",
      "30/30 [==============================] - 11s 357ms/step - loss: 0.0042 - accuracy: 0.9999 - val_loss: 0.4477 - val_accuracy: 0.8753\n",
      "Epoch 18/20\n",
      "30/30 [==============================] - 11s 357ms/step - loss: 0.0033 - accuracy: 1.0000 - val_loss: 0.4601 - val_accuracy: 0.8736\n",
      "Epoch 19/20\n",
      "30/30 [==============================] - 11s 356ms/step - loss: 0.0027 - accuracy: 1.0000 - val_loss: 0.4723 - val_accuracy: 0.8736\n",
      "Epoch 20/20\n",
      "30/30 [==============================] - 11s 357ms/step - loss: 0.0026 - accuracy: 0.9997 - val_loss: 0.4840 - val_accuracy: 0.8732\n"
     ]
    }
   ],
   "source": [
    "# 학습의 진행\n",
    "model.compile(optimizer='adam',\n",
    "              loss='binary_crossentropy',\n",
    "              metrics=['accuracy'])\n",
    "              \n",
    "epochs=20  # 몇 epoch를 훈련하면 좋을지 결과를 보면서 바꾸어 봅시다. \n",
    "\n",
    "history = model.fit(partial_x_train,\n",
    "                    partial_y_train,\n",
    "                    epochs=epochs,\n",
    "                    batch_size=512,\n",
    "                    validation_data=(x_val, y_val),\n",
    "                    verbose=1)"
   ]
  },
  {
   "cell_type": "code",
   "execution_count": 44,
   "id": "intellectual-progressive",
   "metadata": {},
   "outputs": [
    {
     "name": "stdout",
     "output_type": "stream",
     "text": [
      "782/782 - 8s - loss: 0.5163 - accuracy: 0.8647\n",
      "[0.5162529349327087, 0.8647199869155884]\n"
     ]
    }
   ],
   "source": [
    "# 테스트셋을 통한 모델 평가\n",
    "results = model.evaluate(x_test,  y_test, verbose=2)\n",
    "\n",
    "print(results)"
   ]
  },
  {
   "cell_type": "markdown",
   "id": "tender-christmas",
   "metadata": {},
   "source": [
    "## 회고\n",
    "1.*RNN은 입력데이터가 순차적으로 처리 마지막 입력이 무의미, 'pre'가 훨씬 유리하다는데 현재 데이터에선 같은 값으로 확인됨..\n",
    "2. Training and validation loss 그래프의 Epochs 19정도에 lOSS가 제일 낮고, Training and validation accuracy 그래프의 Epochs 10, 19정도에 Accuracy가 제일 높다. 이에 19가 최적점으로 추정된다."
   ]
  }
 ],
 "metadata": {
  "kernelspec": {
   "display_name": "Python 3",
   "language": "python",
   "name": "python3"
  },
  "language_info": {
   "codemirror_mode": {
    "name": "ipython",
    "version": 3
   },
   "file_extension": ".py",
   "mimetype": "text/x-python",
   "name": "python",
   "nbconvert_exporter": "python",
   "pygments_lexer": "ipython3",
   "version": "3.7.9"
  }
 },
 "nbformat": 4,
 "nbformat_minor": 5
}
