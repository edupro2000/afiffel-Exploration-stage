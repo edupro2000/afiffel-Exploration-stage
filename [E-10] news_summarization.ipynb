{
 "cells": [
  {
   "cell_type": "markdown",
   "id": "stylish-charter",
   "metadata": {},
   "source": [
    "# 1. 프로젝트 : 뉴스기사 요약"
   ]
  },
  {
   "cell_type": "markdown",
   "id": "operational-chase",
   "metadata": {},
   "source": [
    "<b><mark>[목  차]</mark></b><br>\n",
    "<b>Step 1. 데이터 수집하기</b><br>\n",
    "<b>Step 2. 데이터 전처리하기 (추상적 요약)</b><br>\n",
    "1) 중복 샘플과 NULL 값이 존재하는 샘플 제거<br>\n",
    "2) 텍스트 정규화와 불용어 제거<br>\n",
    "- 텍스트 정규화 : 같은 표현 통일 시키기 / 불용어 : 별도움이 되지 않음 단어\n",
    "\n",
    "3) 멀티프로세싱으로 데이터 전처리<br>\n",
    "- 별도의 프로세스를 생성하여 병렬처리(소요시간 축소)\n",
    "\n",
    "4) 훈련데이터와 테스트데이터 나누기<br>\n",
    "- 학습 진행을 위한 데이터크기 결정 및 문장 시작, 끝 표시\n",
    "\n",
    "5) 시작 토큰과 종료 토큰 추가하기<br>\n",
    "\n",
    "6) 단어 집합(vocabulary) 만들기 및 정수 인코딩<br>\n",
    "- 단어 집합 만들기 : 훈련데이터 및 테스트 데이터의 각 단어 마다 고유한 정수를 맵핑하는 작업\n",
    "\n",
    "7) 패딩하기<br>\n",
    "\n",
    "<b>Step 3. 어텐션 메커니즘 사용하기 (추상적 요약) </b><br>\n",
    "1) 함수형 API를 이용해서 인코더를 설계<br>\n",
    "2) 디코더 설계<br>\n",
    "3) 어텐션 메커니즘 <br>\n",
    "- 또 다른 신경망 생성\n",
    "\n",
    "4) 모델 훈련하기<br>\n",
    "- EarlyStopping(조기종료) : 검증 데이터의 손실이 줄어들지 않고 증가하는 현상이 patience=2(2회) 관측되면 학습을 멈추도록 설정\n",
    "\n",
    "5) 인퍼런스 모델 구현<br>\n",
    "6) 모델 테스트<br>\n",
    "\n",
    "<b>Step 4. 실제 결과와 요약문 비교하기 (추상적 요약)</b><br>\n",
    "- 원래의 요약문(headlines 열)과 학습을 통해 얻은 추상적 요약의 결과를 비교\n",
    "\n",
    "<b>Step 5. Summa을 이용해서 추출적 요약해보기</b><br>\n",
    "1) 데이터 다운로드 하기<br>\n",
    "2) summarize 사용하기  <br>"
   ]
  },
  {
   "cell_type": "code",
   "execution_count": 1,
   "id": "according-space",
   "metadata": {},
   "outputs": [
    {
     "name": "stderr",
     "output_type": "stream",
     "text": [
      "[nltk_data] Downloading package stopwords to /aiffel/nltk_data...\n",
      "[nltk_data]   Package stopwords is already up-to-date!\n"
     ]
    },
    {
     "name": "stdout",
     "output_type": "stream",
     "text": [
      "=3\n"
     ]
    }
   ],
   "source": [
    "#데이터 준비하기\n",
    "\n",
    "import nltk  # NLTK(Natural Language Toolkit) : 영어 기호, 통계, 자연어 처리를 위한 라이브러리\n",
    "nltk.download('stopwords')\n",
    "\n",
    "import numpy as np\n",
    "import pandas as pd\n",
    "import os\n",
    "import re\n",
    "import matplotlib.pyplot as plt\n",
    "from nltk.corpus import stopwords\n",
    "from bs4 import BeautifulSoup \n",
    "from tensorflow.keras.preprocessing.text import Tokenizer \n",
    "from tensorflow.keras.preprocessing.sequence import pad_sequences\n",
    "import urllib.request\n",
    "\n",
    "print('=3')"
   ]
  },
  {
   "cell_type": "markdown",
   "id": "periodic-bulgarian",
   "metadata": {},
   "source": [
    "## Step 1. 데이터 수집하기"
   ]
  },
  {
   "cell_type": "code",
   "execution_count": 2,
   "id": "entire-asthma",
   "metadata": {},
   "outputs": [
    {
     "name": "stdout",
     "output_type": "stream",
     "text": [
      "전체 샘플수 : 98401\n"
     ]
    }
   ],
   "source": [
    "import urllib.request\n",
    "urllib.request.urlretrieve(\"https://raw.githubusercontent.com/sunnysai12345/News_Summary/master/news_summary_more.csv\", filename=\"news_summary_more.csv\")\n",
    "data = pd.read_csv('news_summary_more.csv', encoding='iso-8859-1')\n",
    "print('전체 샘플수 :', (len(data)))"
   ]
  },
  {
   "cell_type": "code",
   "execution_count": 3,
   "id": "allied-royal",
   "metadata": {},
   "outputs": [
    {
     "data": {
      "text/html": [
       "<div>\n",
       "<style scoped>\n",
       "    .dataframe tbody tr th:only-of-type {\n",
       "        vertical-align: middle;\n",
       "    }\n",
       "\n",
       "    .dataframe tbody tr th {\n",
       "        vertical-align: top;\n",
       "    }\n",
       "\n",
       "    .dataframe thead th {\n",
       "        text-align: right;\n",
       "    }\n",
       "</style>\n",
       "<table border=\"1\" class=\"dataframe\">\n",
       "  <thead>\n",
       "    <tr style=\"text-align: right;\">\n",
       "      <th></th>\n",
       "      <th>headlines</th>\n",
       "      <th>text</th>\n",
       "    </tr>\n",
       "  </thead>\n",
       "  <tbody>\n",
       "    <tr>\n",
       "      <th>72544</th>\n",
       "      <td>Rajasthan reported highest share of economic c...</td>\n",
       "      <td>With a total of 1 lakh and 50 thousand economi...</td>\n",
       "    </tr>\n",
       "    <tr>\n",
       "      <th>92865</th>\n",
       "      <td>Internet services suspended in Kashmir amid vi...</td>\n",
       "      <td>Jammu and Kashmir authorities on Tuesday suspe...</td>\n",
       "    </tr>\n",
       "    <tr>\n",
       "      <th>49334</th>\n",
       "      <td>Which captains have led India to ICC U-19 Worl...</td>\n",
       "      <td>Eighteen-year-old Prithvi Shaw led India to th...</td>\n",
       "    </tr>\n",
       "    <tr>\n",
       "      <th>39520</th>\n",
       "      <td>Rajinikanth urges Kannadigas not to disturb 'K...</td>\n",
       "      <td>Seeking the cooperation of the people of Karna...</td>\n",
       "    </tr>\n",
       "    <tr>\n",
       "      <th>19634</th>\n",
       "      <td>Paytm parent posts Ã¢ÂÂ¹1,604 cr loss for fin...</td>\n",
       "      <td>Paytm's parent company One97 Communications ha...</td>\n",
       "    </tr>\n",
       "    <tr>\n",
       "      <th>29944</th>\n",
       "      <td>Congress-JD(S) to face floor test in Karnataka...</td>\n",
       "      <td>The floor test of the Congress-JD(S) alliance ...</td>\n",
       "    </tr>\n",
       "    <tr>\n",
       "      <th>16014</th>\n",
       "      <td>Priyanka, Nick spotted with Sonam, Anand in Italy</td>\n",
       "      <td>Pictures of Priyanka Chopra and Nick Jonas wit...</td>\n",
       "    </tr>\n",
       "    <tr>\n",
       "      <th>51965</th>\n",
       "      <td>Cop suspended for dragging old man out of temp...</td>\n",
       "      <td>A Karnataka policeman has been suspended for d...</td>\n",
       "    </tr>\n",
       "    <tr>\n",
       "      <th>46088</th>\n",
       "      <td>Pak actress Sajal Ali reveals Sridevi's last m...</td>\n",
       "      <td>Pakistani actress Sajal Ali, who played Sridev...</td>\n",
       "    </tr>\n",
       "    <tr>\n",
       "      <th>41795</th>\n",
       "      <td>Robot teacher which can also dance being teste...</td>\n",
       "      <td>A language-teaching humanoid robot named Elias...</td>\n",
       "    </tr>\n",
       "  </tbody>\n",
       "</table>\n",
       "</div>"
      ],
      "text/plain": [
       "                                               headlines  \\\n",
       "72544  Rajasthan reported highest share of economic c...   \n",
       "92865  Internet services suspended in Kashmir amid vi...   \n",
       "49334  Which captains have led India to ICC U-19 Worl...   \n",
       "39520  Rajinikanth urges Kannadigas not to disturb 'K...   \n",
       "19634  Paytm parent posts Ã¢ÂÂ¹1,604 cr loss for fin...   \n",
       "29944  Congress-JD(S) to face floor test in Karnataka...   \n",
       "16014  Priyanka, Nick spotted with Sonam, Anand in Italy   \n",
       "51965  Cop suspended for dragging old man out of temp...   \n",
       "46088  Pak actress Sajal Ali reveals Sridevi's last m...   \n",
       "41795  Robot teacher which can also dance being teste...   \n",
       "\n",
       "                                                    text  \n",
       "72544  With a total of 1 lakh and 50 thousand economi...  \n",
       "92865  Jammu and Kashmir authorities on Tuesday suspe...  \n",
       "49334  Eighteen-year-old Prithvi Shaw led India to th...  \n",
       "39520  Seeking the cooperation of the people of Karna...  \n",
       "19634  Paytm's parent company One97 Communications ha...  \n",
       "29944  The floor test of the Congress-JD(S) alliance ...  \n",
       "16014  Pictures of Priyanka Chopra and Nick Jonas wit...  \n",
       "51965  A Karnataka policeman has been suspended for d...  \n",
       "46088  Pakistani actress Sajal Ali, who played Sridev...  \n",
       "41795  A language-teaching humanoid robot named Elias...  "
      ]
     },
     "execution_count": 3,
     "metadata": {},
     "output_type": "execute_result"
    }
   ],
   "source": [
    "data.sample(10)"
   ]
  },
  {
   "cell_type": "code",
   "execution_count": null,
   "id": "revised-stand",
   "metadata": {},
   "outputs": [],
   "source": []
  },
  {
   "cell_type": "markdown",
   "id": "caring-rotation",
   "metadata": {},
   "source": [
    "## Step 2. 데이터 전처리하기 (추상적 요약)\n",
    "- 실습에서 사용된 전처리를 참고하여 각자 필요하다고 생각하는 전처리를 추가 사용하여 텍스트를 정규화 또는 정제해 보세요. \n",
    "- 만약, 불용어 제거를 선택한다면 상대적으로 길이가 짧은 요약 데이터에 대해서도 불용어를 제거하는 것이 좋을지 고민해 보세요."
   ]
  },
  {
   "cell_type": "markdown",
   "id": "rocky-somewhere",
   "metadata": {},
   "source": [
    "#### 1) 중복 샘플과 NULL 값이 존재하는 샘플 제거"
   ]
  },
  {
   "cell_type": "code",
   "execution_count": 4,
   "id": "found-emergency",
   "metadata": {},
   "outputs": [
    {
     "name": "stdout",
     "output_type": "stream",
     "text": [
      "headlines 열에서 중복을 배제한 유일한 샘플의 수 : 98280\n",
      "text 열에서 중복을 배제한 유일한 샘플의 수 : 98360\n"
     ]
    }
   ],
   "source": [
    "# 중복 셈플 유무 확인\n",
    "\n",
    "print('headlines 열에서 중복을 배제한 유일한 샘플의 수 :', data['headlines'].nunique()) #\n",
    "\n",
    "#데이터에 고유값들의 수를 출력해주는 함수\n",
    "\n",
    "print('text 열에서 중복을 배제한 유일한 샘플의 수 :', data['text'].nunique())"
   ]
  },
  {
   "cell_type": "code",
   "execution_count": 5,
   "id": "reasonable-marks",
   "metadata": {},
   "outputs": [
    {
     "name": "stdout",
     "output_type": "stream",
     "text": [
      "전체 샘플수 : 98360\n"
     ]
    }
   ],
   "source": [
    "# drop_duplicates()를 사용, 손쉽게 중복 샘플을 제거\n",
    "# inplace=True 를 설정하면 DataFrame 타입 값을 return 하지 않고 data 내부를 직접적으로 바꿉니다.\n",
    "\n",
    "data.drop_duplicates(subset = ['text'], inplace=True)\n",
    "print('전체 샘플수 :', (len(data)))"
   ]
  },
  {
   "cell_type": "code",
   "execution_count": 6,
   "id": "varied-yacht",
   "metadata": {},
   "outputs": [
    {
     "name": "stdout",
     "output_type": "stream",
     "text": [
      "headlines    0\n",
      "text         0\n",
      "dtype: int64\n"
     ]
    }
   ],
   "source": [
    "# 중복제거후 .isnull().sum()으로 null값 유무 재확인 \n",
    "\n",
    "print(data.isnull().sum())"
   ]
  },
  {
   "cell_type": "code",
   "execution_count": 7,
   "id": "parallel-setting",
   "metadata": {},
   "outputs": [
    {
     "name": "stdout",
     "output_type": "stream",
     "text": [
      "전체 샘플수 : 98360\n"
     ]
    }
   ],
   "source": [
    "# 데이터 프레임에서  null 값 제거 dropna() 함수 사용\n",
    "\n",
    "data.dropna(axis=0, inplace=True)\n",
    "print('전체 샘플수 :', (len(data)))"
   ]
  },
  {
   "cell_type": "markdown",
   "id": "geological-captain",
   "metadata": {},
   "source": [
    "#### 2) 텍스트 정규화와 불용어 제거\n",
    "- 텍스트 정규화 : 같은 표현 통일 시키기 \n",
    "- 불용어 : 별도움이 되지 않음 단어"
   ]
  },
  {
   "cell_type": "code",
   "execution_count": 8,
   "id": "dynamic-period",
   "metadata": {},
   "outputs": [
    {
     "name": "stdout",
     "output_type": "stream",
     "text": [
      "정규화 사전의 수:  120\n"
     ]
    }
   ],
   "source": [
    "# 텍스트 정규화\n",
    "\n",
    "contractions = {\"ain't\": \"is not\", \"aren't\": \"are not\",\"can't\": \"cannot\", \"'cause\": \"because\", \"could've\": \"could have\", \"couldn't\": \"could not\",\n",
    "                           \"didn't\": \"did not\",  \"doesn't\": \"does not\", \"don't\": \"do not\", \"hadn't\": \"had not\", \"hasn't\": \"has not\", \"haven't\": \"have not\",\n",
    "                           \"he'd\": \"he would\",\"he'll\": \"he will\", \"he's\": \"he is\", \"how'd\": \"how did\", \"how'd'y\": \"how do you\", \"how'll\": \"how will\", \"how's\": \"how is\",\n",
    "                           \"I'd\": \"I would\", \"I'd've\": \"I would have\", \"I'll\": \"I will\", \"I'll've\": \"I will have\",\"I'm\": \"I am\", \"I've\": \"I have\", \"i'd\": \"i would\",\n",
    "                           \"i'd've\": \"i would have\", \"i'll\": \"i will\",  \"i'll've\": \"i will have\",\"i'm\": \"i am\", \"i've\": \"i have\", \"isn't\": \"is not\", \"it'd\": \"it would\",\n",
    "                           \"it'd've\": \"it would have\", \"it'll\": \"it will\", \"it'll've\": \"it will have\",\"it's\": \"it is\", \"let's\": \"let us\", \"ma'am\": \"madam\",\n",
    "                           \"mayn't\": \"may not\", \"might've\": \"might have\",\"mightn't\": \"might not\",\"mightn't've\": \"might not have\", \"must've\": \"must have\",\n",
    "                           \"mustn't\": \"must not\", \"mustn't've\": \"must not have\", \"needn't\": \"need not\", \"needn't've\": \"need not have\",\"o'clock\": \"of the clock\",\n",
    "                           \"oughtn't\": \"ought not\", \"oughtn't've\": \"ought not have\", \"shan't\": \"shall not\", \"sha'n't\": \"shall not\", \"shan't've\": \"shall not have\",\n",
    "                           \"she'd\": \"she would\", \"she'd've\": \"she would have\", \"she'll\": \"she will\", \"she'll've\": \"she will have\", \"she's\": \"she is\",\n",
    "                           \"should've\": \"should have\", \"shouldn't\": \"should not\", \"shouldn't've\": \"should not have\", \"so've\": \"so have\",\"so's\": \"so as\",\n",
    "                           \"this's\": \"this is\",\"that'd\": \"that would\", \"that'd've\": \"that would have\", \"that's\": \"that is\", \"there'd\": \"there would\",\n",
    "                           \"there'd've\": \"there would have\", \"there's\": \"there is\", \"here's\": \"here is\",\"they'd\": \"they would\", \"they'd've\": \"they would have\",\n",
    "                           \"they'll\": \"they will\", \"they'll've\": \"they will have\", \"they're\": \"they are\", \"they've\": \"they have\", \"to've\": \"to have\",\n",
    "                           \"wasn't\": \"was not\", \"we'd\": \"we would\", \"we'd've\": \"we would have\", \"we'll\": \"we will\", \"we'll've\": \"we will have\", \"we're\": \"we are\",\n",
    "                           \"we've\": \"we have\", \"weren't\": \"were not\", \"what'll\": \"what will\", \"what'll've\": \"what will have\", \"what're\": \"what are\",\n",
    "                           \"what's\": \"what is\", \"what've\": \"what have\", \"when's\": \"when is\", \"when've\": \"when have\", \"where'd\": \"where did\", \"where's\": \"where is\",\n",
    "                           \"where've\": \"where have\", \"who'll\": \"who will\", \"who'll've\": \"who will have\", \"who's\": \"who is\", \"who've\": \"who have\",\n",
    "                           \"why's\": \"why is\", \"why've\": \"why have\", \"will've\": \"will have\", \"won't\": \"will not\", \"won't've\": \"will not have\",\n",
    "                           \"would've\": \"would have\", \"wouldn't\": \"would not\", \"wouldn't've\": \"would not have\", \"y'all\": \"you all\",\n",
    "                           \"y'all'd\": \"you all would\",\"y'all'd've\": \"you all would have\",\"y'all're\": \"you all are\",\"y'all've\": \"you all have\",\n",
    "                           \"you'd\": \"you would\", \"you'd've\": \"you would have\", \"you'll\": \"you will\", \"you'll've\": \"you will have\",\n",
    "                           \"you're\": \"you are\", \"you've\": \"you have\"}\n",
    "\n",
    "print(\"정규화 사전의 수: \", len(contractions))"
   ]
  },
  {
   "cell_type": "code",
   "execution_count": 9,
   "id": "greenhouse-romantic",
   "metadata": {},
   "outputs": [
    {
     "name": "stdout",
     "output_type": "stream",
     "text": [
      "불용어 개수 : 179\n",
      "['i', 'me', 'my', 'myself', 'we', 'our', 'ours', 'ourselves', 'you', \"you're\", \"you've\", \"you'll\", \"you'd\", 'your', 'yours', 'yourself', 'yourselves', 'he', 'him', 'his', 'himself', 'she', \"she's\", 'her', 'hers', 'herself', 'it', \"it's\", 'its', 'itself', 'they', 'them', 'their', 'theirs', 'themselves', 'what', 'which', 'who', 'whom', 'this', 'that', \"that'll\", 'these', 'those', 'am', 'is', 'are', 'was', 'were', 'be', 'been', 'being', 'have', 'has', 'had', 'having', 'do', 'does', 'did', 'doing', 'a', 'an', 'the', 'and', 'but', 'if', 'or', 'because', 'as', 'until', 'while', 'of', 'at', 'by', 'for', 'with', 'about', 'against', 'between', 'into', 'through', 'during', 'before', 'after', 'above', 'below', 'to', 'from', 'up', 'down', 'in', 'out', 'on', 'off', 'over', 'under', 'again', 'further', 'then', 'once', 'here', 'there', 'when', 'where', 'why', 'how', 'all', 'any', 'both', 'each', 'few', 'more', 'most', 'other', 'some', 'such', 'no', 'nor', 'not', 'only', 'own', 'same', 'so', 'than', 'too', 'very', 's', 't', 'can', 'will', 'just', 'don', \"don't\", 'should', \"should've\", 'now', 'd', 'll', 'm', 'o', 're', 've', 'y', 'ain', 'aren', \"aren't\", 'couldn', \"couldn't\", 'didn', \"didn't\", 'doesn', \"doesn't\", 'hadn', \"hadn't\", 'hasn', \"hasn't\", 'haven', \"haven't\", 'isn', \"isn't\", 'ma', 'mightn', \"mightn't\", 'mustn', \"mustn't\", 'needn', \"needn't\", 'shan', \"shan't\", 'shouldn', \"shouldn't\", 'wasn', \"wasn't\", 'weren', \"weren't\", 'won', \"won't\", 'wouldn', \"wouldn't\"]\n"
     ]
    }
   ],
   "source": [
    "# 불용어제거\n",
    "\n",
    "print('불용어 개수 :', len(stopwords.words('english') ))\n",
    "print(stopwords.words('english'))"
   ]
  },
  {
   "cell_type": "code",
   "execution_count": 10,
   "id": "brazilian-royalty",
   "metadata": {},
   "outputs": [],
   "source": [
    "# 영어 소문자 변경, html 태그 솎아내기, 정규 표현식으로 특수문자 제거\n",
    "\n",
    "# 데이터 전처리 함수\n",
    "def preprocess_sentence(sentence, remove_stopwords=True):\n",
    "    sentence = sentence.lower() # 텍스트 소문자화\n",
    "    sentence = BeautifulSoup(sentence, \"lxml\").text # <br />, <a href = ...> 등의 html 태그 제거\n",
    "    sentence = re.sub(r'\\([^)]*\\)', '', sentence) # 괄호로 닫힌 문자열 (...) 제거 Ex) my husband (and myself!) for => my husband for\n",
    "    sentence = re.sub('\"','', sentence) # 쌍따옴표 \" 제거\n",
    "    sentence = ' '.join([contractions[t] if t in contractions else t for t in sentence.split(\" \")]) # 약어 정규화\n",
    "    sentence = re.sub(r\"'s\\b\",\"\", sentence) # 소유격 제거. Ex) roland's -> roland\n",
    "    sentence = re.sub(\"[^a-zA-Z]\", \" \", sentence) # 영어 외 문자(숫자, 특수문자 등) 공백으로 변환\n",
    "    sentence = re.sub('[m]{2,}', 'mm', sentence) # m이 3개 이상이면 2개로 변경. Ex) ummmmmmm yeah -> umm yeah\n",
    "    \n",
    "    # 자연스런 문장이 되기 위해 불용어들을 summary에 남겨두기\n",
    "    # 불용어 제거 (Text)\n",
    "    if remove_stopwords: \n",
    "        tokens = ' '.join(word for word in sentence.split() if not word in stopwords.words('english') if len(word) > 1)\n",
    "    # 불용어 미제거 (Summary)\n",
    "    else:\n",
    "        tokens = ' '.join(word for word in sentence.split() if len(word) > 1)\n",
    "    return tokens"
   ]
  },
  {
   "cell_type": "code",
   "execution_count": 11,
   "id": "familiar-encounter",
   "metadata": {},
   "outputs": [
    {
     "name": "stdout",
     "output_type": "stream",
     "text": [
      "everything bought great infact ordered twice third ordered wasfor mother father\n",
      "great way to start the day\n"
     ]
    }
   ],
   "source": [
    "# 전처리 전, 후의 결과 확인을 위한 임의 함수 호출\n",
    "\n",
    "temp_text = 'Everything I bought was great, infact I ordered twice and the third ordered was<br />for my mother and father.'\n",
    "temp_summary = 'Great way to start (or finish) the day!!!'\n",
    "\n",
    "print(preprocess_sentence(temp_text))\n",
    "print(preprocess_sentence(temp_summary, False))  # 불용어를 제거하지 않습니다."
   ]
  },
  {
   "cell_type": "markdown",
   "id": "adverse-valuation",
   "metadata": {},
   "source": [
    "#### 3) 멀티프로세싱으로 데이터 전처리\n",
    "- 별도의 프로세스를 생성하여 병렬처리(소요시간 축소)"
   ]
  },
  {
   "cell_type": "code",
   "execution_count": 12,
   "id": "funny-saturday",
   "metadata": {},
   "outputs": [
    {
     "name": "stdout",
     "output_type": "stream",
     "text": [
      "46.3413405418396  seconds\n",
      "['upgrad learner switches career ml al salary hike'\n",
      " 'delhi techie wins free food swiggy one year cred'\n",
      " 'new zealand end rohit sharma led india match winning streak' ...\n",
      " 'matrix film get reboot reports'\n",
      " 'snoop dogg aims gun clown dressed trump new video'\n",
      " 'madhesi morcha withdraws support nepalese government']\n",
      "8.410540103912354  seconds\n",
      "['saurav kant an alumnus of upgrad and iiit pg program in machine learning and artificial intelligence was sr systems engineer at infosys with almost years of work experience the program and upgrad degree career support helped him transition to data scientist at tech mahindra with salary hike upgrad online power learning has powered lakh careers'\n",
      " 'kunal shah credit card bill payment platform cred gave users chance to win free food from swiggy for one year pranav kaushik delhi techie bagged this reward after spending cred coins users get one cred coin per rupee of bill paid which can be used to avail rewards from brands like ixigo bookmyshow ubereats cult fit and more'\n",
      " 'new zealand defeated india by wickets in the fourth odi at hamilton on thursday to win their first match of the five match odi series india lost an international match under rohit sharma captaincy after consecutive victories dating back to march the match witnessed india getting all out for their seventh lowest total in odi cricket history'\n",
      " ...\n",
      " 'according to reports new version of the science fiction film the matrix is in development michael jordan will reportedly play the lead role in the film screenwriter zak penn is in talks to write the script of the film reports added actor keanu reeves starred in the original film which was followed by two sequels'\n",
      " 'new music video shows rapper snoop dogg aiming toy gun at clown character parodying us president donald trump the video also shows tv airing news conference with the headline ronald klump wants to deport all doggs airing live from the clown house the video is for remixed version of the song lavender'\n",
      " 'madhesi morcha an alliance of seven political parties has withdrawn support to pm pushpa kamal dahal led nepal government after it failed to meet seven day ultimatum to fulfil their demands including endorsement for the revised constitution amendment bill the morcha has seats in the parliament but despite the withdrawal of support there is no immediate threat to the government']\n"
     ]
    }
   ],
   "source": [
    "import multiprocessing as mp   # 멀티 프로세싱으로 전처리 속도를 획기적으로 줄여봅시다\n",
    "from multiprocessing import Pool\n",
    "import numpy as np\n",
    "import time\n",
    "from functools import partial  # map을 할 때 함수에 여러 인자를 넣어줄 수 있도록 합니다\n",
    "\n",
    "start = time.time()\n",
    "\n",
    "# num_cores 만큼 쪼개진 데이터를 전처리하여 반환합니다\n",
    "def appendTexts(sentences, remove_stopwords):\n",
    "  texts = []\n",
    "  for s in sentences:\n",
    "    texts += preprocess_sentence(s, remove_stopwords),\n",
    "  return texts\n",
    "\n",
    "def preprocess_data(data, remove_stopwords=True):\n",
    "  start_time = time.time()\n",
    "  num_cores = mp.cpu_count()  # 컴퓨터의 코어 수를 구합니다\n",
    "\n",
    "  text_data_split = np.array_split(data, num_cores)  # 코어 수만큼 데이터를 배분하여 병렬적으로 처리할 수 있게 합니다\n",
    "  pool = Pool(num_cores)\n",
    "\n",
    "  processed_data = np.concatenate(pool.map(partial(appendTexts, remove_stopwords=remove_stopwords), text_data_split))  # 각자 작업한 데이터를 하나로 합쳐줍니다\n",
    "  pool.close()\n",
    "  pool.join()\n",
    "  print(time.time() - start_time, \" seconds\")\n",
    "  return processed_data\n",
    "\n",
    "clean_headlines = preprocess_data(data['headlines'])  # 클라우드 기준으로 3~4분 정도 소요 됩니다\n",
    "print(clean_headlines)\n",
    "\n",
    "clean_text = preprocess_data(data['text'], remove_stopwords=False) #불용어 제거를 수행하지 않는다는 의미에서 두 번째 인자로 False\n",
    "print(clean_text)"
   ]
  },
  {
   "cell_type": "code",
   "execution_count": 13,
   "id": "increasing-whole",
   "metadata": {},
   "outputs": [],
   "source": [
    "# 빈(empty) 샘플 확인\n",
    "\n",
    "data['headlines'] = clean_headlines\n",
    "data['text'] = clean_text\n",
    "\n",
    "# 빈 값을 Null 값으로 변환\n",
    "data.replace('', np.nan, inplace=True)"
   ]
  },
  {
   "cell_type": "code",
   "execution_count": 14,
   "id": "manufactured-blind",
   "metadata": {},
   "outputs": [
    {
     "data": {
      "text/plain": [
       "headlines    0\n",
       "text         0\n",
       "dtype: int64"
      ]
     },
     "execution_count": 14,
     "metadata": {},
     "output_type": "execute_result"
    }
   ],
   "source": [
    "# null값 유무 재확인 \n",
    "\n",
    "data.isnull().sum()"
   ]
  },
  {
   "cell_type": "markdown",
   "id": "virgin-register",
   "metadata": {},
   "source": [
    "#### 4) 훈련데이터와 테스트데이터 나누기\n",
    "- 학습 진행을 위한 데이터크기 결정 및 문장 시작, 끝 표시"
   ]
  },
  {
   "cell_type": "code",
   "execution_count": 15,
   "id": "indonesian-valley",
   "metadata": {},
   "outputs": [
    {
     "name": "stdout",
     "output_type": "stream",
     "text": [
      "텍스트의 최소 길이 : 1\n",
      "텍스트의 최대 길이 : 69\n",
      "텍스트의 평균 길이 : 56.180195201301345\n",
      "요약의 최소 길이 : 1\n",
      "요약의 최대 길이 : 13\n",
      "요약의 평균 길이 : 7.136183407889386\n"
     ]
    },
    {
     "data": {
      "image/png": "[encoded data removed]",
      "text/plain": [
       "<Figure size 432x288 with 2 Axes>"
      ]
     },
     "metadata": {
      "needs_background": "light"
     },
     "output_type": "display_data"
    },
    {
     "data": {
      "image/png": "[encoded data removed]",
      "text/plain": [
       "<Figure size 432x288 with 1 Axes>"
      ]
     },
     "metadata": {
      "needs_background": "light"
     },
     "output_type": "display_data"
    },
    {
     "data": {
      "image/png": "[encoded data removed]",
      "text/plain": [
       "<Figure size 432x288 with 1 Axes>"
      ]
     },
     "metadata": {
      "needs_background": "light"
     },
     "output_type": "display_data"
    }
   ],
   "source": [
    "# 샘플의 최대 길이 분포 출력\n",
    "import matplotlib.pyplot as plt\n",
    "\n",
    "text_len = [len(s.split()) for s in data['text']]\n",
    "headlines_len = [len(s.split()) for s in data['headlines']]\n",
    "\n",
    "print('텍스트의 최소 길이 : {}'.format(np.min(text_len)))\n",
    "print('텍스트의 최대 길이 : {}'.format(np.max(text_len)))\n",
    "print('텍스트의 평균 길이 : {}'.format(np.mean(text_len)))\n",
    "print('요약의 최소 길이 : {}'.format(np.min(headlines_len)))\n",
    "print('요약의 최대 길이 : {}'.format(np.max(headlines_len)))\n",
    "print('요약의 평균 길이 : {}'.format(np.mean(headlines_len)))\n",
    "\n",
    "plt.subplot(1,2,1)\n",
    "plt.boxplot(headlines_len)\n",
    "plt.title('headlines')\n",
    "plt.subplot(1,2,2)\n",
    "plt.boxplot(text_len)\n",
    "plt.title('text')\n",
    "plt.tight_layout()\n",
    "plt.show()\n",
    "\n",
    "plt.title('headlines')\n",
    "plt.hist(headlines_len, bins = 40)\n",
    "plt.xlabel('length of samples')\n",
    "plt.ylabel('number of samples')\n",
    "plt.show()\n",
    "\n",
    "plt.title('Text')\n",
    "plt.hist(text_len, bins = 40)\n",
    "plt.xlabel('length of samples')\n",
    "plt.ylabel('number of samples')\n",
    "plt.show()"
   ]
  },
  {
   "cell_type": "markdown",
   "id": "orange-receipt",
   "metadata": {},
   "source": [
    "- 차례대로 각각 요약, 실제 텍스트의 길이 분포, 요약본 샘플 길이별 개수, 실제 텍스트 샘플 길이별 개수\n",
    "- Text의 경우 최소 길이가 1, 최대 길이가 69로 그 차이가 크다. \n",
    "- headlines의 가장 많은 샘플은 6~8인 것으로 확인 되었다.\n",
    "- text 가장 많은 샘플은 55~60인 것으로 확인 되었다.\n",
    "- 텍스트의 평균 길이 평균 길이는 56으로 시각화된 그래프로 봤을 때는 대체적으로는 100 내외의 길이를 가진다는 것을 확인할수 있었다."
   ]
  },
  {
   "cell_type": "code",
   "execution_count": 16,
   "id": "gross-marker",
   "metadata": {},
   "outputs": [],
   "source": [
    "# text 의 최대 길이와 summary 의 적절한 최대 길이 임의로 정하기\n",
    "\n",
    "text_max_len = 57\n",
    "headlines_max_len = 7"
   ]
  },
  {
   "cell_type": "code",
   "execution_count": 17,
   "id": "painted-thought",
   "metadata": {},
   "outputs": [],
   "source": [
    "# 훈련 데이터와 샘플의 길이를 입력하면 데이터의 몇 %가 해당하는지 계산\n",
    "\n",
    "def below_threshold_len(max_len, nested_list):\n",
    "  cnt = 0\n",
    "  for s in nested_list:\n",
    "    if(len(s.split()) <= max_len):\n",
    "        cnt = cnt + 1\n",
    "  print('전체 샘플 중 길이가 %s 이하인 샘플의 비율: %s'%(max_len, (cnt / len(nested_list))))"
   ]
  },
  {
   "cell_type": "code",
   "execution_count": 18,
   "id": "crazy-compiler",
   "metadata": {},
   "outputs": [
    {
     "name": "stdout",
     "output_type": "stream",
     "text": [
      "전체 샘플 중 길이가 57 이하인 샘플의 비율: 0.6258235054900366\n",
      "전체 샘플 중 길이가 7 이하인 샘플의 비율: 0.6264640097600651\n"
     ]
    }
   ],
   "source": [
    "below_threshold_len(text_max_len, data['text'])\n",
    "below_threshold_len(headlines_max_len,  data['headlines'])"
   ]
  },
  {
   "cell_type": "markdown",
   "id": "pleasant-floor",
   "metadata": {},
   "source": [
    "<mark>[시도]\n",
    "- 전체 샘플 중 길이가 57 이하인 샘플의 비율: 0.6258235054900366 / 전체 샘플 중 길이가 7 이하인 샘플의 비율: 0.6264640097600651\n",
    "- 전체 샘플 중 길이가 60 이하인 샘플의 비율: 0.9443777958519723 / 전체 샘플 중 길이가 8 이하인 샘플의 비율: 0.8925782838552258\n",
    "    \n",
    "조정후 샘플의 비율의 변화를 확인 할수 있었다.\n",
    "일부 버려지는 샘플을 위해 길이에 맞춰 자르지 말고, 정해진 길이보다 길면 제외하는 정제 필요하다. "
   ]
  },
  {
   "cell_type": "code",
   "execution_count": 19,
   "id": "inappropriate-edition",
   "metadata": {},
   "outputs": [
    {
     "name": "stdout",
     "output_type": "stream",
     "text": [
      "전체 샘플수 : 39924\n"
     ]
    }
   ],
   "source": [
    "## 샘플들의 길이 중에서 max length 이하인 데이터들의 갯수를 알아보기\n",
    "\n",
    "data = data[data['text'].apply(lambda x: len(x.split()) <= text_max_len)]\n",
    "data = data[data['headlines'].apply(lambda x: len(x.split()) <= headlines_max_len)]\n",
    "print('전체 샘플수 :', (len(data)))"
   ]
  },
  {
   "cell_type": "markdown",
   "id": "boring-publication",
   "metadata": {},
   "source": [
    "#### 5) 시작 토큰과 종료 토큰 추가하기"
   ]
  },
  {
   "cell_type": "code",
   "execution_count": 21,
   "id": "appreciated-fancy",
   "metadata": {},
   "outputs": [
    {
     "data": {
      "text/html": [
       "<div>\n",
       "<style scoped>\n",
       "    .dataframe tbody tr th:only-of-type {\n",
       "        vertical-align: middle;\n",
       "    }\n",
       "\n",
       "    .dataframe tbody tr th {\n",
       "        vertical-align: top;\n",
       "    }\n",
       "\n",
       "    .dataframe thead th {\n",
       "        text-align: right;\n",
       "    }\n",
       "</style>\n",
       "<table border=\"1\" class=\"dataframe\">\n",
       "  <thead>\n",
       "    <tr style=\"text-align: right;\">\n",
       "      <th></th>\n",
       "      <th>headlines</th>\n",
       "      <th>text</th>\n",
       "      <th>decoder_input</th>\n",
       "      <th>decoder_target</th>\n",
       "    </tr>\n",
       "  </thead>\n",
       "  <tbody>\n",
       "    <tr>\n",
       "      <th>6</th>\n",
       "      <td>india get lowest odi total new zealand</td>\n",
       "      <td>india recorded their lowest odi total in new z...</td>\n",
       "      <td>sostoken india get lowest odi total new zealand</td>\n",
       "      <td>india get lowest odi total new zealand eostoken</td>\n",
       "    </tr>\n",
       "    <tr>\n",
       "      <th>12</th>\n",
       "      <td>ram krishna smoke ramdev sadhus kumbh</td>\n",
       "      <td>urging saints and seers at the kumbh mela to q...</td>\n",
       "      <td>sostoken ram krishna smoke ramdev sadhus kumbh</td>\n",
       "      <td>ram krishna smoke ramdev sadhus kumbh eostoken</td>\n",
       "    </tr>\n",
       "    <tr>\n",
       "      <th>18</th>\n",
       "      <td>long tolerate congress leaders potshots taka cm</td>\n",
       "      <td>days after he threatened to step down from his...</td>\n",
       "      <td>sostoken long tolerate congress leaders potsho...</td>\n",
       "      <td>long tolerate congress leaders potshots taka c...</td>\n",
       "    </tr>\n",
       "    <tr>\n",
       "      <th>20</th>\n",
       "      <td>think opposition even dreams pm modi</td>\n",
       "      <td>claiming there is dearth of ideas among opposi...</td>\n",
       "      <td>sostoken think opposition even dreams pm modi</td>\n",
       "      <td>think opposition even dreams pm modi eostoken</td>\n",
       "    </tr>\n",
       "    <tr>\n",
       "      <th>22</th>\n",
       "      <td>killed injured saudi arabia floods</td>\n",
       "      <td>at least people have been killed and others ha...</td>\n",
       "      <td>sostoken killed injured saudi arabia floods</td>\n",
       "      <td>killed injured saudi arabia floods eostoken</td>\n",
       "    </tr>\n",
       "  </tbody>\n",
       "</table>\n",
       "</div>"
      ],
      "text/plain": [
       "                                          headlines  \\\n",
       "6            india get lowest odi total new zealand   \n",
       "12            ram krishna smoke ramdev sadhus kumbh   \n",
       "18  long tolerate congress leaders potshots taka cm   \n",
       "20             think opposition even dreams pm modi   \n",
       "22               killed injured saudi arabia floods   \n",
       "\n",
       "                                                 text  \\\n",
       "6   india recorded their lowest odi total in new z...   \n",
       "12  urging saints and seers at the kumbh mela to q...   \n",
       "18  days after he threatened to step down from his...   \n",
       "20  claiming there is dearth of ideas among opposi...   \n",
       "22  at least people have been killed and others ha...   \n",
       "\n",
       "                                        decoder_input  \\\n",
       "6     sostoken india get lowest odi total new zealand   \n",
       "12     sostoken ram krishna smoke ramdev sadhus kumbh   \n",
       "18  sostoken long tolerate congress leaders potsho...   \n",
       "20      sostoken think opposition even dreams pm modi   \n",
       "22        sostoken killed injured saudi arabia floods   \n",
       "\n",
       "                                       decoder_target  \n",
       "6     india get lowest odi total new zealand eostoken  \n",
       "12     ram krishna smoke ramdev sadhus kumbh eostoken  \n",
       "18  long tolerate congress leaders potshots taka c...  \n",
       "20      think opposition even dreams pm modi eostoken  \n",
       "22        killed injured saudi arabia floods eostoken  "
      ]
     },
     "execution_count": 21,
     "metadata": {},
     "output_type": "execute_result"
    }
   ],
   "source": [
    "# 요약 데이터에는 시작 토큰과 종료 토큰을 추가\n",
    "\n",
    "data['decoder_input'] = data['headlines'].apply(lambda x : 'sostoken '+ x) #시작 토큰\n",
    "data['decoder_target'] = data['headlines'].apply(lambda x : x + ' eostoken') #종료 토큰\n",
    "data.head()"
   ]
  },
  {
   "cell_type": "code",
   "execution_count": 26,
   "id": "synthetic-singer",
   "metadata": {},
   "outputs": [],
   "source": [
    "# decoder_input, decoder_target 레이블 각각 다시 numppy 타입으로 저장\n",
    "\n",
    "encoder_input = np.array(data['text']) # 인코더의 입력\n",
    "decoder_input = np.array(data['decoder_input']) # 디코더의 입력\n",
    "decoder_target = np.array(data['decoder_target']) # 디코더의 레이블"
   ]
  },
  {
   "cell_type": "code",
   "execution_count": 27,
   "id": "saved-merit",
   "metadata": {},
   "outputs": [
    {
     "name": "stdout",
     "output_type": "stream",
     "text": [
      "[ 2284 13957   613 ...  9723 24542 10538]\n"
     ]
    }
   ],
   "source": [
    "# 훈련 데이터와 테스트 데이터 분리\n",
    "\n",
    "indices = np.arange(encoder_input.shape[0])\n",
    "np.random.shuffle(indices)\n",
    "print(indices)"
   ]
  },
  {
   "cell_type": "code",
   "execution_count": 28,
   "id": "secure-marathon",
   "metadata": {},
   "outputs": [],
   "source": [
    "# 데이터의 샘플 순서를 정의\n",
    "\n",
    "encoder_input = encoder_input[indices]\n",
    "decoder_input = decoder_input[indices]\n",
    "decoder_target = decoder_target[indices]"
   ]
  },
  {
   "cell_type": "code",
   "execution_count": 29,
   "id": "atomic-league",
   "metadata": {},
   "outputs": [
    {
     "name": "stdout",
     "output_type": "stream",
     "text": [
      "테스트 데이터의 수 : 7984\n"
     ]
    }
   ],
   "source": [
    "# 훈련 데이터와 테스트 데이터를 8:2의 비율로 분리\n",
    "    \n",
    "n_of_val = int(len(encoder_input)*0.2)\n",
    "print('테스트 데이터의 수 :', n_of_val)"
   ]
  },
  {
   "cell_type": "code",
   "execution_count": 30,
   "id": "enclosed-subscriber",
   "metadata": {},
   "outputs": [
    {
     "name": "stdout",
     "output_type": "stream",
     "text": [
      "훈련 데이터의 개수 : 31940\n",
      "훈련 레이블의 개수 : 31940\n",
      "테스트 데이터의 개수 : 7984\n",
      "테스트 레이블의 개수 : 7984\n"
     ]
    }
   ],
   "source": [
    "# 테스트 데이터개수 이용해 전체 데이터 나누기\n",
    "\n",
    "encoder_input_train = encoder_input[:-n_of_val]\n",
    "decoder_input_train = decoder_input[:-n_of_val]\n",
    "decoder_target_train = decoder_target[:-n_of_val]\n",
    "\n",
    "encoder_input_test = encoder_input[-n_of_val:]\n",
    "decoder_input_test = decoder_input[-n_of_val:]\n",
    "decoder_target_test = decoder_target[-n_of_val:]\n",
    "\n",
    "print('훈련 데이터의 개수 :', len(encoder_input_train))\n",
    "print('훈련 레이블의 개수 :', len(decoder_input_train))\n",
    "print('테스트 데이터의 개수 :', len(encoder_input_test))\n",
    "print('테스트 레이블의 개수 :', len(decoder_input_test))"
   ]
  },
  {
   "cell_type": "markdown",
   "id": "corporate-virus",
   "metadata": {},
   "source": [
    "#### 6) 단어 집합(vocabulary) 만들기 및 정수 인코딩\n",
    "- 단어 집합 만들기 : 훈련데이터 및 테스트 데이터의 각 단어 마다 고유한 정수를 맵핑하는 작업"
   ]
  },
  {
   "cell_type": "code",
   "execution_count": 31,
   "id": "complicated-insider",
   "metadata": {},
   "outputs": [],
   "source": [
    "# 케라스 토크나이저 사용, 훈련 데이터로 부터 단어 집합 만들기\n",
    "\n",
    "src_tokenizer = Tokenizer() # 토크나이저 정의\n",
    "src_tokenizer.fit_on_texts(encoder_input_train) # 입력된 데이터로부터 단어 집합 생성"
   ]
  },
  {
   "cell_type": "code",
   "execution_count": 33,
   "id": "dental-collectible",
   "metadata": {},
   "outputs": [
    {
     "name": "stdout",
     "output_type": "stream",
     "text": [
      "단어 집합(vocabulary)의 크기 : 48000\n",
      "등장 빈도가 6번 이하인 희귀 단어의 수: 33945\n",
      "단어 집합에서 희귀 단어를 제외시킬 경우의 단어 집합의 크기 14055\n",
      "단어 집합에서 희귀 단어의 비율: 70.71875\n",
      "전체 등장 빈도에서 희귀 단어 등장 빈도 비율: 4.001292992729802\n"
     ]
    }
   ],
   "source": [
    "# 빈도수가 낮은 단어들은 훈련 데이터에서 제외\n",
    "\n",
    "threshold = 7\n",
    "total_cnt = len(src_tokenizer.word_index) # 단어와 각 단어의 등장 빈도수가 저장\n",
    "rare_cnt = 0 # 등장 빈도수가 threshold보다 작은 단어의 개수를 카운트\n",
    "total_freq = 0 # 훈련 데이터의 전체 단어 빈도수 총 합\n",
    "rare_freq = 0 # 등장 빈도수가 threshold보다 작은 단어의 등장 빈도수의 총 합\n",
    "\n",
    "# 단어와 빈도수의 쌍(pair)을 key와 value로 받는다.\n",
    "for key, value in src_tokenizer.word_counts.items():\n",
    "    total_freq = total_freq + value\n",
    "\n",
    "    # 단어의 등장 빈도수가 threshold보다 작으면\n",
    "    if(value < threshold):\n",
    "        rare_cnt = rare_cnt + 1\n",
    "        rare_freq = rare_freq + value\n",
    "\n",
    "print('단어 집합(vocabulary)의 크기 :', total_cnt)\n",
    "print('등장 빈도가 %s번 이하인 희귀 단어의 수: %s'%(threshold - 1, rare_cnt))\n",
    "print('단어 집합에서 희귀 단어를 제외시킬 경우의 단어 집합의 크기 %s'%(total_cnt - rare_cnt))\n",
    "print(\"단어 집합에서 희귀 단어의 비율:\", (rare_cnt / total_cnt)*100)\n",
    "print(\"전체 등장 빈도에서 희귀 단어 등장 빈도 비율:\", (rare_freq / total_freq)*100)"
   ]
  },
  {
   "cell_type": "code",
   "execution_count": 34,
   "id": "greenhouse-surgeon",
   "metadata": {},
   "outputs": [],
   "source": [
    "# 기준 : 위의 단어 집합에서 6번 이하 단어를 제외시킬 경우의 단어 집합의 크기 14055\n",
    "src_vocab = 8000\n",
    "src_tokenizer = Tokenizer(num_words=src_vocab) # 단어 집합의 크기를 8,000으로 제한\n",
    "src_tokenizer.fit_on_texts(encoder_input_train) # 단어 집합 재생성."
   ]
  },
  {
   "cell_type": "code",
   "execution_count": 35,
   "id": "incorporated-friday",
   "metadata": {},
   "outputs": [
    {
     "name": "stdout",
     "output_type": "stream",
     "text": [
      "[[6806, 586, 4, 1, 54, 1332, 4, 248, 3755, 7, 113, 888, 526, 17, 37, 4606, 589, 1, 2988, 1, 1970, 2401, 11, 61, 4139, 16, 37, 515, 5, 3870, 2329, 3, 1, 2988, 3922, 1, 46, 7, 387, 160, 5, 40, 809, 2, 5292, 1, 1410, 751, 1, 227, 526], [1, 46, 7, 1091, 2243, 690, 8, 989, 20, 15, 1928, 34, 78, 2285, 5194, 1027, 4, 28, 58, 3923, 2, 894, 6, 150, 1, 46, 39, 231, 160, 4, 1194, 2, 778, 5, 50, 2286, 1491, 1, 2243, 9, 1, 701, 11, 666, 2, 2778, 2583, 2206, 10, 688, 2, 95], [5916, 2156, 5, 2244, 3, 118, 275, 4696, 761, 50, 583, 6, 3131, 5526, 87, 6, 1, 259, 4, 1, 571, 6223, 3535, 5527, 5526, 3025, 2, 648, 43, 70, 6, 1, 3756, 2, 761, 6224, 1971, 5, 461, 4, 2402, 5, 214, 1750, 5, 164]]\n"
     ]
    }
   ],
   "source": [
    "# 텍스트 시퀀스를 정수 시퀀스로 변환\n",
    "encoder_input_train = src_tokenizer.texts_to_sequences(encoder_input_train) \n",
    "encoder_input_test = src_tokenizer.texts_to_sequences(encoder_input_test)\n",
    "\n",
    "# 정수로 잘 변경되었는지 샘플 출력\n",
    "print(encoder_input_train[:3])"
   ]
  },
  {
   "cell_type": "code",
   "execution_count": 36,
   "id": "transsexual-jenny",
   "metadata": {},
   "outputs": [],
   "source": [
    "# Summary 데이터에 동일 작업 진행, 훈련 데이터로 부터 단어 집합 만들기\n",
    "\n",
    "tar_tokenizer = Tokenizer()\n",
    "tar_tokenizer.fit_on_texts(decoder_input_train)"
   ]
  },
  {
   "cell_type": "markdown",
   "id": "closing-hydrogen",
   "metadata": {},
   "source": [
    "<mark><동일작업 > \n",
    "- 단어집합 만들기 > 빈도수 낮은 단어들 훈련데이터에서 제외 >  희귀 단어 집합 크기 제외 > 정수시퀀스로 변환"
   ]
  },
  {
   "cell_type": "code",
   "execution_count": 37,
   "id": "welsh-child",
   "metadata": {},
   "outputs": [
    {
     "name": "stdout",
     "output_type": "stream",
     "text": [
      "단어 집합(vocabulary)의 크기 : 20877\n",
      "등장 빈도가 5번 이하인 희귀 단어의 수: 14991\n",
      "단어 집합에서 희귀 단어를 제외시킬 경우의 단어 집합의 크기 5886\n",
      "단어 집합에서 희귀 단어의 비율: 71.80629400775975\n",
      "전체 등장 빈도에서 희귀 단어 등장 빈도 비율: 11.976045369900119\n"
     ]
    }
   ],
   "source": [
    "# 빈도수가 낮은 단어들은 훈련 데이터에서 제외\n",
    "\n",
    "threshold = 6\n",
    "total_cnt = len(tar_tokenizer.word_index) # 단어의 수\n",
    "rare_cnt = 0 # 등장 빈도수가 threshold보다 작은 단어의 개수를 카운트\n",
    "total_freq = 0 # 훈련 데이터의 전체 단어 빈도수 총 합\n",
    "rare_freq = 0 # 등장 빈도수가 threshold보다 작은 단어의 등장 빈도수의 총 합\n",
    "\n",
    "# 단어와 빈도수의 쌍(pair)을 key와 value로 받는다.\n",
    "for key, value in tar_tokenizer.word_counts.items():\n",
    "    total_freq = total_freq + value\n",
    "\n",
    "    # 단어의 등장 빈도수가 threshold보다 작으면\n",
    "    if(value < threshold):\n",
    "        rare_cnt = rare_cnt + 1\n",
    "        rare_freq = rare_freq + value\n",
    "\n",
    "print('단어 집합(vocabulary)의 크기 :', total_cnt)\n",
    "print('등장 빈도가 %s번 이하인 희귀 단어의 수: %s'%(threshold - 1, rare_cnt))\n",
    "print('단어 집합에서 희귀 단어를 제외시킬 경우의 단어 집합의 크기 %s'%(total_cnt - rare_cnt))\n",
    "print(\"단어 집합에서 희귀 단어의 비율:\", (rare_cnt / total_cnt)*100)\n",
    "print(\"전체 등장 빈도에서 희귀 단어 등장 빈도 비율:\", (rare_freq / total_freq)*100)"
   ]
  },
  {
   "cell_type": "code",
   "execution_count": 38,
   "id": "impossible-external",
   "metadata": {},
   "outputs": [
    {
     "name": "stdout",
     "output_type": "stream",
     "text": [
      "input\n",
      "input  [[1, 1621, 1051, 1013, 146], [1, 501, 1076, 363, 131, 1765, 539], [1, 122, 37, 123], [1, 355, 142, 575, 93], [1, 222, 1103, 733]]\n",
      "target\n",
      "decoder  [[1621, 1051, 1013, 146, 2], [501, 1076, 363, 131, 1765, 539, 2], [122, 37, 123, 2], [355, 142, 575, 93, 2], [222, 1103, 733, 2]]\n"
     ]
    }
   ],
   "source": [
    "# 기준 : 위의 단어 집합에서 5번 이하 단어를 제외시킬 경우의 단어 집합의 크기 5885 \n",
    "\n",
    "tar_vocab = 2000  \n",
    "tar_tokenizer = Tokenizer(num_words=tar_vocab) \n",
    "tar_tokenizer.fit_on_texts(decoder_input_train)\n",
    "tar_tokenizer.fit_on_texts(decoder_target_train)\n",
    "\n",
    "# 텍스트 시퀀스를 정수 시퀀스로 변환\n",
    "decoder_input_train = tar_tokenizer.texts_to_sequences(decoder_input_train) \n",
    "decoder_target_train = tar_tokenizer.texts_to_sequences(decoder_target_train)\n",
    "decoder_input_test = tar_tokenizer.texts_to_sequences(decoder_input_test)\n",
    "decoder_target_test = tar_tokenizer.texts_to_sequences(decoder_target_test)\n",
    "\n",
    "# 정수로 잘 변경되었는지 샘플 출력\n",
    "print('input')\n",
    "print('input ',decoder_input_train[:5])\n",
    "print('target')\n",
    "print('decoder ',decoder_target_train[:5])"
   ]
  },
  {
   "cell_type": "markdown",
   "id": "major-island",
   "metadata": {},
   "source": [
    "- 기준 : 위의 단어 집합에서 5번 이하 단어를 제외시킬 경우 단어 집합의 크기 5885, 학습한 LMS 노드 기준이 2000로 나와있어 그대로 적용"
   ]
  },
  {
   "cell_type": "code",
   "execution_count": 39,
   "id": "coordinated-stevens",
   "metadata": {},
   "outputs": [
    {
     "name": "stdout",
     "output_type": "stream",
     "text": [
      "삭제할 훈련 데이터의 개수 : 128\n",
      "삭제할 테스트 데이터의 개수 : 29\n",
      "훈련 데이터의 개수 : 31812\n",
      "훈련 레이블의 개수 : 31812\n",
      "테스트 데이터의 개수 : 7955\n",
      "테스트 레이블의 개수 : 7955\n"
     ]
    },
    {
     "name": "stderr",
     "output_type": "stream",
     "text": [
      "/opt/conda/lib/python3.7/site-packages/numpy/core/_asarray.py:83: VisibleDeprecationWarning: Creating an ndarray from ragged nested sequences (which is a list-or-tuple of lists-or-tuples-or ndarrays with different lengths or shapes) is deprecated. If you meant to do this, you must specify 'dtype=object' when creating the ndarray\n",
      "  return array(a, dtype, copy=False, order=order)\n"
     ]
    }
   ],
   "source": [
    "drop_train = [index for index, sentence in enumerate(decoder_input_train) if len(sentence) == 1]\n",
    "drop_test = [index for index, sentence in enumerate(decoder_input_test) if len(sentence) == 1]\n",
    "\n",
    "print('삭제할 훈련 데이터의 개수 :', len(drop_train))\n",
    "print('삭제할 테스트 데이터의 개수 :', len(drop_test))\n",
    "\n",
    "encoder_input_train = np.delete(encoder_input_train, drop_train, axis=0)\n",
    "decoder_input_train = np.delete(decoder_input_train, drop_train, axis=0)\n",
    "decoder_target_train = np.delete(decoder_target_train, drop_train, axis=0)\n",
    "\n",
    "encoder_input_test = np.delete(encoder_input_test, drop_test, axis=0)\n",
    "decoder_input_test = np.delete(decoder_input_test, drop_test, axis=0)\n",
    "decoder_target_test = np.delete(decoder_target_test, drop_test, axis=0)\n",
    "\n",
    "print('훈련 데이터의 개수 :', len(encoder_input_train))\n",
    "print('훈련 레이블의 개수 :', len(decoder_input_train))\n",
    "print('테스트 데이터의 개수 :', len(encoder_input_test))\n",
    "print('테스트 레이블의 개수 :', len(decoder_input_test))"
   ]
  },
  {
   "cell_type": "markdown",
   "id": "inner-logan",
   "metadata": {},
   "source": [
    "#### 7) 패딩하기 "
   ]
  },
  {
   "cell_type": "code",
   "execution_count": 42,
   "id": "opposite-scheduling",
   "metadata": {},
   "outputs": [],
   "source": [
    "# 패딩하기, 전처리 완료\n",
    "\n",
    "encoder_input_train = pad_sequences(encoder_input_train, maxlen=text_max_len, padding='post')\n",
    "encoder_input_test = pad_sequences(encoder_input_test, maxlen=text_max_len, padding='post')\n",
    "decoder_input_train = pad_sequences(decoder_input_train, maxlen=headlines_max_len, padding='post')\n",
    "decoder_target_train = pad_sequences(decoder_target_train, maxlen=headlines_max_len, padding='post')\n",
    "decoder_input_test = pad_sequences(decoder_input_test, maxlen=headlines_max_len, padding='post')\n",
    "decoder_target_test = pad_sequences(decoder_target_test, maxlen=headlines_max_len, padding='post')"
   ]
  },
  {
   "cell_type": "markdown",
   "id": "leading-suspect",
   "metadata": {},
   "source": [
    "## Step 3. 어텐션 메커니즘 사용하기 (추상적 요약)\n",
    "- 일반적인 seq2seq보다는 어텐션 메커니즘을 사용한 seq2seq를 사용하는 것이 더 나은 성능을 얻을 수 있어요. \n",
    "- 실습 내용을 참고하여 어텐션 메커니즘을 사용한 seq2seq를 설계해 보세요."
   ]
  },
  {
   "cell_type": "markdown",
   "id": "complete-messaging",
   "metadata": {},
   "source": [
    "#### 1) 함수형 API를 이용해서 인코더를 설계"
   ]
  },
  {
   "cell_type": "code",
   "execution_count": 43,
   "id": "faced-headset",
   "metadata": {},
   "outputs": [
    {
     "name": "stdout",
     "output_type": "stream",
     "text": [
      "WARNING:tensorflow:Layer lstm will not use cuDNN kernel since it doesn't meet the cuDNN kernel criteria. It will use generic GPU kernel as fallback when running on GPU\n",
      "WARNING:tensorflow:Layer lstm_1 will not use cuDNN kernel since it doesn't meet the cuDNN kernel criteria. It will use generic GPU kernel as fallback when running on GPU\n",
      "WARNING:tensorflow:Layer lstm_2 will not use cuDNN kernel since it doesn't meet the cuDNN kernel criteria. It will use generic GPU kernel as fallback when running on GPU\n"
     ]
    }
   ],
   "source": [
    "# 함수형 API를 이용해서 인코더를 설계\n",
    "\n",
    "from tensorflow.keras.layers import Input, LSTM, Embedding, Dense, Concatenate\n",
    "from tensorflow.keras.models import Model\n",
    "from tensorflow.keras.callbacks import EarlyStopping, ModelCheckpoint\n",
    "\n",
    "\n",
    "# 인코더 설계 시작\n",
    "embedding_dim = 128\n",
    "hidden_size = 256  # LSTM에서 얼만큼의 수용력(capacity)를 가질지를 정하는 파라미터(LSTM의 용량의 크기나, LSTM에서의 뉴런의 개수)\n",
    "\n",
    "# 인코더\n",
    "encoder_inputs = Input(shape=(text_max_len,))\n",
    "\n",
    "# 인코더의 임베딩 층\n",
    "enc_emb = Embedding(src_vocab, embedding_dim)(encoder_inputs)\n",
    "\n",
    "# 인코더의 LSTM 1\n",
    "encoder_lstm1 = LSTM(hidden_size, return_sequences=True, return_state=True ,dropout = 0.4, recurrent_dropout = 0.4)\n",
    "encoder_output1, state_h1, state_c1 = encoder_lstm1(enc_emb)\n",
    "\n",
    "# 인코더의 LSTM 2\n",
    "encoder_lstm2 = LSTM(hidden_size, return_sequences=True, return_state=True, dropout=0.4, recurrent_dropout=0.4)\n",
    "encoder_output2, state_h2, state_c2 = encoder_lstm2(encoder_output1)\n",
    "\n",
    "# 인코더의 LSTM 3\n",
    "encoder_lstm3 = LSTM(hidden_size, return_state=True, return_sequences=True, dropout=0.4, recurrent_dropout=0.4)\n",
    "encoder_outputs, state_h, state_c= encoder_lstm3(encoder_output2)"
   ]
  },
  {
   "cell_type": "markdown",
   "id": "tropical-classification",
   "metadata": {},
   "source": [
    "#### 2) 디코더 설계"
   ]
  },
  {
   "cell_type": "code",
   "execution_count": 44,
   "id": "arranged-boulder",
   "metadata": {},
   "outputs": [
    {
     "name": "stdout",
     "output_type": "stream",
     "text": [
      "WARNING:tensorflow:Layer lstm_3 will not use cuDNN kernel since it doesn't meet the cuDNN kernel criteria. It will use generic GPU kernel as fallback when running on GPU\n"
     ]
    }
   ],
   "source": [
    "# 디코더 설계\n",
    "\n",
    "# 디코더 설계\n",
    "decoder_inputs = Input(shape=(None,))\n",
    "\n",
    "# 디코더의 임베딩 층\n",
    "dec_emb_layer = Embedding(tar_vocab, embedding_dim)\n",
    "dec_emb = dec_emb_layer(decoder_inputs)\n",
    "\n",
    "# 디코더의 LSTM\n",
    "decoder_lstm = LSTM(hidden_size, return_sequences=True, return_state=True, dropout=0.4, recurrent_dropout=0.2)\n",
    "decoder_outputs, _, _ = decoder_lstm(dec_emb, initial_state=[state_h, state_c])"
   ]
  },
  {
   "cell_type": "code",
   "execution_count": 45,
   "id": "injured-review",
   "metadata": {},
   "outputs": [
    {
     "name": "stdout",
     "output_type": "stream",
     "text": [
      "Model: \"model\"\n",
      "__________________________________________________________________________________________________\n",
      "Layer (type)                    Output Shape         Param #     Connected to                     \n",
      "==================================================================================================\n",
      "input_1 (InputLayer)            [(None, 57)]         0                                            \n",
      "__________________________________________________________________________________________________\n",
      "embedding (Embedding)           (None, 57, 128)      1024000     input_1[0][0]                    \n",
      "__________________________________________________________________________________________________\n",
      "lstm (LSTM)                     [(None, 57, 256), (N 394240      embedding[0][0]                  \n",
      "__________________________________________________________________________________________________\n",
      "input_2 (InputLayer)            [(None, None)]       0                                            \n",
      "__________________________________________________________________________________________________\n",
      "lstm_1 (LSTM)                   [(None, 57, 256), (N 525312      lstm[0][0]                       \n",
      "__________________________________________________________________________________________________\n",
      "embedding_1 (Embedding)         (None, None, 128)    256000      input_2[0][0]                    \n",
      "__________________________________________________________________________________________________\n",
      "lstm_2 (LSTM)                   [(None, 57, 256), (N 525312      lstm_1[0][0]                     \n",
      "__________________________________________________________________________________________________\n",
      "lstm_3 (LSTM)                   [(None, None, 256),  394240      embedding_1[0][0]                \n",
      "                                                                 lstm_2[0][1]                     \n",
      "                                                                 lstm_2[0][2]                     \n",
      "__________________________________________________________________________________________________\n",
      "dense (Dense)                   (None, None, 2000)   514000      lstm_3[0][0]                     \n",
      "==================================================================================================\n",
      "Total params: 3,633,104\n",
      "Trainable params: 3,633,104\n",
      "Non-trainable params: 0\n",
      "__________________________________________________________________________________________________\n"
     ]
    }
   ],
   "source": [
    "# 디코더 출력층 설계\n",
    "\n",
    "# 디코더의 출력층\n",
    "decoder_softmax_layer = Dense(tar_vocab, activation='softmax')\n",
    "decoder_softmax_outputs = decoder_softmax_layer(decoder_outputs) \n",
    "\n",
    "# 모델 정의\n",
    "model = Model([encoder_inputs, decoder_inputs], decoder_softmax_outputs)\n",
    "model.summary()"
   ]
  },
  {
   "cell_type": "markdown",
   "id": "front-professional",
   "metadata": {},
   "source": [
    "#### 3) 어텐션 메커니즘 \n",
    "- 또 다른 신경망 생성"
   ]
  },
  {
   "cell_type": "code",
   "execution_count": 46,
   "id": "thirty-carnival",
   "metadata": {},
   "outputs": [],
   "source": [
    "# 공개되어 있는 어텐션 함수 다운로드\n",
    "\n",
    "urllib.request.urlretrieve(\"https://raw.githubusercontent.com/thushv89/attention_keras/master/src/layers/attention.py\", filename=\"attention.py\")\n",
    "from attention import AttentionLayer"
   ]
  },
  {
   "cell_type": "code",
   "execution_count": 47,
   "id": "broken-parade",
   "metadata": {},
   "outputs": [
    {
     "name": "stdout",
     "output_type": "stream",
     "text": [
      "Model: \"model_1\"\n",
      "__________________________________________________________________________________________________\n",
      "Layer (type)                    Output Shape         Param #     Connected to                     \n",
      "==================================================================================================\n",
      "input_1 (InputLayer)            [(None, 57)]         0                                            \n",
      "__________________________________________________________________________________________________\n",
      "embedding (Embedding)           (None, 57, 128)      1024000     input_1[0][0]                    \n",
      "__________________________________________________________________________________________________\n",
      "lstm (LSTM)                     [(None, 57, 256), (N 394240      embedding[0][0]                  \n",
      "__________________________________________________________________________________________________\n",
      "input_2 (InputLayer)            [(None, None)]       0                                            \n",
      "__________________________________________________________________________________________________\n",
      "lstm_1 (LSTM)                   [(None, 57, 256), (N 525312      lstm[0][0]                       \n",
      "__________________________________________________________________________________________________\n",
      "embedding_1 (Embedding)         (None, None, 128)    256000      input_2[0][0]                    \n",
      "__________________________________________________________________________________________________\n",
      "lstm_2 (LSTM)                   [(None, 57, 256), (N 525312      lstm_1[0][0]                     \n",
      "__________________________________________________________________________________________________\n",
      "lstm_3 (LSTM)                   [(None, None, 256),  394240      embedding_1[0][0]                \n",
      "                                                                 lstm_2[0][1]                     \n",
      "                                                                 lstm_2[0][2]                     \n",
      "__________________________________________________________________________________________________\n",
      "attention_layer (AttentionLayer ((None, None, 256),  131328      lstm_2[0][0]                     \n",
      "                                                                 lstm_3[0][0]                     \n",
      "__________________________________________________________________________________________________\n",
      "concat_layer (Concatenate)      (None, None, 512)    0           lstm_3[0][0]                     \n",
      "                                                                 attention_layer[0][0]            \n",
      "__________________________________________________________________________________________________\n",
      "dense_1 (Dense)                 (None, None, 2000)   1026000     concat_layer[0][0]               \n",
      "==================================================================================================\n",
      "Total params: 4,276,432\n",
      "Trainable params: 4,276,432\n",
      "Non-trainable params: 0\n",
      "__________________________________________________________________________________________________\n"
     ]
    }
   ],
   "source": [
    "# 어텐션 층(어텐션 함수)\n",
    "attn_layer = AttentionLayer(name='attention_layer')\n",
    "# 인코더와 디코더의 모든 time step의 hidden state를 어텐션 층에 전달하고 결과를 리턴\n",
    "attn_out, attn_states = attn_layer([encoder_outputs, decoder_outputs])\n",
    "\n",
    "# 어텐션의 결과와 디코더의 hidden state들을 연결\n",
    "decoder_concat_input = Concatenate(axis=-1, name='concat_layer')([decoder_outputs, attn_out])\n",
    "\n",
    "# 디코더의 출력층\n",
    "decoder_softmax_layer = Dense(tar_vocab, activation='softmax')\n",
    "decoder_softmax_outputs = decoder_softmax_layer(decoder_concat_input)\n",
    "\n",
    "# 모델 정의\n",
    "model = Model([encoder_inputs, decoder_inputs], decoder_softmax_outputs)\n",
    "model.summary()"
   ]
  },
  {
   "cell_type": "markdown",
   "id": "minute-circular",
   "metadata": {},
   "source": [
    "#### 4) 모델 훈련하기\n",
    "- EarlyStopping(조기종료) : 검증 데이터의 손실이 줄어들지 않고 증가하는 현상이 patience=2(2회) 관측되면 학습을 멈추도록 설정"
   ]
  },
  {
   "cell_type": "code",
   "execution_count": 48,
   "id": "curious-tolerance",
   "metadata": {},
   "outputs": [
    {
     "name": "stdout",
     "output_type": "stream",
     "text": [
      "Epoch 1/25\n",
      "125/125 [==============================] - 102s 721ms/step - loss: 5.1304 - val_loss: 4.3546\n",
      "Epoch 2/25\n",
      "125/125 [==============================] - 89s 713ms/step - loss: 4.4042 - val_loss: 4.2055\n",
      "Epoch 3/25\n",
      "125/125 [==============================] - 89s 711ms/step - loss: 4.2136 - val_loss: 4.0315\n",
      "Epoch 4/25\n",
      "125/125 [==============================] - 89s 713ms/step - loss: 4.0013 - val_loss: 3.8486\n",
      "Epoch 5/25\n",
      "125/125 [==============================] - 90s 716ms/step - loss: 3.8053 - val_loss: 3.7261\n",
      "Epoch 6/25\n",
      "125/125 [==============================] - 90s 717ms/step - loss: 3.6559 - val_loss: 3.6665\n",
      "Epoch 7/25\n",
      "125/125 [==============================] - 89s 715ms/step - loss: 3.5312 - val_loss: 3.5747\n",
      "Epoch 8/25\n",
      "125/125 [==============================] - 89s 716ms/step - loss: 3.4085 - val_loss: 3.4857\n",
      "Epoch 9/25\n",
      "125/125 [==============================] - 89s 716ms/step - loss: 3.3006 - val_loss: 3.4299\n",
      "Epoch 10/25\n",
      "125/125 [==============================] - 89s 715ms/step - loss: 3.1967 - val_loss: 3.3777\n",
      "Epoch 11/25\n",
      "125/125 [==============================] - 90s 717ms/step - loss: 3.0995 - val_loss: 3.3625\n",
      "Epoch 12/25\n",
      "125/125 [==============================] - 90s 717ms/step - loss: 3.0115 - val_loss: 3.2993\n",
      "Epoch 13/25\n",
      "125/125 [==============================] - 89s 714ms/step - loss: 2.9239 - val_loss: 3.2811\n",
      "Epoch 14/25\n",
      "125/125 [==============================] - 89s 715ms/step - loss: 2.8620 - val_loss: 3.2617\n",
      "Epoch 15/25\n",
      "125/125 [==============================] - 89s 715ms/step - loss: 2.7846 - val_loss: 3.2578\n",
      "Epoch 16/25\n",
      "125/125 [==============================] - 89s 716ms/step - loss: 2.7211 - val_loss: 3.2196\n",
      "Epoch 17/25\n",
      "125/125 [==============================] - 90s 716ms/step - loss: 2.6413 - val_loss: 3.1949\n",
      "Epoch 18/25\n",
      "125/125 [==============================] - 89s 713ms/step - loss: 2.5822 - val_loss: 3.1802\n",
      "Epoch 19/25\n",
      "125/125 [==============================] - 89s 712ms/step - loss: 2.5081 - val_loss: 3.1733\n",
      "Epoch 20/25\n",
      "125/125 [==============================] - 89s 714ms/step - loss: 2.4557 - val_loss: 3.1746\n",
      "Epoch 21/25\n",
      "125/125 [==============================] - 89s 714ms/step - loss: 2.4011 - val_loss: 3.1707\n",
      "Epoch 22/25\n",
      "125/125 [==============================] - 89s 714ms/step - loss: 2.3379 - val_loss: 3.1705\n",
      "Epoch 23/25\n",
      "125/125 [==============================] - 89s 714ms/step - loss: 2.2887 - val_loss: 3.1720\n",
      "Epoch 24/25\n",
      "125/125 [==============================] - 89s 712ms/step - loss: 2.2417 - val_loss: 3.1646\n",
      "Epoch 25/25\n",
      "125/125 [==============================] - 89s 711ms/step - loss: 2.1929 - val_loss: 3.1776\n"
     ]
    }
   ],
   "source": [
    "# 훈련 진행\n",
    "\n",
    "model.compile(optimizer='rmsprop', loss='sparse_categorical_crossentropy')\n",
    "es = EarlyStopping(monitor='val_loss', patience=2, verbose=1)  \n",
    "history = model.fit(x=[encoder_input_train, decoder_input_train], y=decoder_target_train, \\\n",
    "          validation_data=([encoder_input_test, decoder_input_test], decoder_target_test), \\\n",
    "          batch_size=256, callbacks=[es], epochs=25)"
   ]
  },
  {
   "cell_type": "code",
   "execution_count": 49,
   "id": "objective-astronomy",
   "metadata": {},
   "outputs": [
    {
     "data": {
      "image/png": "[encoded data removed]",
      "text/plain": [
       "<Figure size 432x288 with 1 Axes>"
      ]
     },
     "metadata": {
      "needs_background": "light"
     },
     "output_type": "display_data"
    }
   ],
   "source": [
    "# 훈련 데이터의 손실과 검증 데이터의 손실이 줄어드는 과정을 시각화\n",
    "\n",
    "plt.plot(history.history['loss'], label='train')\n",
    "plt.plot(history.history['val_loss'], label='test')\n",
    "plt.legend()\n",
    "plt.show()"
   ]
  },
  {
   "cell_type": "markdown",
   "id": "handled-moment",
   "metadata": {},
   "source": [
    "#### 5) 인퍼런스 모델 구현"
   ]
  },
  {
   "cell_type": "code",
   "execution_count": 50,
   "id": "opposed-formula",
   "metadata": {},
   "outputs": [],
   "source": [
    "src_index_to_word = src_tokenizer.index_word # 원문 단어 집합에서 정수 -> 단어를 얻음\n",
    "tar_word_to_index = tar_tokenizer.word_index # 요약 단어 집합에서 단어 -> 정수를 얻음\n",
    "tar_index_to_word = tar_tokenizer.index_word # 요약 단어 집합에서 정수 -> 단어를 얻음"
   ]
  },
  {
   "cell_type": "code",
   "execution_count": 51,
   "id": "egyptian-workstation",
   "metadata": {},
   "outputs": [],
   "source": [
    "# 인코더 설계\n",
    "encoder_model = Model(inputs=encoder_inputs, outputs=[encoder_outputs, state_h, state_c])\n",
    "\n",
    "# 이전 시점의 상태들을 저장하는 텐서\n",
    "decoder_state_input_h = Input(shape=(hidden_size,))\n",
    "decoder_state_input_c = Input(shape=(hidden_size,))\n",
    "\n",
    "dec_emb2 = dec_emb_layer(decoder_inputs)\n",
    "\n",
    "# 문장의 다음 단어를 예측하기 위해서 초기 상태(initial_state)를 이전 시점의 상태로 사용. 이는 뒤의 함수 decode_sequence()에 구현\n",
    "# 훈련 과정에서와 달리 LSTM의 리턴하는 은닉 상태와 셀 상태인 state_h와 state_c를 버리지 않음.\n",
    "decoder_outputs2, state_h2, state_c2 = decoder_lstm(dec_emb2, initial_state=[decoder_state_input_h, decoder_state_input_c])"
   ]
  },
  {
   "cell_type": "code",
   "execution_count": 52,
   "id": "north-fetish",
   "metadata": {},
   "outputs": [],
   "source": [
    "# 어텐션 함수\n",
    "decoder_hidden_state_input = Input(shape=(text_max_len, hidden_size))\n",
    "attn_out_inf, attn_states_inf = attn_layer([decoder_hidden_state_input, decoder_outputs2])\n",
    "decoder_inf_concat = Concatenate(axis=-1, name='concat')([decoder_outputs2, attn_out_inf])\n",
    "\n",
    "# 디코더의 출력층\n",
    "decoder_outputs2 = decoder_softmax_layer(decoder_inf_concat) \n",
    "\n",
    "# 최종 디코더 모델\n",
    "decoder_model = Model(\n",
    "    [decoder_inputs] + [decoder_hidden_state_input,decoder_state_input_h, decoder_state_input_c],\n",
    "    [decoder_outputs2] + [state_h2, state_c2])"
   ]
  },
  {
   "cell_type": "code",
   "execution_count": 56,
   "id": "secondary-failure",
   "metadata": {},
   "outputs": [],
   "source": [
    "def decode_sequence(input_seq):\n",
    "    # 입력으로부터 인코더의 상태를 얻음\n",
    "    e_out, e_h, e_c = encoder_model.predict(input_seq)\n",
    "\n",
    "     # <SOS>에 해당하는 토큰 생성\n",
    "    target_seq = np.zeros((1,1))\n",
    "    target_seq[0, 0] = tar_word_to_index['sostoken']\n",
    "\n",
    "    stop_condition = False\n",
    "    decoded_sentence = ''\n",
    "    while not stop_condition: # stop_condition이 True가 될 때까지 루프 반복\n",
    "\n",
    "        output_tokens, h, c = decoder_model.predict([target_seq] + [e_out, e_h, e_c])\n",
    "        sampled_token_index = np.argmax(output_tokens[0, -1, :])\n",
    "        sampled_token = tar_index_to_word[sampled_token_index]\n",
    "\n",
    "        if (sampled_token!='eostoken'):\n",
    "            decoded_sentence += ' '+sampled_token\n",
    "\n",
    "        #  <eos>에 도달하거나 최대 길이를 넘으면 중단.\n",
    "        if (sampled_token == 'eostoken'  or len(decoded_sentence.split()) >= (headlines_max_len-1)):\n",
    "            stop_condition = True\n",
    "\n",
    "        # 길이가 1인 타겟 시퀀스를 업데이트\n",
    "        target_seq = np.zeros((1,1))\n",
    "        target_seq[0, 0] = sampled_token_index\n",
    "\n",
    "        # 상태를 업데이트 합니다.\n",
    "        e_h, e_c = h, c\n",
    "\n",
    "    return decoded_sentence"
   ]
  },
  {
   "cell_type": "markdown",
   "id": "stupid-omaha",
   "metadata": {},
   "source": [
    "#### 6) 모델 테스트"
   ]
  },
  {
   "cell_type": "code",
   "execution_count": 57,
   "id": "documented-scratch",
   "metadata": {},
   "outputs": [],
   "source": [
    "# 원문의 정수 시퀀스를 텍스트 시퀀스로 변환\n",
    "def seq2text(input_seq):\n",
    "    temp=''\n",
    "    for i in input_seq:\n",
    "        if (i!=0):\n",
    "            temp = temp + src_index_to_word[i]+' '\n",
    "    return temp\n",
    "\n",
    "# 요약문의 정수 시퀀스를 텍스트 시퀀스로 변환\n",
    "def seq2summary(input_seq):\n",
    "    temp=''\n",
    "    for i in input_seq:\n",
    "        if ((i!=0 and i!=tar_word_to_index['sostoken']) and i!=tar_word_to_index['eostoken']):\n",
    "            temp = temp + tar_index_to_word[i] + ' '\n",
    "    return temp"
   ]
  },
  {
   "cell_type": "markdown",
   "id": "illegal-pocket",
   "metadata": {},
   "source": [
    "## Step 4. 실제 결과와 요약문 비교하기 (추상적 요약)\n",
    "- 원래의 요약문(headlines 열)과 학습을 통해 얻은 추상적 요약의 결과를 비교해 보세요."
   ]
  },
  {
   "cell_type": "code",
   "execution_count": 62,
   "id": "secure-broad",
   "metadata": {},
   "outputs": [
    {
     "name": "stdout",
     "output_type": "stream",
     "text": [
      "원문 : west bengal cm mamata banerjee has said she is willing to ally with congress to ensure that bjp is not elected in the elections adding that bjp leaders like hundred stating that she shares very good relations with congress leader sonia gandhi cm mamata described congress president rahul gandhi as much junior \n",
      "실제 요약 : cong remove bjp mamata \n",
      "예측 요약 :  mamata wins congress congress\n",
      "\n",
      "\n",
      "원문 : google paid around to settle racial discrimination lawsuit filed by contractor while working on an google maps project the contractor said he was subjected to harassment including being asked if he was terrorist while gathering information about wifi signals inside stores he also claimed google withdrew his new contract after he complained about the harassment \n",
      "실제 요약 : google paid lawsuit \n",
      "예측 요약 :  google google google\n",
      "\n",
      "\n",
      "원문 : social media giant facebook coo sandberg has donated nearly million worth facebook shares to the sandberg david family foundation according to regulatory document filed on thursday sandberg now owns stake in facebook last year sandberg donated shares then worth million to the same foundation \n",
      "실제 요약 : facebook donates crore charity \n",
      "예측 요약 :  facebook sells mn facebook\n",
      "\n",
      "\n",
      "원문 : irctc on friday added point of sale machines in trains with cars for electronic payment of food items the right amount will be generated it would keep check on an irctc official said further all managing the trains have been instructed to ensure availability of minimum eight machines per \n",
      "실제 요약 : adds machines trains food \n",
      "예측 요약 :  launches charge cars\n",
      "\n",
      "\n",
      "원문 : life size of pope francis kissing us president donald trump appeared on wall near the vatican on thursday weeks before their meeting pope francis whose reads the good the evil was with while trump was shown with such depicting the pope are usually removed by rome cops \n",
      "실제 요약 : pope trump comes \n",
      "예측 요약 :  trump\n",
      "\n",
      "\n",
      "원문 : zomato has revealed that crore of its user records were accessed by hacker last week using web hosting service database that was leaked in zomato developer had an account with the service of which had been leaked the developer used the same details for where zomato code was developed \n",
      "실제 요약 : get access zomato user records \n",
      "예측 요약 :  google launches ai ai\n",
      "\n",
      "\n",
      "원문 : mumbai indians captain rohit sharma has said that he might open the innings at some stage in the ipl but that will totally on the team requirement sharma who opened for mi in the last edition of ipl has at either number three or number four in the matches this season scoring just runs \n",
      "실제 요약 : opening innings rohit sharma \n",
      "예측 요약 :  rohit launches indian captain ipl\n",
      "\n",
      "\n",
      "원문 : karnataka transport minister reddy on monday launched mass rescue that is capable of transporting patients in one go the karnataka state road transport corporation bus which was converted into the contains oxygen and among other equipment maximum road accidents in the country happen in karnataka reddy said \n",
      "실제 요약 : karnataka launches rescue mass \n",
      "예측 요약 :  bengaluru govt provide free\n",
      "\n",
      "\n",
      "원문 : gurugram based online marketplace has laid off employees across multiple functions the startup confirmed adding that the decision was made taking into account individual performances said it less than of the total workforce this comes after saw executive including the exit of senior director of category \n",
      "실제 요약 : online fires employees \n",
      "예측 요약 :  launches\n",
      "\n",
      "\n",
      "원문 : the national pharmaceutical pricing authority has reduced the prices of drug to from gst for larger public interest it also directed hospitals to mention prices of and in the bills price regulation is necessary to counter the and trade margin the authority said \n",
      "실제 요약 : govt prices price \n",
      "예측 요약 :  launches gst\n",
      "\n",
      "\n",
      "원문 : the indonesian army has destroyed tiger statue at the west base after it inspired many and was mocked online although the statue was years ago its picture recently emerged online major general said every unit has their own decision on how the statue was made but sometimes the artist was not that good \n",
      "실제 요약 : indonesian army tiger statue inspired \n",
      "예측 요약 :  kills statue\n",
      "\n",
      "\n",
      "원문 : grenade attack outside the police station in srinagar killed one civilian and injured another alongside four policemen on sunday evening the injured police personnel and the civilian were later shifted to hospital the attack comes three days after an attack on an army camp in north kashmir in which three soldiers were martyred \n",
      "실제 요약 : killed cops injured attack \n",
      "예측 요약 :  killed injured attack\n",
      "\n",
      "\n",
      "원문 : icici bank has investors that ongoing investigations into allegations relating to ceo chanda kochhar could impact its ability to do business it also admitted for the first time that cbi has initiated preliminary against various individuals and firms including bank officials the allegations include nepotism pro and failure to make adequate \n",
      "실제 요약 : probe business bank \n",
      "예측 요약 :  never ceo\n",
      "\n",
      "\n",
      "원문 : congress vice president rahul gandhi on thursday claimed that he knew about bihar cm nitish kumar plans to leave the congress rjd jd alliance and form new government with bjp for the past three or four months adding that people go to any extent for power he said there was no rule or in indian politics \n",
      "실제 요약 : knew nitish plan past months rahul gandhi \n",
      "예측 요약 :  congress corruption shah\n",
      "\n",
      "\n",
      "원문 : in response to who announced lakh reward for anybody sonu nigam head the singer on wednesday his head live on tv before his head nigam called the act religious and asked him to keep lakh ready the fatwa was issued after nigam complained of being up by the \n",
      "실제 요약 : head promises \n",
      "예측 요약 :  lakh\n",
      "\n",
      "\n",
      "원문 : prince was injured and his wife was killed after their suv hit taxi head on in the city of on sunday police officials said that the year old was to hospital in the capital of for medical treatment adding he is seriously injured but he will be fine \n",
      "실제 요약 : prince injured wife killed accident \n",
      "예측 요약 :  killed injured shooting\n",
      "\n",
      "\n",
      "원문 : weeks after the trinamool congress and joining the bjp roy on friday said that tmc and its initiative was private company owned and run by mamata banerjee nephew abhishek banerjee people are dying because of dengue but our chief minister is busy is celebrating film with stars and celebrities he added \n",
      "실제 요약 : congress private company \n",
      "예측 요약 :  bjp mp\n",
      "\n",
      "\n",
      "원문 : following reports that pornstar daniels was paid before the us presidential election for her silence over sexual encounter with donald trump she revealed that her affair with the president lasted nearly year earlier daniels issued statement in which she denied sexual relationship with trump \n",
      "실제 요약 : year long affair donald trump \n",
      "예측 요약 :  petition trump\n",
      "\n",
      "\n",
      "원문 : actor shah rukh khan wife gauri khan shared picture of herself with their youngest son where she is seen wrapped in toilet paper making her appear like an egyptian the picture which shows her kissing her son was captioned that moment when you get for being good \n",
      "실제 요약 : pic shows toilet paper \n",
      "예측 요약 :  srk wife\n",
      "\n",
      "\n",
      "원문 : the year old cup tournament will be changed into an team week long event after international tennis federation approved proposal by consortium that has pledged support of billion over year long duration the current cup format is knockout event played in february july september and november at home and away around the globe \n",
      "실제 요약 : changes made yr old cup ship \n",
      "예측 요약 :  world cup\n",
      "\n",
      "\n",
      "원문 : after the uttar pradesh cabinet approved the proposal to allahabad as prayagraj samajwadi party chief akhilesh yadav claimed the current government wants to show that they are working by just places he added they have even renamed kumbh to kumbh this is with tradition and belief \n",
      "실제 요약 : akhilesh yadav slams govt move \n",
      "예측 요약 :  new mps\n",
      "\n",
      "\n",
      "원문 : actress priyanka chopra who turned on wednesday had featured in music video titled mere by this was before she made her acting debut in the tamil film she featured in the video after winning the miss world at the age of \n",
      "실제 요약 : priyanka video acting debut \n",
      "예측 요약 :  priyanka chopra shares video\n",
      "\n",
      "\n",
      "원문 : the us is planning to turn the international space station into private enterprise and stop funding it after according to the washington post the iss is currently operated by boeing on behalf of us space agency nasa iss operations were previously to spacex and to cargo supply flights to the station \n",
      "실제 요약 : us international space station report \n"
     ]
    },
    {
     "name": "stdout",
     "output_type": "stream",
     "text": [
      "예측 요약 :  us space space\n",
      "\n",
      "\n",
      "원문 : man was found dead at night shelter for the homeless run by the municipal corporation in aligarh on tuesday the police have sent his body for and launched an investigation to ascertain the cause of death meanwhile another homeless man at the shelter claimed that the deceased used to consume alcohol and sell blood to hospitals \n",
      "실제 요약 : man found dead night shelter \n",
      "예측 요약 :  man killed delhi man\n",
      "\n",
      "\n",
      "원문 : according to reports saif ali khan daughter sara ali khan will be starring as the lead actress in hrithik roshan upcoming film super hrithik has reportedly approached the film director vikas bahl regarding sara casting and the talks have been initiated the film which is biopic on mathematician anand kumar is scheduled to release on january \n",
      "실제 요약 : sara ali khan star hrithik super reports \n",
      "예측 요약 :  saif hrithik star hrithik report\n",
      "\n",
      "\n",
      "원문 : bengaluru based cab aggregator ola has raised billion in the biggest funding round in its history led by chinese internet giant tencent the round saw participation from existing investor softbank and new us based financial investors ola said it is also in talks with other investors to close an additional billion total raise of over billion \n",
      "실제 요약 : ola raises largest funding billion \n",
      "예측 요약 :  zomato raises billion funding\n",
      "\n",
      "\n",
      "원문 : sachin tendulkar has said that the story of his with his wife will be shown in his upcoming biopic sachin billion dreams which on may how met my wife and how we took it forward is part of film had to speak with the whole family before coming out with this film said sachin \n",
      "실제 요약 : fans see sachin biopic \n",
      "예측 요약 :  sachin tendulkar th birthday\n",
      "\n",
      "\n",
      "원문 : billionaire who bought the most expensive us home for million in new york is the ceo of billion fund the year old who has billion fortune began trading from his harvard university room in and founded in owns art collection and real estate worth around million each \n",
      "실제 요약 : bought expensive us home cr \n",
      "예측 요약 :  billionaire billionaire sells billion\n",
      "\n",
      "\n",
      "원문 : food regulator ceo pawan kumar agarwal on wednesday inaugurated first food safety institute in india at haryana the food safety institute will conduct training programmes on food safety management systems and testing methods our global will help in taking informed decisions while regulations india md suresh said \n",
      "실제 요약 : sets first food safety india \n",
      "예측 요약 :  ceo first\n",
      "\n",
      "\n",
      "원문 : gujarat jeweller on friday alleged that he was duped of crore by gitanjali gems promoter mehul choksi and despite gujarat high court and government against choksi in no action was taken had action been taken then he would not have escaped today he said mehul choksi is one of the accused in over crore pnb scam \n",
      "실제 요약 : choksi hc \n",
      "예측 요약 :  cbi crore fraud\n",
      "\n",
      "\n",
      "원문 : tennis player is participating in wimbledon while over four months pregnant lost to italy in the first round but is due to play women doubles with the world number said wimbledon is her last tournament this season with her baby due towards the end of the year \n",
      "실제 요약 : months pregnant player wimbledon \n",
      "예측 요약 :  yr old wimbledon\n",
      "\n",
      "\n",
      "원문 : the union cabinet has approved the india programme at cost of crore for the period to each athlete selected under the scheme will receive an annual scholarship worth lakh for eight consecutive years the programme will cover around million children in the age group of under national physical fitness drive \n",
      "실제 요약 : lakh india \n",
      "예측 요약 :  govt approves crore\n",
      "\n",
      "\n",
      "원문 : president alexander has said that is sometimes way to punish children adding that he is personally against physical punishment cited his own experience saying he punished his oldest son and that served as good lesson for his younger son he made the remarks while rejecting draft bill against domestic violence \n",
      "실제 요약 : way children president \n",
      "예측 요약 :  never\n",
      "\n",
      "\n",
      "원문 : pakistan authorities have arrested indian fishermen for allegedly fishing in the country territorial waters an official said two fishing boats of the indian fishermen were also seized they were arrested on tuesday by the pakistan security agency and handed over to police after initial investigation \n",
      "실제 요약 : indian held pakistan \n",
      "예측 요약 :  indian indian arrested pakistan\n",
      "\n",
      "\n",
      "원문 : minister of state hegde has claimed that he received call on sunday threatening to him you think you re big leader we you and cut you into pieces the reportedly said this comes after hegde claimed that recent accident between his car and truck was an attempt on his life \n",
      "실제 요약 : got call \n",
      "예측 요약 :  union minister\n",
      "\n",
      "\n",
      "원문 : the second man to walk on the moon was born jr on january in new jersey us earned the as child when his sister the word brother as which the retired nasa astronaut made his legal first name in interestingly his mother name was moon \n",
      "실제 요약 : name sister called \n",
      "예측 요약 :  man\n",
      "\n",
      "\n",
      "원문 : there is double living root bridge in meghalaya which is believed to be the only one of its kind in the world numerous other living root bridges are spread across the hills region these bridges are known to have been built by the community over years ago by to form bridge \n",
      "실제 요약 : double living bridge meghalaya \n",
      "예측 요약 :  bridge\n",
      "\n",
      "\n",
      "원문 : esha gupta while speaking about being for her and nude pictures said the only thing that her was when said she is not an indian how come an indian girl do this wanted to say am much more indian than anyone else because my father at least served the nation she added \n",
      "실제 요약 : trolls said indian \n",
      "예측 요약 :  help\n",
      "\n",
      "\n",
      "원문 : actress deepika padukone while talking about her life at has said will have little home with beautiful view lots of children and grand children and good life she added that she wants peaceful life she said this in an interview at the th cannes film festival \n",
      "실제 요약 : hope home children deepika \n",
      "예측 요약 :  deepika\n",
      "\n",
      "\n",
      "원문 : formula one championship is without brazilian driver for the first time in years after ended his career at the season final grand prix in abu dhabi brazil is very important country for so many titles so many drivers said who won from to during his at ferrari \n",
      "실제 요약 : without driver first time years \n",
      "예측 요약 :  st ever ship\n",
      "\n",
      "\n",
      "원문 : the official teaser of john abraham starrer the story of has been released the film is based on the series of nuclear bomb test explosions conducted in rajasthan in directed by abhishek sharma and also starring diana the story of is scheduled to release on may \n",
      "실제 요약 : teaser john starrer released \n",
      "예측 요약 :  teaser released\n",
      "\n",
      "\n",
      "원문 : five delhi police personnel have been suspended day after an illegal casino operating from south delhi was busted by the police the police officials were reportedly suspended for not doing enough to stop the casino which was operating since mid may it will also be probed whether the suspended officials were under the casino owner \n",
      "실제 요약 : policemen suspended delhi \n",
      "예측 요약 :  delhi police fines police traffic police\n",
      "\n",
      "\n",
      "원문 : the us government on friday said that there has been no change in law regarding the visa system and it continues to be the same as before president trump asked for review of the system but so far no legislation has been passed on the government added the work visa is popular among indian it professionals \n",
      "실제 요약 : change law visa system remains us \n",
      "예측 요약 :  us warns us\n",
      "\n",
      "\n",
      "원문 : mumbai based micro startup has raised million in pre series funding round from venture capital firm sixth sense ventures as part of this investment sixth sense ventures ceo will join the startup board founded in and manages operations reservations and marketing for private vacation homes \n",
      "실제 요약 : mumbai startup raises mn \n",
      "예측 요약 :  startup raises crore\n",
      "\n",
      "\n",
      "원문 : former us transgender soldier chelsea who was convicted of giving classified government materials to wikileaks has appeared in the september issue of vogue was photographed in red on beach for the magazine th anniversary september issue was released from us prison in may this year after serving seven years of her year sentence \n",
      "실제 요약 : issue \n",
      "예측 요약 :  french\n",
      "\n",
      "\n",
      "원문 : national conference leader kamal on tuesday supported pakistan on the issue of awarding death sentence to indian national kulbhushan jadhav saying that it is not correct for india to point fingers at another nation legal proceedings pakistan has the law not correct for india to point fingers being the largest democracy kamal stated \n",
      "실제 요약 : leader death jadhav pakistan \n"
     ]
    },
    {
     "name": "stdout",
     "output_type": "stream",
     "text": [
      "예측 요약 :  pakistan jadhav jadhav jadhav\n",
      "\n",
      "\n",
      "원문 : actor akshay kumar took to twitter to baahubali the conclusion stating he had finally seen the movie and it deserves every bit of and success he added that the film is taking indian cinema to an international level notably baahubali became the first ever indian movie to earn crore worldwide \n",
      "실제 요약 : baahubali every success akshay \n",
      "예측 요약 :  akshay hindi film\n",
      "\n",
      "\n",
      "원문 : the national capital belongs to all citizens of india and not just to people living in delhi the centre on wednesday told the supreme court the centre which is currently involved in legal battle with the delhi government over the administrative of delhi had earlier said that it was union territory and not state \n",
      "실제 요약 : delhi nation centre tells sc \n",
      "예측 요약 :  thousands sc illegal centre\n",
      "\n",
      "\n",
      "원문 : diana who made bollywood debut with in said that the time between her debut film and second film happy which released in was very took me while to figure out how to what direction to take she added at that time was very new to the industry she further said \n",
      "실제 요약 : time happy \n",
      "예측 요약 :  film wood\n",
      "\n",
      "\n",
      "원문 : mocking prime minister narendra modi monthly radio show mann ki baat congress vice president rahul gandhi on monday said we will not speak our mann ki baat we will hear addressing people in poll bound gujarat rahul added what happened to vikas in gujarat it went crazy after to lies after lies \n",
      "실제 요약 : speak rahul \n",
      "예측 요약 :  pm modi rahul gandhi\n",
      "\n",
      "\n"
     ]
    }
   ],
   "source": [
    "for i in range(50, 100):\n",
    "    print(\"원문 :\", seq2text(encoder_input_test[i]))\n",
    "    print(\"실제 요약 :\", seq2summary(decoder_input_test[i]))\n",
    "    print(\"예측 요약 :\", decode_sequence(encoder_input_test[i].reshape(1, text_max_len)))\n",
    "    print(\"\\n\")\n"
   ]
  },
  {
   "cell_type": "markdown",
   "id": "bibliographic-preference",
   "metadata": {},
   "source": [
    "<mark>[예시중 일부 구글 번역]</mark>\n",
    "\n",
    "<b>1)옳은 예<br></b>\n",
    "- 원문 : 소셜 미디어 거물인 페이스북 쿠 샌드버그는 목요일에 제출된 규제 문서에 따라 샌드버그 데이비드 가족 재단에 거의 백만 달러 상당의 페이스북 주식을 기부했습니다. 샌드버그는 현재 페이스북 지분을 소유하고 있습니다.\n",
    "- 실제요약 : 페이스북, 자선단체 기부\n",
    "- 예측요약 : 페이스북이 mn 페이스북을 판다 <b>->나름 요약이 잘 된 것 같다.</b>\n",
    "\n",
    "\n",
    "<b>2)잘못된 예</br></b>\n",
    "- 원문 : 구글은 구글 지도 프로젝트를 진행하는 동안 계약자가 제기한 인종 차별 소송을 해결하기 위해 돈을 지불했습니다. 계약자는 상점 내부에서 와이파이 신호에 대한 정보를 수집하는 동안 자신이 테러리스트인지 묻는 등 괴롭힘을 당했다고 말했습니다. 그는 또한 구글이 그 후 새 계약을 철회했다고 주장했습니다 그는 괴롭힘에 대해 불평했다\n",
    "- 실제요약 : 구글 유료 소송\n",
    "- 예측요약 : 구글 구글 구글 <b> -> 자주 등장하는 단어가 기업인 경우 별도의 전처리가 필요할것 같다.</b>\n",
    "\n",
    "<b>3)잘못된 예</br></b>\n",
    "- 원문 : 왕자는 일요일에 택시를 들이받은 후 왕자가 부상을 입고 아내가 사망했다고 경찰 관계자는 전했다.\n",
    "- 실제요약 : 왕자 부상 아내 사망 사고\n",
    "- 예측요약 : 부상당한 총격 사망  <b> -> 전처리에 taxi(택시) -Traffic Accident(교통사고) 객체명인식처리를 하였으면 개선 되었을것 같다. </b>"
   ]
  },
  {
   "cell_type": "markdown",
   "id": "infrared-gauge",
   "metadata": {},
   "source": [
    "## Step 5. Summa을 이용해서 추출적 요약해보기"
   ]
  },
  {
   "cell_type": "markdown",
   "id": "paperback-morrison",
   "metadata": {},
   "source": [
    "#### 1) 데이터 다운로드 하기"
   ]
  },
  {
   "cell_type": "code",
   "execution_count": 59,
   "id": "orange-northeast",
   "metadata": {},
   "outputs": [],
   "source": [
    "import requests\n",
    "from summa.summarizer import summarize"
   ]
  },
  {
   "cell_type": "code",
   "execution_count": 70,
   "id": "varying-accessory",
   "metadata": {},
   "outputs": [
    {
     "data": {
      "text/plain": [
       "0        Saurav Kant, an alumnus of upGrad and IIIT-B's...\n",
       "1        Kunal Shah's credit card bill payment platform...\n",
       "2        New Zealand defeated India by 8 wickets in the...\n",
       "3        With Aegon Life iTerm Insurance plan, customer...\n",
       "4        Speaking about the sexual harassment allegatio...\n",
       "                               ...                        \n",
       "98396    A CRPF jawan was on Tuesday axed to death with...\n",
       "98397    'Uff Yeh', the first song from the Sonakshi Si...\n",
       "98398    According to reports, a new version of the 199...\n",
       "98399    A new music video shows rapper Snoop Dogg aimi...\n",
       "98400    Madhesi Morcha, an alliance of seven political...\n",
       "Name: text, Length: 98401, dtype: object"
      ]
     },
     "execution_count": 70,
     "metadata": {},
     "output_type": "execute_result"
    }
   ],
   "source": [
    "data_news = pd.read_csv('news_summary_more.csv', encoding='iso-8859-1')\n",
    "data_news[\"text\"]"
   ]
  },
  {
   "cell_type": "code",
   "execution_count": 74,
   "id": "broad-smart",
   "metadata": {},
   "outputs": [
    {
     "name": "stdout",
     "output_type": "stream",
     "text": [
      "                                              headlines  \\\n",
      "0     upGrad learner switches to career in ML & Al w...   \n",
      "1     Delhi techie wins free food from Swiggy for on...   \n",
      "2     New Zealand end Rohit Sharma-led India's 12-ma...   \n",
      "3     Aegon life iTerm insurance plan helps customer...   \n",
      "4     Have known Hirani for yrs, what if MeToo claim...   \n",
      "...                                                 ...   \n",
      "1495  Have seen Sachin Tendulkar get angry but not M...   \n",
      "1496  Player ensures wife stays dry in rain during A...   \n",
      "1497  Federer denied entry into locker room by secur...   \n",
      "1498  42/42 seats in West Bengal: CM Mamata's cutout...   \n",
      "1499  Court refuses chargesheet by Delhi Police agai...   \n",
      "\n",
      "                                                   text  \n",
      "0     Saurav Kant, an alumnus of upGrad and IIIT-B's...  \n",
      "1     Kunal Shah's credit card bill payment platform...  \n",
      "2     New Zealand defeated India by 8 wickets in the...  \n",
      "3     With Aegon Life iTerm Insurance plan, customer...  \n",
      "4     Speaking about the sexual harassment allegatio...  \n",
      "...                                                 ...  \n",
      "1495  India head coach Ravi Shastri has said that he...  \n",
      "1496  Italian tennis player Andreas Seppi ensured hi...  \n",
      "1497  World number three Roger Federer was stopped b...  \n",
      "1498  A cutout of TMC chief and West Bengal CM Mamat...  \n",
      "1499  A Delhi court on Saturday pulled up Delhi Poli...  \n",
      "\n",
      "[1500 rows x 2 columns]\n"
     ]
    }
   ],
   "source": [
    "print(data_news[:1500])"
   ]
  },
  {
   "cell_type": "markdown",
   "id": "dependent-constant",
   "metadata": {},
   "source": [
    "#### 2) summarize 사용하기"
   ]
  },
  {
   "cell_type": "markdown",
   "id": "coordinate-basin",
   "metadata": {},
   "source": [
    "- text (str) : 요약할 테스트.\n",
    "- ratio (float, optional) – 요약문에서 원본에서 선택되는 문장 비율. 0~1 사이값\n",
    "- words (int or None, optional) – 출력에 포함할 단어 수.\n",
    "- 만약, ratio와 함께 두 파라미터가 모두 제공되는 경우 ratio는 무시한다.\n",
    "- split (bool, optional) – True면 문장 list / False는 조인(join)된 문자열을 반환"
   ]
  },
  {
   "cell_type": "code",
   "execution_count": 87,
   "id": "distinguished-setup",
   "metadata": {},
   "outputs": [
    {
     "name": "stdout",
     "output_type": "stream",
     "text": [
      "Summary:\n",
      "He added decisions like demonetisation and RERA have put a check on black money that used to be \"parked in the real estate sector\".\n"
     ]
    }
   ],
   "source": [
    "print('Summary:')\n",
    "print(summarize(data_news[\"text\"][i], ratio=0.5))"
   ]
  },
  {
   "cell_type": "code",
   "execution_count": 88,
   "id": "micro-wayne",
   "metadata": {},
   "outputs": [
    {
     "name": "stdout",
     "output_type": "stream",
     "text": [
      "Summary:\n",
      "['He added decisions like demonetisation and RERA have put a check on black money that used to be \"parked in the real estate sector\".']\n"
     ]
    }
   ],
   "source": [
    "print('Summary:')\n",
    "print(summarize(data_news[\"text\"][i], ratio=0.5, split=True))"
   ]
  },
  {
   "cell_type": "code",
   "execution_count": 86,
   "id": "palestinian-single",
   "metadata": {},
   "outputs": [
    {
     "name": "stdout",
     "output_type": "stream",
     "text": [
      "Summary:\n",
      "Prime Minister Narendra Modi on Wednesday said his government's demonetisation decision made houses affordable for the aspiring youth.\n",
      "He added decisions like demonetisation and RERA have put a check on black money that used to be \"parked in the real estate sector\".\n"
     ]
    }
   ],
   "source": [
    "print('Summary:')\n",
    "print(summarize(data_news[\"text\"][i], words=50))"
   ]
  },
  {
   "cell_type": "markdown",
   "id": "choice-calculation",
   "metadata": {},
   "source": [
    "### 평가기준\n",
    "- 분석단계, 정제단계, 정규화와 불용어 제거, 데이터셋 분리, 인코딩 과정이 빠짐없이 체계적으로 진행되었다.\n",
    "- 모델학습이 안정적으로 수렴되었음을 그래프를 통해 확인하였으며, 실제 요약문과 유사한 요약문장을 얻을 수 있었다.\n",
    "- 두 요약 결과를 문법완성도 측면과 핵심단어 포함 측면으로 나누어 비교분석 결과를 제시하였다."
   ]
  },
  {
   "cell_type": "markdown",
   "id": "experienced-reporter",
   "metadata": {},
   "source": [
    "## 회고\n"
   ]
  },
  {
   "cell_type": "markdown",
   "id": "quick-flesh",
   "metadata": {},
   "source": [
    "1. 내용이 너무 방대해서 목차를 여러 번 정리하였다. 확실히 조금 더 이해에 도움이 된 것 같다.\n",
    "2. 한글은 품사가 많아 텍스트 정규화가 어려울 것 같은 생각이 든다.\n",
    "3. text_max_len, headlines_max_len의 값에 변화를 주어서 다양한 샘플의 비율 값을 확인하였는데 소중한 데이터가 버려지지 않도록 조정하는 것이 필수인듯하다.\n",
    "4. 6) 단어 집합(vocabulary) 만들기 및 정수 인코딩 부분에서 단어 집합의 크기가 기존에 배웠던 노드 기준의 src_vocab 값으로 해야 할지, 데이터 기준으로 적용해야 할지 고민되었다. 관련해서 설명이 추가되었으면 하는 바람이다.\n",
    "5. 훈련 데이터의 손실은 빠르게 감소하는 것을 볼 수 있었고, 검증 데이터의 손실은 10회 이상부터 둔화되며 19 정도부터 감소되지 않는 것으로 확인되었다.\n",
    "6. summarize 사용하기에서 소수점 변화에 따라 노출 여부를 확인할 수 있었다. ratio= 0.4나 0.5의 경우 노출 별 차이는 나지 않았지만 0.05 및 0.005는 노출이 되지 않았다.\n",
    "7. split=True 용도 및 words 값에 따라 변화되는 텍스트 양도 확인할 수 있었는데 위의 2개 요약본 텍스트가 words=30 정도인 것으로 확인 되었다."
   ]
  }
 ],
 "metadata": {
  "kernelspec": {
   "display_name": "Python 3",
   "language": "python",
   "name": "python3"
  },
  "language_info": {
   "codemirror_mode": {
    "name": "ipython",
    "version": 3
   },
   "file_extension": ".py",
   "mimetype": "text/x-python",
   "name": "python",
   "nbconvert_exporter": "python",
   "pygments_lexer": "ipython3",
   "version": "3.7.9"
  }
 },
 "nbformat": 4,
 "nbformat_minor": 5
}
