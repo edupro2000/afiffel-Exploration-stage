{
 "cells": [
  {
   "cell_type": "markdown",
   "id": "alien-consultancy",
   "metadata": {},
   "source": [
    "# Movielens 영화 추천 실습"
   ]
  },
  {
   "cell_type": "markdown",
   "id": "functional-bathroom",
   "metadata": {},
   "source": [
    "### 1. 데이터 준비와 전처리"
   ]
  },
  {
   "cell_type": "code",
   "execution_count": 1,
   "id": "domestic-infrastructure",
   "metadata": {},
   "outputs": [
    {
     "data": {
      "text/html": [
       "<div>\n",
       "<style scoped>\n",
       "    .dataframe tbody tr th:only-of-type {\n",
       "        vertical-align: middle;\n",
       "    }\n",
       "\n",
       "    .dataframe tbody tr th {\n",
       "        vertical-align: top;\n",
       "    }\n",
       "\n",
       "    .dataframe thead th {\n",
       "        text-align: right;\n",
       "    }\n",
       "</style>\n",
       "<table border=\"1\" class=\"dataframe\">\n",
       "  <thead>\n",
       "    <tr style=\"text-align: right;\">\n",
       "      <th></th>\n",
       "      <th>user_id</th>\n",
       "      <th>movie_id</th>\n",
       "      <th>rating</th>\n",
       "      <th>timestamp</th>\n",
       "    </tr>\n",
       "  </thead>\n",
       "  <tbody>\n",
       "    <tr>\n",
       "      <th>0</th>\n",
       "      <td>1</td>\n",
       "      <td>1193</td>\n",
       "      <td>5</td>\n",
       "      <td>978300760</td>\n",
       "    </tr>\n",
       "    <tr>\n",
       "      <th>1</th>\n",
       "      <td>1</td>\n",
       "      <td>661</td>\n",
       "      <td>3</td>\n",
       "      <td>978302109</td>\n",
       "    </tr>\n",
       "    <tr>\n",
       "      <th>2</th>\n",
       "      <td>1</td>\n",
       "      <td>914</td>\n",
       "      <td>3</td>\n",
       "      <td>978301968</td>\n",
       "    </tr>\n",
       "    <tr>\n",
       "      <th>3</th>\n",
       "      <td>1</td>\n",
       "      <td>3408</td>\n",
       "      <td>4</td>\n",
       "      <td>978300275</td>\n",
       "    </tr>\n",
       "    <tr>\n",
       "      <th>4</th>\n",
       "      <td>1</td>\n",
       "      <td>2355</td>\n",
       "      <td>5</td>\n",
       "      <td>978824291</td>\n",
       "    </tr>\n",
       "  </tbody>\n",
       "</table>\n",
       "</div>"
      ],
      "text/plain": [
       "   user_id  movie_id  rating  timestamp\n",
       "0        1      1193       5  978300760\n",
       "1        1       661       3  978302109\n",
       "2        1       914       3  978301968\n",
       "3        1      3408       4  978300275\n",
       "4        1      2355       5  978824291"
      ]
     },
     "execution_count": 1,
     "metadata": {},
     "output_type": "execute_result"
    }
   ],
   "source": [
    "import os\n",
    "import pandas as pd\n",
    "import numpy as np\n",
    "\n",
    "# rating.dat 에 인덱싱까지 완료된 사용자-영화-평점데이터가 깔끔하게 정리\n",
    "rating_file_path=os.getenv('HOME') + '/aiffel/recommendata_iu/data/ml-1m/ratings.dat'\n",
    "ratings_cols = ['user_id', 'movie_id', 'rating', 'timestamp']\n",
    "ratings = pd.read_csv(rating_file_path, sep='::', names=ratings_cols, engine='python', encoding = \"ISO-8859-1\")\n",
    "orginal_data_size = len(ratings)\n",
    "ratings.head()"
   ]
  },
  {
   "cell_type": "code",
   "execution_count": 2,
   "id": "simplified-theology",
   "metadata": {},
   "outputs": [
    {
     "name": "stdout",
     "output_type": "stream",
     "text": [
      "orginal_data_size: 1000209, filtered_data_size: 836478\n",
      "Ratio of Remaining Data is 83.63%\n"
     ]
    }
   ],
   "source": [
    "# 3점 이상만 남깁니다.\n",
    "ratings = ratings[ratings['rating']>=3]\n",
    "filtered_data_size = len(ratings)\n",
    "\n",
    "print(f'orginal_data_size: {orginal_data_size}, filtered_data_size: {filtered_data_size}')\n",
    "print(f'Ratio of Remaining Data is {filtered_data_size / orginal_data_size:.2%}')"
   ]
  },
  {
   "cell_type": "code",
   "execution_count": 3,
   "id": "revised-evening",
   "metadata": {},
   "outputs": [],
   "source": [
    "# rating 컬럼의 이름을 count로 바꿉니다.\n",
    "ratings.rename(columns={'rating':'count'}, inplace=True)"
   ]
  },
  {
   "cell_type": "code",
   "execution_count": 4,
   "id": "express-ceremony",
   "metadata": {},
   "outputs": [
    {
     "data": {
      "text/plain": [
       "0          5\n",
       "1          3\n",
       "2          3\n",
       "3          4\n",
       "4          5\n",
       "          ..\n",
       "1000203    3\n",
       "1000205    5\n",
       "1000206    5\n",
       "1000207    4\n",
       "1000208    4\n",
       "Name: count, Length: 836478, dtype: int64"
      ]
     },
     "execution_count": 4,
     "metadata": {},
     "output_type": "execute_result"
    }
   ],
   "source": [
    "ratings['count']"
   ]
  },
  {
   "cell_type": "code",
   "execution_count": 5,
   "id": "signed-karma",
   "metadata": {},
   "outputs": [
    {
     "data": {
      "text/html": [
       "<div>\n",
       "<style scoped>\n",
       "    .dataframe tbody tr th:only-of-type {\n",
       "        vertical-align: middle;\n",
       "    }\n",
       "\n",
       "    .dataframe tbody tr th {\n",
       "        vertical-align: top;\n",
       "    }\n",
       "\n",
       "    .dataframe thead th {\n",
       "        text-align: right;\n",
       "    }\n",
       "</style>\n",
       "<table border=\"1\" class=\"dataframe\">\n",
       "  <thead>\n",
       "    <tr style=\"text-align: right;\">\n",
       "      <th></th>\n",
       "      <th>movie_id</th>\n",
       "      <th>title</th>\n",
       "      <th>genre</th>\n",
       "    </tr>\n",
       "  </thead>\n",
       "  <tbody>\n",
       "    <tr>\n",
       "      <th>0</th>\n",
       "      <td>1</td>\n",
       "      <td>Toy Story (1995)</td>\n",
       "      <td>Animation|Children's|Comedy</td>\n",
       "    </tr>\n",
       "    <tr>\n",
       "      <th>1</th>\n",
       "      <td>2</td>\n",
       "      <td>Jumanji (1995)</td>\n",
       "      <td>Adventure|Children's|Fantasy</td>\n",
       "    </tr>\n",
       "    <tr>\n",
       "      <th>2</th>\n",
       "      <td>3</td>\n",
       "      <td>Grumpier Old Men (1995)</td>\n",
       "      <td>Comedy|Romance</td>\n",
       "    </tr>\n",
       "    <tr>\n",
       "      <th>3</th>\n",
       "      <td>4</td>\n",
       "      <td>Waiting to Exhale (1995)</td>\n",
       "      <td>Comedy|Drama</td>\n",
       "    </tr>\n",
       "    <tr>\n",
       "      <th>4</th>\n",
       "      <td>5</td>\n",
       "      <td>Father of the Bride Part II (1995)</td>\n",
       "      <td>Comedy</td>\n",
       "    </tr>\n",
       "    <tr>\n",
       "      <th>...</th>\n",
       "      <td>...</td>\n",
       "      <td>...</td>\n",
       "      <td>...</td>\n",
       "    </tr>\n",
       "    <tr>\n",
       "      <th>3878</th>\n",
       "      <td>3948</td>\n",
       "      <td>Meet the Parents (2000)</td>\n",
       "      <td>Comedy</td>\n",
       "    </tr>\n",
       "    <tr>\n",
       "      <th>3879</th>\n",
       "      <td>3949</td>\n",
       "      <td>Requiem for a Dream (2000)</td>\n",
       "      <td>Drama</td>\n",
       "    </tr>\n",
       "    <tr>\n",
       "      <th>3880</th>\n",
       "      <td>3950</td>\n",
       "      <td>Tigerland (2000)</td>\n",
       "      <td>Drama</td>\n",
       "    </tr>\n",
       "    <tr>\n",
       "      <th>3881</th>\n",
       "      <td>3951</td>\n",
       "      <td>Two Family House (2000)</td>\n",
       "      <td>Drama</td>\n",
       "    </tr>\n",
       "    <tr>\n",
       "      <th>3882</th>\n",
       "      <td>3952</td>\n",
       "      <td>Contender, The (2000)</td>\n",
       "      <td>Drama|Thriller</td>\n",
       "    </tr>\n",
       "  </tbody>\n",
       "</table>\n",
       "<p>3883 rows × 3 columns</p>\n",
       "</div>"
      ],
      "text/plain": [
       "      movie_id                               title  \\\n",
       "0            1                    Toy Story (1995)   \n",
       "1            2                      Jumanji (1995)   \n",
       "2            3             Grumpier Old Men (1995)   \n",
       "3            4            Waiting to Exhale (1995)   \n",
       "4            5  Father of the Bride Part II (1995)   \n",
       "...        ...                                 ...   \n",
       "3878      3948             Meet the Parents (2000)   \n",
       "3879      3949          Requiem for a Dream (2000)   \n",
       "3880      3950                    Tigerland (2000)   \n",
       "3881      3951             Two Family House (2000)   \n",
       "3882      3952               Contender, The (2000)   \n",
       "\n",
       "                             genre  \n",
       "0      Animation|Children's|Comedy  \n",
       "1     Adventure|Children's|Fantasy  \n",
       "2                   Comedy|Romance  \n",
       "3                     Comedy|Drama  \n",
       "4                           Comedy  \n",
       "...                            ...  \n",
       "3878                        Comedy  \n",
       "3879                         Drama  \n",
       "3880                         Drama  \n",
       "3881                         Drama  \n",
       "3882                Drama|Thriller  \n",
       "\n",
       "[3883 rows x 3 columns]"
      ]
     },
     "execution_count": 5,
     "metadata": {},
     "output_type": "execute_result"
    }
   ],
   "source": [
    "# 영화 제목을 보기 위해 메타 데이터를 읽어옵니다.\n",
    "movie_file_path=os.getenv('HOME') + '/aiffel/recommendata_iu/data/ml-1m/movies.dat'\n",
    "cols = ['movie_id', 'title', 'genre'] \n",
    "movies = pd.read_csv(movie_file_path, sep='::', names=cols, engine='python', encoding='ISO-8859-1')\n",
    "movies"
   ]
  },
  {
   "cell_type": "markdown",
   "id": "tough-thickness",
   "metadata": {},
   "source": [
    "### 2) 분석하기\n",
    "- rating에 있는 유니크한 사용자 수\n",
    "- ratings에 있는 유니크한 영화 개수\n",
    "- 가장 인기 있는 영화 30개(인기순)"
   ]
  },
  {
   "cell_type": "code",
   "execution_count": 6,
   "id": "rocky-bibliography",
   "metadata": {},
   "outputs": [
    {
     "name": "stdout",
     "output_type": "stream",
     "text": [
      "유니크한 사용자는 6039 명 이다.\n"
     ]
    }
   ],
   "source": [
    "# 사용자 수\n",
    "ratings['user_id'].nunique()\n",
    "print ('유니크한 사용자는 {} 명 이다.'.format(ratings['user_id'].nunique()))"
   ]
  },
  {
   "cell_type": "code",
   "execution_count": 7,
   "id": "wrong-corner",
   "metadata": {},
   "outputs": [
    {
     "name": "stdout",
     "output_type": "stream",
     "text": [
      "유니크한 영화는 3628 개 이다.\n"
     ]
    }
   ],
   "source": [
    "# 영화 개수\n",
    "ratings['movie_id'].nunique()\n",
    "print ('유니크한 영화는 {} 개 이다.'.format(ratings['movie_id'].nunique()))"
   ]
  },
  {
   "cell_type": "code",
   "execution_count": 8,
   "id": "drawn-singer",
   "metadata": {},
   "outputs": [
    {
     "data": {
      "text/html": [
       "<div>\n",
       "<style scoped>\n",
       "    .dataframe tbody tr th:only-of-type {\n",
       "        vertical-align: middle;\n",
       "    }\n",
       "\n",
       "    .dataframe tbody tr th {\n",
       "        vertical-align: top;\n",
       "    }\n",
       "\n",
       "    .dataframe thead th {\n",
       "        text-align: right;\n",
       "    }\n",
       "</style>\n",
       "<table border=\"1\" class=\"dataframe\">\n",
       "  <thead>\n",
       "    <tr style=\"text-align: right;\">\n",
       "      <th></th>\n",
       "      <th>user_id</th>\n",
       "      <th>movie_id</th>\n",
       "      <th>count</th>\n",
       "      <th>timestamp</th>\n",
       "      <th>title</th>\n",
       "      <th>genre</th>\n",
       "    </tr>\n",
       "  </thead>\n",
       "  <tbody>\n",
       "    <tr>\n",
       "      <th>0</th>\n",
       "      <td>1</td>\n",
       "      <td>1193</td>\n",
       "      <td>5</td>\n",
       "      <td>978300760</td>\n",
       "      <td>One Flew Over the Cuckoo's Nest (1975)</td>\n",
       "      <td>Drama</td>\n",
       "    </tr>\n",
       "    <tr>\n",
       "      <th>1</th>\n",
       "      <td>2339</td>\n",
       "      <td>1952</td>\n",
       "      <td>5</td>\n",
       "      <td>974420466</td>\n",
       "      <td>Midnight Cowboy (1969)</td>\n",
       "      <td>Drama</td>\n",
       "    </tr>\n",
       "    <tr>\n",
       "      <th>2</th>\n",
       "      <td>4671</td>\n",
       "      <td>1210</td>\n",
       "      <td>5</td>\n",
       "      <td>963794984</td>\n",
       "      <td>Star Wars: Episode VI - Return of the Jedi (1983)</td>\n",
       "      <td>Action|Adventure|Romance|Sci-Fi|War</td>\n",
       "    </tr>\n",
       "    <tr>\n",
       "      <th>3</th>\n",
       "      <td>2340</td>\n",
       "      <td>715</td>\n",
       "      <td>5</td>\n",
       "      <td>974421414</td>\n",
       "      <td>Horseman on the Roof, The (Hussard sur le toit...</td>\n",
       "      <td>Drama</td>\n",
       "    </tr>\n",
       "    <tr>\n",
       "      <th>4</th>\n",
       "      <td>2340</td>\n",
       "      <td>2987</td>\n",
       "      <td>5</td>\n",
       "      <td>974422967</td>\n",
       "      <td>Who Framed Roger Rabbit? (1988)</td>\n",
       "      <td>Adventure|Animation|Film-Noir</td>\n",
       "    </tr>\n",
       "    <tr>\n",
       "      <th>5</th>\n",
       "      <td>4671</td>\n",
       "      <td>380</td>\n",
       "      <td>5</td>\n",
       "      <td>963795314</td>\n",
       "      <td>True Lies (1994)</td>\n",
       "      <td>Action|Adventure|Comedy|Romance</td>\n",
       "    </tr>\n",
       "    <tr>\n",
       "      <th>6</th>\n",
       "      <td>1293</td>\n",
       "      <td>524</td>\n",
       "      <td>5</td>\n",
       "      <td>974788401</td>\n",
       "      <td>Rudy (1993)</td>\n",
       "      <td>Drama</td>\n",
       "    </tr>\n",
       "    <tr>\n",
       "      <th>7</th>\n",
       "      <td>1293</td>\n",
       "      <td>527</td>\n",
       "      <td>5</td>\n",
       "      <td>974788915</td>\n",
       "      <td>Schindler's List (1993)</td>\n",
       "      <td>Drama|War</td>\n",
       "    </tr>\n",
       "    <tr>\n",
       "      <th>8</th>\n",
       "      <td>2339</td>\n",
       "      <td>3929</td>\n",
       "      <td>5</td>\n",
       "      <td>974421058</td>\n",
       "      <td>Bank Dick, The (1940)</td>\n",
       "      <td>Comedy</td>\n",
       "    </tr>\n",
       "    <tr>\n",
       "      <th>9</th>\n",
       "      <td>2339</td>\n",
       "      <td>3922</td>\n",
       "      <td>5</td>\n",
       "      <td>974421095</td>\n",
       "      <td>Bikini Beach (1964)</td>\n",
       "      <td>Comedy</td>\n",
       "    </tr>\n",
       "    <tr>\n",
       "      <th>10</th>\n",
       "      <td>2339</td>\n",
       "      <td>3921</td>\n",
       "      <td>5</td>\n",
       "      <td>974421095</td>\n",
       "      <td>Beach Party (1963)</td>\n",
       "      <td>Comedy</td>\n",
       "    </tr>\n",
       "    <tr>\n",
       "      <th>11</th>\n",
       "      <td>1293</td>\n",
       "      <td>1079</td>\n",
       "      <td>5</td>\n",
       "      <td>974788653</td>\n",
       "      <td>Fish Called Wanda, A (1988)</td>\n",
       "      <td>Comedy</td>\n",
       "    </tr>\n",
       "    <tr>\n",
       "      <th>12</th>\n",
       "      <td>1293</td>\n",
       "      <td>3911</td>\n",
       "      <td>5</td>\n",
       "      <td>974788653</td>\n",
       "      <td>Best in Show (2000)</td>\n",
       "      <td>Comedy</td>\n",
       "    </tr>\n",
       "    <tr>\n",
       "      <th>13</th>\n",
       "      <td>1294</td>\n",
       "      <td>3936</td>\n",
       "      <td>5</td>\n",
       "      <td>974873546</td>\n",
       "      <td>Phantom of the Opera, The (1943)</td>\n",
       "      <td>Drama|Thriller</td>\n",
       "    </tr>\n",
       "    <tr>\n",
       "      <th>14</th>\n",
       "      <td>1294</td>\n",
       "      <td>1256</td>\n",
       "      <td>5</td>\n",
       "      <td>974874038</td>\n",
       "      <td>Duck Soup (1933)</td>\n",
       "      <td>Comedy|War</td>\n",
       "    </tr>\n",
       "    <tr>\n",
       "      <th>15</th>\n",
       "      <td>1294</td>\n",
       "      <td>2997</td>\n",
       "      <td>5</td>\n",
       "      <td>974874156</td>\n",
       "      <td>Being John Malkovich (1999)</td>\n",
       "      <td>Comedy</td>\n",
       "    </tr>\n",
       "    <tr>\n",
       "      <th>16</th>\n",
       "      <td>2339</td>\n",
       "      <td>1088</td>\n",
       "      <td>5</td>\n",
       "      <td>974422164</td>\n",
       "      <td>Dirty Dancing (1987)</td>\n",
       "      <td>Musical|Romance</td>\n",
       "    </tr>\n",
       "    <tr>\n",
       "      <th>17</th>\n",
       "      <td>2339</td>\n",
       "      <td>1221</td>\n",
       "      <td>5</td>\n",
       "      <td>974420390</td>\n",
       "      <td>Godfather: Part II, The (1974)</td>\n",
       "      <td>Action|Crime|Drama</td>\n",
       "    </tr>\n",
       "    <tr>\n",
       "      <th>18</th>\n",
       "      <td>2339</td>\n",
       "      <td>539</td>\n",
       "      <td>5</td>\n",
       "      <td>974421996</td>\n",
       "      <td>Sleepless in Seattle (1993)</td>\n",
       "      <td>Comedy|Romance</td>\n",
       "    </tr>\n",
       "    <tr>\n",
       "      <th>19</th>\n",
       "      <td>1294</td>\n",
       "      <td>1</td>\n",
       "      <td>5</td>\n",
       "      <td>974874249</td>\n",
       "      <td>Toy Story (1995)</td>\n",
       "      <td>Animation|Children's|Comedy</td>\n",
       "    </tr>\n",
       "    <tr>\n",
       "      <th>20</th>\n",
       "      <td>4671</td>\n",
       "      <td>1918</td>\n",
       "      <td>5</td>\n",
       "      <td>963795903</td>\n",
       "      <td>Lethal Weapon 4 (1998)</td>\n",
       "      <td>Action|Comedy|Crime|Drama</td>\n",
       "    </tr>\n",
       "    <tr>\n",
       "      <th>21</th>\n",
       "      <td>1294</td>\n",
       "      <td>2208</td>\n",
       "      <td>5</td>\n",
       "      <td>974874181</td>\n",
       "      <td>Lady Vanishes, The (1938)</td>\n",
       "      <td>Comedy|Mystery|Romance|Thriller</td>\n",
       "    </tr>\n",
       "    <tr>\n",
       "      <th>22</th>\n",
       "      <td>1294</td>\n",
       "      <td>2065</td>\n",
       "      <td>5</td>\n",
       "      <td>974874625</td>\n",
       "      <td>Purple Rose of Cairo, The (1985)</td>\n",
       "      <td>Comedy|Drama|Romance</td>\n",
       "    </tr>\n",
       "    <tr>\n",
       "      <th>23</th>\n",
       "      <td>4671</td>\n",
       "      <td>2571</td>\n",
       "      <td>5</td>\n",
       "      <td>963794692</td>\n",
       "      <td>Matrix, The (1999)</td>\n",
       "      <td>Action|Sci-Fi|Thriller</td>\n",
       "    </tr>\n",
       "    <tr>\n",
       "      <th>24</th>\n",
       "      <td>1294</td>\n",
       "      <td>1265</td>\n",
       "      <td>5</td>\n",
       "      <td>974874156</td>\n",
       "      <td>Groundhog Day (1993)</td>\n",
       "      <td>Comedy|Romance</td>\n",
       "    </tr>\n",
       "    <tr>\n",
       "      <th>25</th>\n",
       "      <td>2339</td>\n",
       "      <td>527</td>\n",
       "      <td>5</td>\n",
       "      <td>974420366</td>\n",
       "      <td>Schindler's List (1993)</td>\n",
       "      <td>Drama|War</td>\n",
       "    </tr>\n",
       "    <tr>\n",
       "      <th>26</th>\n",
       "      <td>1294</td>\n",
       "      <td>1273</td>\n",
       "      <td>5</td>\n",
       "      <td>974874582</td>\n",
       "      <td>Down by Law (1986)</td>\n",
       "      <td>Comedy|Drama</td>\n",
       "    </tr>\n",
       "    <tr>\n",
       "      <th>27</th>\n",
       "      <td>2339</td>\n",
       "      <td>3595</td>\n",
       "      <td>5</td>\n",
       "      <td>974420824</td>\n",
       "      <td>Held Up (2000)</td>\n",
       "      <td>Comedy</td>\n",
       "    </tr>\n",
       "    <tr>\n",
       "      <th>28</th>\n",
       "      <td>2339</td>\n",
       "      <td>356</td>\n",
       "      <td>5</td>\n",
       "      <td>974421996</td>\n",
       "      <td>Forrest Gump (1994)</td>\n",
       "      <td>Comedy|Romance|War</td>\n",
       "    </tr>\n",
       "    <tr>\n",
       "      <th>29</th>\n",
       "      <td>2340</td>\n",
       "      <td>2989</td>\n",
       "      <td>5</td>\n",
       "      <td>974506349</td>\n",
       "      <td>For Your Eyes Only (1981)</td>\n",
       "      <td>Action</td>\n",
       "    </tr>\n",
       "  </tbody>\n",
       "</table>\n",
       "</div>"
      ],
      "text/plain": [
       "    user_id  movie_id  count  timestamp  \\\n",
       "0         1      1193      5  978300760   \n",
       "1      2339      1952      5  974420466   \n",
       "2      4671      1210      5  963794984   \n",
       "3      2340       715      5  974421414   \n",
       "4      2340      2987      5  974422967   \n",
       "5      4671       380      5  963795314   \n",
       "6      1293       524      5  974788401   \n",
       "7      1293       527      5  974788915   \n",
       "8      2339      3929      5  974421058   \n",
       "9      2339      3922      5  974421095   \n",
       "10     2339      3921      5  974421095   \n",
       "11     1293      1079      5  974788653   \n",
       "12     1293      3911      5  974788653   \n",
       "13     1294      3936      5  974873546   \n",
       "14     1294      1256      5  974874038   \n",
       "15     1294      2997      5  974874156   \n",
       "16     2339      1088      5  974422164   \n",
       "17     2339      1221      5  974420390   \n",
       "18     2339       539      5  974421996   \n",
       "19     1294         1      5  974874249   \n",
       "20     4671      1918      5  963795903   \n",
       "21     1294      2208      5  974874181   \n",
       "22     1294      2065      5  974874625   \n",
       "23     4671      2571      5  963794692   \n",
       "24     1294      1265      5  974874156   \n",
       "25     2339       527      5  974420366   \n",
       "26     1294      1273      5  974874582   \n",
       "27     2339      3595      5  974420824   \n",
       "28     2339       356      5  974421996   \n",
       "29     2340      2989      5  974506349   \n",
       "\n",
       "                                                title  \\\n",
       "0              One Flew Over the Cuckoo's Nest (1975)   \n",
       "1                              Midnight Cowboy (1969)   \n",
       "2   Star Wars: Episode VI - Return of the Jedi (1983)   \n",
       "3   Horseman on the Roof, The (Hussard sur le toit...   \n",
       "4                     Who Framed Roger Rabbit? (1988)   \n",
       "5                                    True Lies (1994)   \n",
       "6                                         Rudy (1993)   \n",
       "7                             Schindler's List (1993)   \n",
       "8                               Bank Dick, The (1940)   \n",
       "9                                 Bikini Beach (1964)   \n",
       "10                                 Beach Party (1963)   \n",
       "11                        Fish Called Wanda, A (1988)   \n",
       "12                                Best in Show (2000)   \n",
       "13                   Phantom of the Opera, The (1943)   \n",
       "14                                   Duck Soup (1933)   \n",
       "15                        Being John Malkovich (1999)   \n",
       "16                               Dirty Dancing (1987)   \n",
       "17                     Godfather: Part II, The (1974)   \n",
       "18                        Sleepless in Seattle (1993)   \n",
       "19                                   Toy Story (1995)   \n",
       "20                             Lethal Weapon 4 (1998)   \n",
       "21                          Lady Vanishes, The (1938)   \n",
       "22                   Purple Rose of Cairo, The (1985)   \n",
       "23                                 Matrix, The (1999)   \n",
       "24                               Groundhog Day (1993)   \n",
       "25                            Schindler's List (1993)   \n",
       "26                                 Down by Law (1986)   \n",
       "27                                     Held Up (2000)   \n",
       "28                                Forrest Gump (1994)   \n",
       "29                          For Your Eyes Only (1981)   \n",
       "\n",
       "                                  genre  \n",
       "0                                 Drama  \n",
       "1                                 Drama  \n",
       "2   Action|Adventure|Romance|Sci-Fi|War  \n",
       "3                                 Drama  \n",
       "4         Adventure|Animation|Film-Noir  \n",
       "5       Action|Adventure|Comedy|Romance  \n",
       "6                                 Drama  \n",
       "7                             Drama|War  \n",
       "8                                Comedy  \n",
       "9                                Comedy  \n",
       "10                               Comedy  \n",
       "11                               Comedy  \n",
       "12                               Comedy  \n",
       "13                       Drama|Thriller  \n",
       "14                           Comedy|War  \n",
       "15                               Comedy  \n",
       "16                      Musical|Romance  \n",
       "17                   Action|Crime|Drama  \n",
       "18                       Comedy|Romance  \n",
       "19          Animation|Children's|Comedy  \n",
       "20            Action|Comedy|Crime|Drama  \n",
       "21      Comedy|Mystery|Romance|Thriller  \n",
       "22                 Comedy|Drama|Romance  \n",
       "23               Action|Sci-Fi|Thriller  \n",
       "24                       Comedy|Romance  \n",
       "25                            Drama|War  \n",
       "26                         Comedy|Drama  \n",
       "27                               Comedy  \n",
       "28                   Comedy|Romance|War  \n",
       "29                               Action  "
      ]
     },
     "execution_count": 8,
     "metadata": {},
     "output_type": "execute_result"
    }
   ],
   "source": [
    "## rating과 movies를 합친다.\n",
    "movie_count = pd.merge(ratings, movies, how=\"left\", on=\"movie_id\")\n",
    "\n",
    "## rating을 count를 기준으로 내림차순해준다.\n",
    "movie_count.sort_values(by=\"count\", ascending=False, inplace=True)\n",
    "movie_count.reset_index(inplace=True, drop=True)\n",
    "\n",
    "## 평가 높은 상위 30개 영화 리스트\n",
    "movie_count.head(30)"
   ]
  },
  {
   "cell_type": "markdown",
   "id": "protecting-cheat",
   "metadata": {},
   "source": [
    "[실패]\n",
    "- movie_count = rationgs.groupby('title')['user_id'].count()  #첫 시도.\n",
    "- movie_count = count.groupby('title')['movie_id'].count() #rationgs 컬럼 count 변경확인후 재시도.\n",
    "- movie_count = rationgs.groupby('ratings')['movie_id'].count() #title 대신 ratings으로 재시도.\n",
    "- movie_count = count.groupby('title')['ratings'].count() #평점 기준 확인 재시도.\n",
    "\n",
    "\n",
    "   *kalina007님 깃허브 참고 하여 재진행..추후 노드 스터디 복습예정"
   ]
  },
  {
   "cell_type": "code",
   "execution_count": 9,
   "id": "upper-surname",
   "metadata": {},
   "outputs": [
    {
     "data": {
      "text/html": [
       "<div>\n",
       "<style scoped>\n",
       "    .dataframe tbody tr th:only-of-type {\n",
       "        vertical-align: middle;\n",
       "    }\n",
       "\n",
       "    .dataframe tbody tr th {\n",
       "        vertical-align: top;\n",
       "    }\n",
       "\n",
       "    .dataframe thead th {\n",
       "        text-align: right;\n",
       "    }\n",
       "</style>\n",
       "<table border=\"1\" class=\"dataframe\">\n",
       "  <thead>\n",
       "    <tr style=\"text-align: right;\">\n",
       "      <th></th>\n",
       "      <th>user_id</th>\n",
       "      <th>title</th>\n",
       "      <th>count</th>\n",
       "    </tr>\n",
       "  </thead>\n",
       "  <tbody>\n",
       "    <tr>\n",
       "      <th>0</th>\n",
       "      <td>1</td>\n",
       "      <td>One Flew Over the Cuckoo's Nest (1975)</td>\n",
       "      <td>5</td>\n",
       "    </tr>\n",
       "    <tr>\n",
       "      <th>1</th>\n",
       "      <td>2339</td>\n",
       "      <td>Midnight Cowboy (1969)</td>\n",
       "      <td>5</td>\n",
       "    </tr>\n",
       "    <tr>\n",
       "      <th>2</th>\n",
       "      <td>4671</td>\n",
       "      <td>Star Wars: Episode VI - Return of the Jedi (1983)</td>\n",
       "      <td>5</td>\n",
       "    </tr>\n",
       "    <tr>\n",
       "      <th>3</th>\n",
       "      <td>2340</td>\n",
       "      <td>Horseman on the Roof, The (Hussard sur le toit...</td>\n",
       "      <td>5</td>\n",
       "    </tr>\n",
       "    <tr>\n",
       "      <th>4</th>\n",
       "      <td>2340</td>\n",
       "      <td>Who Framed Roger Rabbit? (1988)</td>\n",
       "      <td>5</td>\n",
       "    </tr>\n",
       "    <tr>\n",
       "      <th>5</th>\n",
       "      <td>4671</td>\n",
       "      <td>True Lies (1994)</td>\n",
       "      <td>5</td>\n",
       "    </tr>\n",
       "    <tr>\n",
       "      <th>6</th>\n",
       "      <td>1293</td>\n",
       "      <td>Rudy (1993)</td>\n",
       "      <td>5</td>\n",
       "    </tr>\n",
       "    <tr>\n",
       "      <th>7</th>\n",
       "      <td>1293</td>\n",
       "      <td>Schindler's List (1993)</td>\n",
       "      <td>5</td>\n",
       "    </tr>\n",
       "    <tr>\n",
       "      <th>8</th>\n",
       "      <td>2339</td>\n",
       "      <td>Bank Dick, The (1940)</td>\n",
       "      <td>5</td>\n",
       "    </tr>\n",
       "    <tr>\n",
       "      <th>9</th>\n",
       "      <td>2339</td>\n",
       "      <td>Bikini Beach (1964)</td>\n",
       "      <td>5</td>\n",
       "    </tr>\n",
       "  </tbody>\n",
       "</table>\n",
       "</div>"
      ],
      "text/plain": [
       "   user_id                                              title  count\n",
       "0        1             One Flew Over the Cuckoo's Nest (1975)      5\n",
       "1     2339                             Midnight Cowboy (1969)      5\n",
       "2     4671  Star Wars: Episode VI - Return of the Jedi (1983)      5\n",
       "3     2340  Horseman on the Roof, The (Hussard sur le toit...      5\n",
       "4     2340                    Who Framed Roger Rabbit? (1988)      5\n",
       "5     4671                                   True Lies (1994)      5\n",
       "6     1293                                        Rudy (1993)      5\n",
       "7     1293                            Schindler's List (1993)      5\n",
       "8     2339                              Bank Dick, The (1940)      5\n",
       "9     2339                                Bikini Beach (1964)      5"
      ]
     },
     "execution_count": 9,
     "metadata": {},
     "output_type": "execute_result"
    }
   ],
   "source": [
    "## 사용할 컬럼 노출\n",
    "using_cols = ['user_id', 'title', 'count']\n",
    "data = movie_count[using_cols]\n",
    "data.head(10)"
   ]
  },
  {
   "cell_type": "code",
   "execution_count": 10,
   "id": "built-fields",
   "metadata": {},
   "outputs": [
    {
     "name": "stderr",
     "output_type": "stream",
     "text": [
      "/opt/conda/lib/python3.7/site-packages/ipykernel_launcher.py:3: SettingWithCopyWarning: \n",
      "A value is trying to be set on a copy of a slice from a DataFrame.\n",
      "Try using .loc[row_indexer,col_indexer] = value instead\n",
      "\n",
      "See the caveats in the documentation: https://pandas.pydata.org/pandas-docs/stable/user_guide/indexing.html#returning-a-view-versus-a-copy\n",
      "  This is separate from the ipykernel package so we can avoid doing imports until\n"
     ]
    },
    {
     "data": {
      "text/html": [
       "<div>\n",
       "<style scoped>\n",
       "    .dataframe tbody tr th:only-of-type {\n",
       "        vertical-align: middle;\n",
       "    }\n",
       "\n",
       "    .dataframe tbody tr th {\n",
       "        vertical-align: top;\n",
       "    }\n",
       "\n",
       "    .dataframe thead th {\n",
       "        text-align: right;\n",
       "    }\n",
       "</style>\n",
       "<table border=\"1\" class=\"dataframe\">\n",
       "  <thead>\n",
       "    <tr style=\"text-align: right;\">\n",
       "      <th></th>\n",
       "      <th>user_id</th>\n",
       "      <th>title</th>\n",
       "      <th>count</th>\n",
       "    </tr>\n",
       "  </thead>\n",
       "  <tbody>\n",
       "    <tr>\n",
       "      <th>0</th>\n",
       "      <td>1</td>\n",
       "      <td>one flew over the cuckoo's nest (1975)</td>\n",
       "      <td>5</td>\n",
       "    </tr>\n",
       "    <tr>\n",
       "      <th>1</th>\n",
       "      <td>2339</td>\n",
       "      <td>midnight cowboy (1969)</td>\n",
       "      <td>5</td>\n",
       "    </tr>\n",
       "    <tr>\n",
       "      <th>2</th>\n",
       "      <td>4671</td>\n",
       "      <td>star wars: episode vi - return of the jedi (1983)</td>\n",
       "      <td>5</td>\n",
       "    </tr>\n",
       "    <tr>\n",
       "      <th>3</th>\n",
       "      <td>2340</td>\n",
       "      <td>horseman on the roof, the (hussard sur le toit...</td>\n",
       "      <td>5</td>\n",
       "    </tr>\n",
       "    <tr>\n",
       "      <th>4</th>\n",
       "      <td>2340</td>\n",
       "      <td>who framed roger rabbit? (1988)</td>\n",
       "      <td>5</td>\n",
       "    </tr>\n",
       "    <tr>\n",
       "      <th>5</th>\n",
       "      <td>4671</td>\n",
       "      <td>true lies (1994)</td>\n",
       "      <td>5</td>\n",
       "    </tr>\n",
       "    <tr>\n",
       "      <th>6</th>\n",
       "      <td>1293</td>\n",
       "      <td>rudy (1993)</td>\n",
       "      <td>5</td>\n",
       "    </tr>\n",
       "    <tr>\n",
       "      <th>7</th>\n",
       "      <td>1293</td>\n",
       "      <td>schindler's list (1993)</td>\n",
       "      <td>5</td>\n",
       "    </tr>\n",
       "    <tr>\n",
       "      <th>8</th>\n",
       "      <td>2339</td>\n",
       "      <td>bank dick, the (1940)</td>\n",
       "      <td>5</td>\n",
       "    </tr>\n",
       "    <tr>\n",
       "      <th>9</th>\n",
       "      <td>2339</td>\n",
       "      <td>bikini beach (1964)</td>\n",
       "      <td>5</td>\n",
       "    </tr>\n",
       "  </tbody>\n",
       "</table>\n",
       "</div>"
      ],
      "text/plain": [
       "   user_id                                              title  count\n",
       "0        1             one flew over the cuckoo's nest (1975)      5\n",
       "1     2339                             midnight cowboy (1969)      5\n",
       "2     4671  star wars: episode vi - return of the jedi (1983)      5\n",
       "3     2340  horseman on the roof, the (hussard sur le toit...      5\n",
       "4     2340                    who framed roger rabbit? (1988)      5\n",
       "5     4671                                   true lies (1994)      5\n",
       "6     1293                                        rudy (1993)      5\n",
       "7     1293                            schindler's list (1993)      5\n",
       "8     2339                              bank dick, the (1940)      5\n",
       "9     2339                                bikini beach (1964)      5"
      ]
     },
     "execution_count": 10,
     "metadata": {},
     "output_type": "execute_result"
    }
   ],
   "source": [
    "# 쉬운 검색을 위해 문자열 소문자로 변경\n",
    "\n",
    "data['title'] = data['title'].str.lower() # 검색을 쉽게하기 위해 아티스트 문자열을 소문자로 바꿔줍시다.\n",
    "data.head(10)"
   ]
  },
  {
   "cell_type": "markdown",
   "id": "wired-physiology",
   "metadata": {},
   "source": [
    "### 3) 내가 선호하는 영화를 5가지 골라서 rating에 추가\n"
   ]
  },
  {
   "cell_type": "code",
   "execution_count": 11,
   "id": "continental-vatican",
   "metadata": {},
   "outputs": [
    {
     "data": {
      "text/plain": [
       "6040"
      ]
     },
     "execution_count": 11,
     "metadata": {},
     "output_type": "execute_result"
    }
   ],
   "source": [
    "## user_id 추가\n",
    "data[\"user_id\"].max()"
   ]
  },
  {
   "cell_type": "code",
   "execution_count": 12,
   "id": "inner-wagner",
   "metadata": {},
   "outputs": [
    {
     "data": {
      "text/html": [
       "<div>\n",
       "<style scoped>\n",
       "    .dataframe tbody tr th:only-of-type {\n",
       "        vertical-align: middle;\n",
       "    }\n",
       "\n",
       "    .dataframe tbody tr th {\n",
       "        vertical-align: top;\n",
       "    }\n",
       "\n",
       "    .dataframe thead th {\n",
       "        text-align: right;\n",
       "    }\n",
       "</style>\n",
       "<table border=\"1\" class=\"dataframe\">\n",
       "  <thead>\n",
       "    <tr style=\"text-align: right;\">\n",
       "      <th></th>\n",
       "      <th>user_id</th>\n",
       "      <th>title</th>\n",
       "      <th>count</th>\n",
       "    </tr>\n",
       "  </thead>\n",
       "  <tbody>\n",
       "    <tr>\n",
       "      <th>836473</th>\n",
       "      <td>4194</td>\n",
       "      <td>james and the giant peach (1996)</td>\n",
       "      <td>3</td>\n",
       "    </tr>\n",
       "    <tr>\n",
       "      <th>836474</th>\n",
       "      <td>1727</td>\n",
       "      <td>never been kissed (1999)</td>\n",
       "      <td>3</td>\n",
       "    </tr>\n",
       "    <tr>\n",
       "      <th>836475</th>\n",
       "      <td>1727</td>\n",
       "      <td>jury duty (1995)</td>\n",
       "      <td>3</td>\n",
       "    </tr>\n",
       "    <tr>\n",
       "      <th>836476</th>\n",
       "      <td>4194</td>\n",
       "      <td>opposite of sex, the (1998)</td>\n",
       "      <td>3</td>\n",
       "    </tr>\n",
       "    <tr>\n",
       "      <th>836477</th>\n",
       "      <td>3080</td>\n",
       "      <td>keeping the faith (2000)</td>\n",
       "      <td>3</td>\n",
       "    </tr>\n",
       "    <tr>\n",
       "      <th>0</th>\n",
       "      <td>sanghee</td>\n",
       "      <td>farinelli</td>\n",
       "      <td>4</td>\n",
       "    </tr>\n",
       "    <tr>\n",
       "      <th>1</th>\n",
       "      <td>sanghee</td>\n",
       "      <td>once</td>\n",
       "      <td>4</td>\n",
       "    </tr>\n",
       "    <tr>\n",
       "      <th>2</th>\n",
       "      <td>sanghee</td>\n",
       "      <td>shine</td>\n",
       "      <td>4</td>\n",
       "    </tr>\n",
       "    <tr>\n",
       "      <th>3</th>\n",
       "      <td>sanghee</td>\n",
       "      <td>the greatest showman</td>\n",
       "      <td>4</td>\n",
       "    </tr>\n",
       "    <tr>\n",
       "      <th>4</th>\n",
       "      <td>sanghee</td>\n",
       "      <td>the lord of the rings</td>\n",
       "      <td>4</td>\n",
       "    </tr>\n",
       "  </tbody>\n",
       "</table>\n",
       "</div>"
      ],
      "text/plain": [
       "        user_id                             title  count\n",
       "836473     4194  james and the giant peach (1996)      3\n",
       "836474     1727          never been kissed (1999)      3\n",
       "836475     1727                  jury duty (1995)      3\n",
       "836476     4194       opposite of sex, the (1998)      3\n",
       "836477     3080          keeping the faith (2000)      3\n",
       "0       sanghee                         farinelli      4\n",
       "1       sanghee                              once      4\n",
       "2       sanghee                             shine      4\n",
       "3       sanghee              the greatest showman      4\n",
       "4       sanghee             the lord of the rings      4"
      ]
     },
     "execution_count": 12,
     "metadata": {},
     "output_type": "execute_result"
    }
   ],
   "source": [
    "# 모델 검증을 위한 사용자 초기 정보 세팅\n",
    "\n",
    "my_favorite = ['farinelli' , 'once' ,'shine' ,'the greatest showman' ,'the lord of the rings'] #소문자 별도처리\n",
    "\n",
    "# user_id 'sanghee'지정후, 5개 영화의 평점을 4점 줬다고 가정\n",
    "my_playlist = pd.DataFrame({'user_id': ['sanghee']*5, 'title': my_favorite, 'count':[4]*5})\n",
    "\n",
    "if not data.isin({'user_id':['sanghee']})['user_id'].any():  # user_id에 'sanghee'이라는 데이터가 없다면\n",
    "    data = data.append(my_playlist)                           # 위에 임의로 만든 my_favorite 데이터를 추가해 줍니다. \n",
    "\n",
    "data.tail(10)       # 잘 추가되었는지 확인해 봅시다."
   ]
  },
  {
   "cell_type": "code",
   "execution_count": 13,
   "id": "hollywood-blind",
   "metadata": {},
   "outputs": [],
   "source": [
    "# 고유한 유저, 영화를 찾아내는 코드\n",
    "user_unique = data['user_id'].unique()\n",
    "title_unique = data['title'].unique()\n",
    "\n",
    "# 유저, 아티스트 indexing 하는 코드 idx는 index의 약자입니다.\n",
    "user_to_idx = {v:k for k,v in enumerate(user_unique)} #enumerate()  리스트가 있는 경우 순서와 리스트의 값을 전달하는 기능\n",
    "title_to_idx = {v:k for k,v in enumerate(title_unique)} "
   ]
  },
  {
   "cell_type": "code",
   "execution_count": 14,
   "id": "czech-diploma",
   "metadata": {},
   "outputs": [
    {
     "name": "stdout",
     "output_type": "stream",
     "text": [
      "6039\n",
      "3629\n"
     ]
    }
   ],
   "source": [
    "# 인덱싱이 잘 되었는지 확인해 봅니다. \n",
    "print(user_to_idx['sanghee'])  \n",
    "print(title_to_idx['once'])"
   ]
  },
  {
   "cell_type": "code",
   "execution_count": 15,
   "id": "listed-navigation",
   "metadata": {},
   "outputs": [
    {
     "name": "stdout",
     "output_type": "stream",
     "text": [
      "user_id column indexing OK!!\n",
      "title column indexing OK!!\n"
     ]
    },
    {
     "data": {
      "text/html": [
       "<div>\n",
       "<style scoped>\n",
       "    .dataframe tbody tr th:only-of-type {\n",
       "        vertical-align: middle;\n",
       "    }\n",
       "\n",
       "    .dataframe tbody tr th {\n",
       "        vertical-align: top;\n",
       "    }\n",
       "\n",
       "    .dataframe thead th {\n",
       "        text-align: right;\n",
       "    }\n",
       "</style>\n",
       "<table border=\"1\" class=\"dataframe\">\n",
       "  <thead>\n",
       "    <tr style=\"text-align: right;\">\n",
       "      <th></th>\n",
       "      <th>user_id</th>\n",
       "      <th>title</th>\n",
       "      <th>count</th>\n",
       "    </tr>\n",
       "  </thead>\n",
       "  <tbody>\n",
       "    <tr>\n",
       "      <th>0</th>\n",
       "      <td>0</td>\n",
       "      <td>0</td>\n",
       "      <td>5</td>\n",
       "    </tr>\n",
       "    <tr>\n",
       "      <th>1</th>\n",
       "      <td>1</td>\n",
       "      <td>1</td>\n",
       "      <td>5</td>\n",
       "    </tr>\n",
       "    <tr>\n",
       "      <th>2</th>\n",
       "      <td>2</td>\n",
       "      <td>2</td>\n",
       "      <td>5</td>\n",
       "    </tr>\n",
       "    <tr>\n",
       "      <th>3</th>\n",
       "      <td>3</td>\n",
       "      <td>3</td>\n",
       "      <td>5</td>\n",
       "    </tr>\n",
       "    <tr>\n",
       "      <th>4</th>\n",
       "      <td>3</td>\n",
       "      <td>4</td>\n",
       "      <td>5</td>\n",
       "    </tr>\n",
       "    <tr>\n",
       "      <th>...</th>\n",
       "      <td>...</td>\n",
       "      <td>...</td>\n",
       "      <td>...</td>\n",
       "    </tr>\n",
       "    <tr>\n",
       "      <th>0</th>\n",
       "      <td>6039</td>\n",
       "      <td>3628</td>\n",
       "      <td>4</td>\n",
       "    </tr>\n",
       "    <tr>\n",
       "      <th>1</th>\n",
       "      <td>6039</td>\n",
       "      <td>3629</td>\n",
       "      <td>4</td>\n",
       "    </tr>\n",
       "    <tr>\n",
       "      <th>2</th>\n",
       "      <td>6039</td>\n",
       "      <td>3630</td>\n",
       "      <td>4</td>\n",
       "    </tr>\n",
       "    <tr>\n",
       "      <th>3</th>\n",
       "      <td>6039</td>\n",
       "      <td>3631</td>\n",
       "      <td>4</td>\n",
       "    </tr>\n",
       "    <tr>\n",
       "      <th>4</th>\n",
       "      <td>6039</td>\n",
       "      <td>3632</td>\n",
       "      <td>4</td>\n",
       "    </tr>\n",
       "  </tbody>\n",
       "</table>\n",
       "<p>836483 rows × 3 columns</p>\n",
       "</div>"
      ],
      "text/plain": [
       "    user_id  title  count\n",
       "0         0      0      5\n",
       "1         1      1      5\n",
       "2         2      2      5\n",
       "3         3      3      5\n",
       "4         3      4      5\n",
       "..      ...    ...    ...\n",
       "0      6039   3628      4\n",
       "1      6039   3629      4\n",
       "2      6039   3630      4\n",
       "3      6039   3631      4\n",
       "4      6039   3632      4\n",
       "\n",
       "[836483 rows x 3 columns]"
      ]
     },
     "execution_count": 15,
     "metadata": {},
     "output_type": "execute_result"
    }
   ],
   "source": [
    "# indexing을 통해 데이터 컬럼 내 값을 바꾸는 코드\n",
    "# dictionary 자료형의 get 함수는 https://wikidocs.net/16 을 참고하세요.\n",
    "\n",
    "# user_to_idx.get을 통해 user_id 컬럼의 모든 값을 인덱싱한 Series를 구해 봅시다. \n",
    "# 혹시 정상적으로 인덱싱되지 않은 row가 있다면 인덱스가 NaN이 될 테니 dropna()로 제거합니다. \n",
    "\n",
    "temp_user_data = data['user_id'].map(user_to_idx.get).dropna()\n",
    "if len(temp_user_data) == len(data):   # 모든 row가 정상적으로 인덱싱되었다면\n",
    "    print('user_id column indexing OK!!')\n",
    "    data['user_id'] = temp_user_data   # data['user_id']을 인덱싱된 Series로 교체해 줍니다. \n",
    "else:\n",
    "    print('user_id column indexing Fail!!')\n",
    "\n",
    "# title_to_idx을 통해 title 컬럼도 동일한 방식으로 인덱싱해 줍니다. \n",
    "temp_title_data = data['title'].map(title_to_idx.get).dropna()\n",
    "if len(temp_title_data) == len(data):\n",
    "    print('title column indexing OK!!')\n",
    "    data['title'] = temp_title_data\n",
    "else:\n",
    "    print('title column indexing Fail!!')\n",
    "\n",
    "data"
   ]
  },
  {
   "cell_type": "markdown",
   "id": "perceived-density",
   "metadata": {},
   "source": [
    "[시도] \n",
    "- 모든 row가 정상적으로 인덱싱 -> data['user_id']을 인덱싱된 Series로 교체됨 > user_id & title 숫자 변경"
   ]
  },
  {
   "cell_type": "markdown",
   "id": "theoretical-homeless",
   "metadata": {},
   "source": [
    "### 4) CSR matrix를 직접 만들어 봅시다."
   ]
  },
  {
   "cell_type": "code",
   "execution_count": 16,
   "id": "inside-guinea",
   "metadata": {},
   "outputs": [
    {
     "name": "stdout",
     "output_type": "stream",
     "text": [
      "261197,836483\n",
      "Ratio of only_one over all data is 31.23%\n"
     ]
    }
   ],
   "source": [
    "# 사용자의 명시적/암묵적 평가\n",
    "# 3점만 평가한 데이터의 비율을 보는 코드, 임의 규칙을 정해본다.\n",
    "\n",
    "only_one = data[data['count']<4] #기준 count\n",
    "one, all_data = len(only_one), len(data)\n",
    "print(f'{one},{all_data}')\n",
    "print(f'Ratio of only_one over all data is {one/all_data:.2%}')  # f-format에 대한 설명은 https://bit.ly/2DTLqYU"
   ]
  },
  {
   "cell_type": "markdown",
   "id": "urban-brain",
   "metadata": {},
   "source": [
    "[시도]\n",
    "- only_one = data[data['count']<3]  : 0,836483 ,Ratio of only_one over all data is 0.00%\n",
    "- only_one = data[data['count']<4]  : 261197,836483, Ratio of only_one over all data is 31.23%\n",
    "- only_one = data[data['count']<5]  : 610168,836483, Ratio of only_one over all data is 72.94%\n",
    "- user_id의 '6041'의 평점을 5점에서 ->4점으로 조종하니 72.94% ->72.95%로 변경됨\n",
    "\n",
    "평점 ~2점 0%, 평점 3점이상 31.23% 평점 4점이상 72.94%로 확인된다. \"평점 테러가 적다!!..\""
   ]
  },
  {
   "cell_type": "code",
   "execution_count": 17,
   "id": "shaped-telling",
   "metadata": {},
   "outputs": [
    {
     "data": {
      "text/plain": [
       "<6040x3633 sparse matrix of type '<class 'numpy.longlong'>'\n",
       "\twith 836483 stored elements in Compressed Sparse Row format>"
      ]
     },
     "execution_count": 17,
     "metadata": {},
     "output_type": "execute_result"
    }
   ],
   "source": [
    "from scipy.sparse import csr_matrix\n",
    "\n",
    "num_user = data['user_id'].nunique()\n",
    "num_movie = data['title'].nunique()\n",
    "\n",
    "## csr matrix로 만들기\n",
    "csr_data = csr_matrix((data[\"count\"], (data.user_id, data.title)), shape=(num_user, num_movie))\n",
    "csr_data"
   ]
  },
  {
   "cell_type": "markdown",
   "id": "destroyed-ordinary",
   "metadata": {},
   "source": [
    "### 5) als_model = AlternatingLeastSquares 모델을 직접 구성하여 훈련"
   ]
  },
  {
   "cell_type": "markdown",
   "id": "developing-enlargement",
   "metadata": {},
   "source": [
    "#### MF 모델 학습\n",
    "- implicit 패키지 (https://github.com/benfred/implicit) : 암묵적(implicit) dataset을 사용하는 다양한 모델을 빠르게 학습할 수 있는 패키지\n",
    "- 이 패키지에 구현된 als(AlternatingLeastSquares) 모델을 사용\n",
    "- Matrix Factorization에서 쪼개진 두 Feature Matrix를 한꺼번에 훈련하는 것은 잘 수렴하지 않기 때문에, 한쪽을 고정시키고 다른 쪽을 학습하는 방식을 번갈아 수행하는 AlternatingLeastSquares 방식이 효과적인 것으로 알려져 있습니다."
   ]
  },
  {
   "cell_type": "code",
   "execution_count": 18,
   "id": "cloudy-senator",
   "metadata": {},
   "outputs": [],
   "source": [
    "from implicit.als import AlternatingLeastSquares\n",
    "import os\n",
    "import numpy as np\n",
    "\n",
    "# implicit 라이브러리에서 권장하고 있는 부분입니다. 학습 내용과는 무관합니다.\n",
    "os.environ['OPENBLAS_NUM_THREADS']='1'\n",
    "os.environ['KMP_DUPLICATE_LIB_OK']='True'\n",
    "os.environ['MKL_NUM_THREADS']='1'"
   ]
  },
  {
   "cell_type": "code",
   "execution_count": 19,
   "id": "complex-potter",
   "metadata": {},
   "outputs": [],
   "source": [
    "# Implicit AlternatingLeastSquares 모델의 선언\n",
    "als_model = AlternatingLeastSquares(factors=100, regularization=0.01, use_gpu=False, iterations=15, dtype=np.float32)"
   ]
  },
  {
   "cell_type": "code",
   "execution_count": 20,
   "id": "nuclear-script",
   "metadata": {},
   "outputs": [
    {
     "data": {
      "text/plain": [
       "<3633x6040 sparse matrix of type '<class 'numpy.longlong'>'\n",
       "\twith 836483 stored elements in Compressed Sparse Column format>"
      ]
     },
     "execution_count": 20,
     "metadata": {},
     "output_type": "execute_result"
    }
   ],
   "source": [
    "# als 모델은 input으로 (item X user 꼴의 matrix를 받기 때문에 Transpose해줍니다.)\n",
    "csr_data_transpose = csr_data.T\n",
    "csr_data_transpose"
   ]
  },
  {
   "cell_type": "code",
   "execution_count": 21,
   "id": "narrow-cursor",
   "metadata": {},
   "outputs": [
    {
     "data": {
      "application/vnd.jupyter.widget-view+json": {
       "model_id": "7d850f16d06746f5bf4cdaac4906fdec",
       "version_major": 2,
       "version_minor": 0
      },
      "text/plain": [
       "  0%|          | 0/15 [00:00<?, ?it/s]"
      ]
     },
     "metadata": {},
     "output_type": "display_data"
    }
   ],
   "source": [
    "# 모델 훈련 마무리\n",
    "als_model.fit(csr_data_transpose)"
   ]
  },
  {
   "cell_type": "code",
   "execution_count": 22,
   "id": "beginning-prophet",
   "metadata": {},
   "outputs": [
    {
     "name": "stdout",
     "output_type": "stream",
     "text": [
      "슝=3\n"
     ]
    }
   ],
   "source": [
    "# 유저 sanghee 벡터와 영화 once의 벡터를 어떻게 만들고 있는지 확인\n",
    "sanghee, once = user_to_idx['sanghee'], title_to_idx['once']\n",
    "sanghee_vector, once_vector = als_model.user_factors[sanghee], als_model.item_factors[once]\n",
    "\n",
    "print('슝=3')"
   ]
  },
  {
   "cell_type": "code",
   "execution_count": 23,
   "id": "nutritional-furniture",
   "metadata": {},
   "outputs": [
    {
     "data": {
      "text/plain": [
       "array([-7.06410641e-03,  2.39276863e-03,  7.54039735e-03,  1.16030155e-02,\n",
       "       -1.46426642e-02, -8.85095261e-03,  3.67467850e-03, -7.93435052e-03,\n",
       "        4.98763518e-04, -1.30738912e-03,  8.06264766e-03, -6.42644567e-03,\n",
       "        1.78777352e-02,  1.49238051e-03, -1.17647126e-02,  2.33103596e-02,\n",
       "        3.44832893e-03, -8.15493800e-03,  8.35443381e-03, -7.67456647e-03,\n",
       "        2.06502117e-02, -8.58852174e-03, -5.51335746e-03, -3.71157657e-03,\n",
       "       -2.16575642e-03, -2.33851187e-03,  5.14490949e-03,  1.91094186e-02,\n",
       "       -2.26201732e-02,  7.96257984e-03,  3.56966443e-02,  7.19417119e-03,\n",
       "       -9.38927103e-03,  2.08385615e-03,  4.28535137e-03, -1.46299293e-02,\n",
       "       -1.25419796e-02,  8.85775007e-05,  6.96088281e-03, -1.62200499e-02,\n",
       "       -1.51904151e-02,  6.25127635e-04,  8.71774275e-03,  5.44861052e-03,\n",
       "       -6.25271723e-03,  1.55426962e-02,  6.72269054e-03, -1.34575367e-02,\n",
       "        1.25445435e-02,  3.96936899e-03,  1.60308518e-02, -9.75839049e-03,\n",
       "       -1.26318792e-02,  2.32048035e-02,  4.93496330e-03,  1.81920547e-02,\n",
       "       -1.45460069e-02, -1.16946287e-02, -3.96943139e-03, -1.51605355e-02,\n",
       "        6.64989464e-03, -1.01796696e-02, -1.59075148e-02, -2.34011523e-02,\n",
       "        1.89556591e-02,  1.44988578e-02,  2.22007558e-03,  1.08269379e-02,\n",
       "       -2.70185131e-03,  2.96171401e-02, -1.43892141e-02, -2.12598555e-02,\n",
       "        1.25453155e-02, -4.35028132e-03, -9.10963397e-03,  1.37585644e-02,\n",
       "        7.31877936e-03, -4.39520553e-03,  1.78679470e-02,  1.74772926e-02,\n",
       "        4.20801734e-05,  6.87446864e-03, -6.88575348e-03,  4.13672207e-03,\n",
       "       -7.99497496e-03, -2.18977127e-02, -9.04412754e-03, -1.82900093e-02,\n",
       "        9.72456485e-03, -2.09974963e-03,  3.77286524e-02,  1.33028929e-03,\n",
       "        2.11993139e-02,  1.39473528e-02, -2.59938408e-02, -1.20161436e-02,\n",
       "       -6.03469694e-03, -1.94030851e-02, -2.80399877e-03, -1.72610506e-02],\n",
       "      dtype=float32)"
      ]
     },
     "execution_count": 23,
     "metadata": {},
     "output_type": "execute_result"
    }
   ],
   "source": [
    "sanghee_vector"
   ]
  },
  {
   "cell_type": "code",
   "execution_count": 24,
   "id": "bottom-fraction",
   "metadata": {},
   "outputs": [
    {
     "data": {
      "text/plain": [
       "array([ 1.8423905e-04,  3.2236820e-04,  5.0456770e-04,  5.8117829e-04,\n",
       "        2.2424910e-04,  2.6428663e-05,  4.9216562e-04,  3.1721874e-04,\n",
       "        4.7927405e-04,  6.1077514e-04,  5.3691532e-04,  1.8343785e-04,\n",
       "        5.4780254e-04,  3.9630703e-04,  1.7462940e-04,  7.0942013e-04,\n",
       "        1.7530819e-04,  1.7584191e-04,  5.5418897e-04,  3.1218215e-04,\n",
       "        6.3261809e-04,  2.5305682e-04,  1.2142119e-04,  2.2861737e-04,\n",
       "        4.2710433e-04,  1.9107436e-04,  5.7737221e-04,  9.6334808e-04,\n",
       "       -5.8401842e-05,  5.8122212e-04,  9.4931707e-04,  5.4398779e-04,\n",
       "        1.2104994e-04,  4.2869689e-04,  4.1598911e-04, -9.6549365e-06,\n",
       "        4.3536264e-05,  4.4522795e-04,  6.2462303e-04,  1.8271708e-04,\n",
       "        1.7651306e-04,  1.1710084e-04,  6.2969996e-04,  4.7170409e-04,\n",
       "       -1.1210641e-04,  7.9803780e-04,  3.5358054e-04,  1.2959582e-04,\n",
       "        6.7419861e-04,  3.8993102e-04,  5.7350472e-04,  1.2517543e-04,\n",
       "        2.2437124e-04,  7.0752506e-04,  5.6393922e-04,  7.5495511e-04,\n",
       "       -2.6171188e-05, -1.8383132e-04,  3.7606165e-04, -6.0852104e-05,\n",
       "        5.3618621e-04,  5.6174282e-05,  8.0471604e-05, -9.4921757e-05,\n",
       "        6.4290391e-04,  4.2567946e-04,  5.3497759e-04,  3.5292443e-04,\n",
       "        2.6578060e-04,  1.1566968e-03,  1.4091087e-04,  4.1306314e-05,\n",
       "        4.0309143e-04,  3.8716951e-04,  1.9936085e-06,  5.9899688e-04,\n",
       "        5.0970382e-04,  3.8980754e-04,  7.6008006e-04,  6.2115578e-04,\n",
       "        3.8525948e-04,  3.9116619e-04,  2.3149958e-04,  4.2759214e-04,\n",
       "        1.7034414e-04, -1.8494267e-05,  2.9480492e-04,  1.1837338e-04,\n",
       "        7.4058108e-04,  4.9267960e-04,  1.0950357e-03,  8.6313218e-04,\n",
       "        7.3528831e-04,  7.1365526e-04, -3.1786421e-05,  8.8554807e-05,\n",
       "        2.5457452e-04,  4.8207414e-05,  5.6207116e-04,  2.2504431e-04],\n",
       "      dtype=float32)"
      ]
     },
     "execution_count": 24,
     "metadata": {},
     "output_type": "execute_result"
    }
   ],
   "source": [
    "once_vector"
   ]
  },
  {
   "cell_type": "code",
   "execution_count": 25,
   "id": "secret-timing",
   "metadata": {},
   "outputs": [
    {
     "data": {
      "text/plain": [
       "0.00033865037"
      ]
     },
     "execution_count": 25,
     "metadata": {},
     "output_type": "execute_result"
    }
   ],
   "source": [
    "# sanghee와 once를 내적하는 코드\n",
    "np.dot(sanghee_vector, once_vector)"
   ]
  },
  {
   "cell_type": "code",
   "execution_count": 26,
   "id": "friendly-charge",
   "metadata": {},
   "outputs": [
    {
     "data": {
      "text/plain": [
       "0.0002724787"
      ]
     },
     "execution_count": 26,
     "metadata": {},
     "output_type": "execute_result"
    }
   ],
   "source": [
    "# 모델이 나의 shine 영화에 대한 선호도를 어떻게 예측하는지 보자!\n",
    "shine = title_to_idx['shine']\n",
    "shine_vector = als_model.item_factors[shine]\n",
    "np.dot(sanghee_vector, shine_vector)"
   ]
  },
  {
   "cell_type": "code",
   "execution_count": 27,
   "id": "modular-thesaurus",
   "metadata": {},
   "outputs": [
    {
     "data": {
      "text/plain": [
       "0.00027939214"
      ]
     },
     "execution_count": 27,
     "metadata": {},
     "output_type": "execute_result"
    }
   ],
   "source": [
    "# 모델이 나의 farinelli 영화에 대한 선호도를 어떻게 예측하는지 보자!\n",
    "farinelli = title_to_idx['farinelli']\n",
    "farinelli_vector = als_model.item_factors[farinelli]\n",
    "np.dot(sanghee_vector, farinelli_vector)"
   ]
  },
  {
   "cell_type": "code",
   "execution_count": 28,
   "id": "freelance-potato",
   "metadata": {},
   "outputs": [
    {
     "data": {
      "text/plain": [
       "0.0002892859"
      ]
     },
     "execution_count": 28,
     "metadata": {},
     "output_type": "execute_result"
    }
   ],
   "source": [
    "# 모델이 나의 the greatest showman 영화에 대한 선호도를 어떻게 예측하는지 보자!\n",
    "the_greatest_showman = title_to_idx['the greatest showman']\n",
    "the_greatest_showman_vector = als_model.item_factors[the_greatest_showman]\n",
    "np.dot(sanghee_vector, the_greatest_showman_vector)"
   ]
  },
  {
   "cell_type": "markdown",
   "id": "humanitarian-canal",
   "metadata": {},
   "source": [
    "[시도] \n",
    "- the greatest showman 등 영화명이 긴 경우 \n",
    "- title_to_idx['the greatest showman'] 영화명 그대로 기입 한다.\n",
    "- als_model.item_factors[the_greatest_showman] 에 <mark>언더바를 붙여야</mark> 오류가 나지 않는다. "
   ]
  },
  {
   "cell_type": "markdown",
   "id": "german-emission",
   "metadata": {},
   "source": [
    "### 6) 내가 선호하는 5가지 영화 중 하나와 그 외의 영화 하나를 골라 훈련된 모델이 예측한 나의 선호도를 파악해 보세요"
   ]
  },
  {
   "cell_type": "markdown",
   "id": "atmospheric-beads",
   "metadata": {},
   "source": [
    "- AlternatingLeastSquares 클래스에 구현되어 있는 similar_items 메서드를 통하여 비슷한 영화 찾기"
   ]
  },
  {
   "cell_type": "code",
   "execution_count": 29,
   "id": "parental-integration",
   "metadata": {},
   "outputs": [
    {
     "data": {
      "text/plain": [
       "[(3629, 0.9999998),\n",
       " (3631, 0.9984901),\n",
       " (3632, 0.99838585),\n",
       " (3628, 0.99632126),\n",
       " (3630, 0.990641),\n",
       " (3621, 0.9784523),\n",
       " (3625, 0.97632176),\n",
       " (3620, 0.97317314),\n",
       " (3416, 0.9726322),\n",
       " (3407, 0.97164226),\n",
       " (3624, 0.97153133),\n",
       " (3417, 0.9708441),\n",
       " (3622, 0.9696872),\n",
       " (3404, 0.96944225),\n",
       " (3420, 0.96943235)]"
      ]
     },
     "execution_count": 29,
     "metadata": {},
     "output_type": "execute_result"
    }
   ],
   "source": [
    "favorite_title = 'once'\n",
    "title_id = title_to_idx[favorite_title]\n",
    "similar_title = als_model.similar_items(title_id, N=15)\n",
    "similar_title"
   ]
  },
  {
   "cell_type": "code",
   "execution_count": 30,
   "id": "younger-prerequisite",
   "metadata": {},
   "outputs": [
    {
     "data": {
      "text/plain": [
       "['once',\n",
       " 'the greatest showman',\n",
       " 'the lord of the rings',\n",
       " 'farinelli',\n",
       " 'shine',\n",
       " 'century (1993)',\n",
       " 'last of the high kings, the (a.k.a. summer fling) (1996)',\n",
       " 'war at home, the (1996)',\n",
       " \"another man's poison (1952)\",\n",
       " \"i don't want to talk about it (de eso no se habla) (1993)\",\n",
       " 'number seventeen (1932)',\n",
       " 'daens (1992)',\n",
       " \"brother's kiss, a (1997)\",\n",
       " 'male and female (1919)',\n",
       " 'neon bible, the (1995)']"
      ]
     },
     "execution_count": 30,
     "metadata": {},
     "output_type": "execute_result"
    }
   ],
   "source": [
    "# title_to_idx 를 뒤집어, index로부터 title_ 이름을 얻는 dict를 생성합니다. \n",
    "idx_to_title = {v:k for k,v in title_to_idx.items()}\n",
    "[idx_to_title[i[0]] for i in similar_title]"
   ]
  },
  {
   "cell_type": "code",
   "execution_count": 31,
   "id": "attended-shanghai",
   "metadata": {},
   "outputs": [
    {
     "name": "stdout",
     "output_type": "stream",
     "text": [
      "슝=3\n"
     ]
    }
   ],
   "source": [
    "def get_similar_title(title_name: str):\n",
    "    title_id = title_to_idx[title_name]\n",
    "    similar_title = als_model.similar_items(title_id)\n",
    "    similar_title = [idx_to_title[i[0]] for i in similar_title]\n",
    "    return similar_title\n",
    "\n",
    "print(\"슝=3\")"
   ]
  },
  {
   "cell_type": "code",
   "execution_count": 32,
   "id": "decimal-pressing",
   "metadata": {},
   "outputs": [
    {
     "data": {
      "text/plain": [
       "['once',\n",
       " 'the greatest showman',\n",
       " 'the lord of the rings',\n",
       " 'farinelli',\n",
       " 'shine',\n",
       " 'century (1993)',\n",
       " 'last of the high kings, the (a.k.a. summer fling) (1996)',\n",
       " 'war at home, the (1996)',\n",
       " \"another man's poison (1952)\",\n",
       " \"i don't want to talk about it (de eso no se habla) (1993)\"]"
      ]
     },
     "execution_count": 32,
     "metadata": {},
     "output_type": "execute_result"
    }
   ],
   "source": [
    "get_similar_title('once')"
   ]
  },
  {
   "cell_type": "code",
   "execution_count": 39,
   "id": "million-active",
   "metadata": {},
   "outputs": [
    {
     "data": {
      "text/plain": [
       "['jury duty (1995)',\n",
       " 'bio-dome (1996)',\n",
       " \"national lampoon's senior trip (1995)\",\n",
       " 'almost heroes (1998)',\n",
       " 'in the army now (1994)',\n",
       " 'major payne (1994)',\n",
       " 'senseless (1998)',\n",
       " 'beverly hillbillies, the (1993)',\n",
       " 'meet wally sparks (1997)',\n",
       " 'house arrest (1996)']"
      ]
     },
     "execution_count": 39,
     "metadata": {},
     "output_type": "execute_result"
    }
   ],
   "source": [
    "get_similar_title('jury duty (1995)')"
   ]
  },
  {
   "cell_type": "markdown",
   "id": "traditional-county",
   "metadata": {},
   "source": [
    "- jury duty (1995) 처럼  영화 title에 나와있는 연도를 같이 입력해야 오류가 나지 않았다."
   ]
  },
  {
   "cell_type": "markdown",
   "id": "hourly-morocco",
   "metadata": {},
   "source": [
    "### 7) 내가 좋아하는 영화와 비슷한 영화를 추천받아 봅시다.\n",
    "- AlternatingLeastSquares 클래스에 구현되어 있는 recommend 메서드를 통하여 추천받기"
   ]
  },
  {
   "cell_type": "code",
   "execution_count": 40,
   "id": "opposed-factor",
   "metadata": {},
   "outputs": [
    {
     "data": {
      "text/plain": [
       "[(201, 0.005202425),\n",
       " (112, 0.0041479394),\n",
       " (2944, 0.004036421),\n",
       " (903, 0.00403239),\n",
       " (941, 0.003979883),\n",
       " (1832, 0.0038826996),\n",
       " (1689, 0.0038427643),\n",
       " (1642, 0.0037763957),\n",
       " (1945, 0.0037159328),\n",
       " (2555, 0.0037061577),\n",
       " (2741, 0.0036791135),\n",
       " (2410, 0.0036393022),\n",
       " (53, 0.0036045401),\n",
       " (1459, 0.003603512),\n",
       " (73, 0.003578944),\n",
       " (2384, 0.003575331),\n",
       " (2082, 0.0035083618),\n",
       " (1423, 0.0034885597),\n",
       " (131, 0.0034760039),\n",
       " (683, 0.0034509879)]"
      ]
     },
     "execution_count": 40,
     "metadata": {},
     "output_type": "execute_result"
    }
   ],
   "source": [
    "user = user_to_idx['sanghee']\n",
    "# recommend에서는 user*item CSR Matrix를 받습니다.\n",
    "title_recommended = als_model.recommend(user, csr_data, N=20, filter_already_liked_items=True)\n",
    "title_recommended"
   ]
  },
  {
   "cell_type": "code",
   "execution_count": 41,
   "id": "casual-fifth",
   "metadata": {},
   "outputs": [
    {
     "data": {
      "text/plain": [
       "['sixth sense, the (1999)',\n",
       " 'l.a. confidential (1997)',\n",
       " 'thieves (voleurs, les) (1996)',\n",
       " 'beautiful thing (1996)',\n",
       " 'drunken master (zui quan) (1979)',\n",
       " 'pillow book, the (1995)',\n",
       " 'jude (1996)',\n",
       " 'children of heaven, the (bacheha-ye aseman) (1997)',\n",
       " 'great white hype, the (1996)',\n",
       " 'before and after (1996)',\n",
       " 'return of the fly (1959)',\n",
       " 'hollow reed (1996)',\n",
       " 'back to the future (1985)',\n",
       " 'sanjuro (1962)',\n",
       " 'shakespeare in love (1998)',\n",
       " 'wild reeds (1994)',\n",
       " 'alphaville (1965)',\n",
       " 'when night is falling (1995)',\n",
       " 'fight club (1999)',\n",
       " 'blues brothers 2000 (1998)']"
      ]
     },
     "execution_count": 41,
     "metadata": {},
     "output_type": "execute_result"
    }
   ],
   "source": [
    "# title_to_idx 를 뒤집어, index로부터 title_ 이름을 얻는 dict를 생성합니다. \n",
    "[idx_to_title[i[0]] for i in title_recommended]"
   ]
  },
  {
   "cell_type": "markdown",
   "id": "cognitive-senate",
   "metadata": {},
   "source": [
    "### 8) 내가 가장 좋아할 만한 영화들을 추천받아 봅시다."
   ]
  },
  {
   "cell_type": "code",
   "execution_count": 42,
   "id": "future-budget",
   "metadata": {},
   "outputs": [],
   "source": [
    "# 영화 once 입력했을때\n",
    "once = title_to_idx['once']\n",
    "explain = als_model.explain(user, csr_data, itemid=once)"
   ]
  },
  {
   "cell_type": "code",
   "execution_count": 44,
   "id": "hundred-battery",
   "metadata": {},
   "outputs": [
    {
     "data": {
      "text/plain": [
       "[('the lord of the rings', 7.25777602095248e-05),\n",
       " ('once', 5.9433024955571665e-05),\n",
       " ('the greatest showman', 5.053282804658249e-05),\n",
       " ('farinelli', 4.860932357362135e-05),\n",
       " ('shine', 4.704103556680748e-05)]"
      ]
     },
     "execution_count": 44,
     "metadata": {},
     "output_type": "execute_result"
    }
   ],
   "source": [
    "[(idx_to_title[i[0]], i[1]) for i in explain[1]]"
   ]
  },
  {
   "cell_type": "code",
   "execution_count": 45,
   "id": "electronic-orleans",
   "metadata": {},
   "outputs": [],
   "source": [
    "# 추천 받은 리스트중 임의로 sixth sense, the (1999) 을 입력 했을때\n",
    "once = title_to_idx['sixth sense, the (1999)']\n",
    "explain = als_model.explain(user, csr_data, itemid=once)"
   ]
  },
  {
   "cell_type": "code",
   "execution_count": 46,
   "id": "solved-accountability",
   "metadata": {},
   "outputs": [
    {
     "data": {
      "text/plain": [
       "[('the greatest showman', 0.0007911399508540435),\n",
       " ('once', 0.000786743858906502),\n",
       " ('the lord of the rings', 0.0007756582526081869),\n",
       " ('shine', 0.0006895841970327899),\n",
       " ('farinelli', 0.0006611503177752383)]"
      ]
     },
     "execution_count": 46,
     "metadata": {},
     "output_type": "execute_result"
    }
   ],
   "source": [
    "[(idx_to_title[i[0]], i[1]) for i in explain[1]]"
   ]
  },
  {
   "cell_type": "markdown",
   "id": "stupid-citizen",
   "metadata": {},
   "source": [
    "#### 루브릭\n",
    "- CSR matrix가 정상적으로 만들어졌다. 사용자와 아이템 개수를 바탕으로 정확한 사이즈로 만들었다.\n",
    "- MF 모델이 정상적으로 훈련되어 그럴듯한 추천이 이루어졌다.사용자와 아이템 벡터 내적수치가 의미있게 형성되었다.\n",
    "- 비슷한 영화 찾기와 유저에게 추천하기의 과정이 정상적으로 진행되었다. MF모델이 예측한 유저 선호도 및 아이템간 유사도, 기여도가 의미있게 측정되었다."
   ]
  },
  {
   "cell_type": "markdown",
   "id": "ready-subscription",
   "metadata": {},
   "source": [
    "## 회고\n",
    "\n",
    "- 분석하기 에서 groupby 실행 하는데 4번 실패 하였다. 추후 스터디에 참여하여 복습할 예정이다. \n",
    "- 정상적으로  인덱싱이 성공할 경우 데이터 컬럼내 값을 user_id & title 숫자로 변경되는것이 신기 하였다.\n",
    "- 영화명이 긴 경우 title_to_idx에는 영화명 그대로를,  als_model.item_factors[the_greatest_showman] 사이에는 언더바를 붙여야 오류가 나지 않았다.\n",
    "- 추천받은 영화 리스트중 내가 작성하지 않은 5개외의 영화명을 입력함에도 내가 입력한 5개 영화와 동일해서 감탄 하였다. \n",
    "- 추천 받은 영화 리스트가 최신이 아니다 보니 나의 최근 변화된 영화 선호도를 확인하지 못한것이 좀 아쉬웠다."
   ]
  }
 ],
 "metadata": {
  "kernelspec": {
   "display_name": "Python 3",
   "language": "python",
   "name": "python3"
  },
  "language_info": {
   "codemirror_mode": {
    "name": "ipython",
    "version": 3
   },
   "file_extension": ".py",
   "mimetype": "text/x-python",
   "name": "python",
   "nbconvert_exporter": "python",
   "pygments_lexer": "ipython3",
   "version": "3.7.9"
  }
 },
 "nbformat": 4,
 "nbformat_minor": 5
}
